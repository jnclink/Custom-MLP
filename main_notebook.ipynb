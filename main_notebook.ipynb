{
 "cells": [
  {
   "cell_type": "markdown",
   "id": "4050c5b2",
   "metadata": {},
   "source": [
    "<center><h1>Custom-MLP</h1></center>\n",
    "<center><h3>Implementing a Multi-Layer Perceptron (MLP) from scratch</h3></center>\n",
    "<center><h4><i>NumPy is all you need</i></h4></center>"
   ]
  },
  {
   "cell_type": "markdown",
   "id": "bba7d733",
   "metadata": {},
   "source": [
    "<br/>"
   ]
  },
  {
   "cell_type": "markdown",
   "id": "d1b35cde",
   "metadata": {},
   "source": [
    "## Imports"
   ]
  },
  {
   "cell_type": "code",
   "execution_count": 1,
   "id": "70a5dad6",
   "metadata": {},
   "outputs": [],
   "source": [
    "from utils import (\n",
    "    set_global_datatype,\n",
    "    print_confusion_matrix\n",
    ")\n",
    "\n",
    "from mnist_dataset import (\n",
    "    load_raw_MNIST_dataset_from_disk,\n",
    "    plot_random_images_from_raw_MNIST_dataset,\n",
    "    format_raw_MNIST_dataset\n",
    ")\n",
    "\n",
    "from network import Network\n",
    "\n",
    "from layers import (\n",
    "    InputLayer,\n",
    "    DenseLayer,\n",
    "    ActivationLayer,\n",
    "    BatchNormLayer,\n",
    "    DropoutLayer\n",
    ")"
   ]
  },
  {
   "cell_type": "markdown",
   "id": "4256525c",
   "metadata": {},
   "source": [
    "<br/>"
   ]
  },
  {
   "cell_type": "markdown",
   "id": "65f75dc2",
   "metadata": {},
   "source": [
    "## Defining the datatype of *all* the data that will flow through the network"
   ]
  },
  {
   "cell_type": "markdown",
   "id": "c12670a9",
   "metadata": {},
   "source": [
    "For now, the only accepted datatypes are `float32` (default) and `float64` :"
   ]
  },
  {
   "cell_type": "code",
   "execution_count": 2,
   "id": "b9101ff0",
   "metadata": {},
   "outputs": [],
   "source": [
    "# = \"float32\" (default) or \"float64\"\n",
    "datatype = \"float32\"\n",
    "\n",
    "set_global_datatype(datatype)"
   ]
  },
  {
   "cell_type": "markdown",
   "id": "62f19fa1",
   "metadata": {},
   "source": [
    "<br/>"
   ]
  },
  {
   "cell_type": "markdown",
   "id": "7365248a",
   "metadata": {},
   "source": [
    "## Variables that need to be manually defined (because they depend on the used dataset)"
   ]
  },
  {
   "cell_type": "code",
   "execution_count": 3,
   "id": "388a9f21",
   "metadata": {},
   "outputs": [],
   "source": [
    "# These variables are only related to the `Network.display_some_predictions`\n",
    "# method, called at the very end of this notebook\n",
    "\n",
    "samples_are_images = True\n",
    "\n",
    "if samples_are_images:\n",
    "    # Format : (height, width), (height, width, 1) or (height, width, 3)\n",
    "    #          (or `None` if the images are square-shaped, i.e. if their\n",
    "    #          shape is either NxN, NxNx1 or NxNx3)\n",
    "    default_image_shape = None"
   ]
  },
  {
   "cell_type": "markdown",
   "id": "99fa9ab8",
   "metadata": {},
   "source": [
    "<br/>"
   ]
  },
  {
   "cell_type": "markdown",
   "id": "e329c877",
   "metadata": {},
   "source": [
    "## Optional variables"
   ]
  },
  {
   "cell_type": "markdown",
   "id": "212f913a",
   "metadata": {},
   "source": [
    "Here, `selected_classes` can either be :\n",
    "- The string `\"all\"`, if you want to work with all the classes (default)\n",
    "- A list/tuple/1D-array containing the specific class indices you want to work with (e.g. `[2, 4, 7]`). Note that, for the MNIST data, the class indices are <ins>equivalent</ins> to the digits themselves"
   ]
  },
  {
   "cell_type": "code",
   "execution_count": 4,
   "id": "9d7099e0",
   "metadata": {},
   "outputs": [],
   "source": [
    "selected_classes = \"all\""
   ]
  },
  {
   "cell_type": "markdown",
   "id": "ef398054",
   "metadata": {},
   "source": [
    "If not set to `None`, `dict_of_real_class_names` is a dictionary with :\n",
    "- As its keys   : **all** the selected class indices (as integers)\n",
    "- As its values : the **real** names of the associated classes (as strings)\n",
    "\n",
    "For instance, if you set `selected_classes` to `[2, 4, 7]`, then you could, for instance, set `dict_of_real_class_names` to the following dictionary :\n",
    "`dict_of_real_class_names = {`<br>\n",
    "&nbsp;&nbsp;&nbsp;&nbsp;&nbsp;&nbsp;&nbsp;&nbsp;`2 : \"TWO\",`<br>\n",
    "&nbsp;&nbsp;&nbsp;&nbsp;&nbsp;&nbsp;&nbsp;&nbsp;`4 : \"FOUR\",`<br>\n",
    "&nbsp;&nbsp;&nbsp;&nbsp;&nbsp;&nbsp;&nbsp;&nbsp;`7 : \"SEVEN\"`<br>\n",
    "`}`\n",
    "\n",
    "By default, if `dict_of_real_class_names` is set to `None`, then the class names will simply be the string representations of the selected class indices :"
   ]
  },
  {
   "cell_type": "code",
   "execution_count": 5,
   "id": "b445aa65",
   "metadata": {},
   "outputs": [],
   "source": [
    "dict_of_real_class_names = None"
   ]
  },
  {
   "cell_type": "markdown",
   "id": "456f951b",
   "metadata": {},
   "source": [
    "</br>"
   ]
  },
  {
   "cell_type": "markdown",
   "id": "02869d0a",
   "metadata": {},
   "source": [
    "## Loading and formatting the data"
   ]
  },
  {
   "cell_type": "markdown",
   "id": "33d37456",
   "metadata": {},
   "source": [
    "The following seed is currently used to :\n",
    "- Randomly split the raw data into the \"train/test\" or \"train/val/test\" sets\n",
    "- Randomly shuffle the \"train/test\" or \"train/val/test\" sets\n",
    "\n",
    "Set this seed to `None` for \"real\" randomness during those 2 processes :"
   ]
  },
  {
   "cell_type": "code",
   "execution_count": 6,
   "id": "c441debd",
   "metadata": {},
   "outputs": [],
   "source": [
    "seed_data_formatting = 555"
   ]
  },
  {
   "cell_type": "markdown",
   "id": "ef0e07a7",
   "metadata": {},
   "source": [
    "Defining the number of samples in the \"train/test\" or \"train/val/test\" sets<br>\n",
    "**<ins>NB</ins>** : The validation set is extracted from the raw \"train\" data, not from the raw \"test\" data. As a reminder, for the MNIST dataset, there are :\n",
    "- 60000 samples in the raw \"train\" data **(if all the classes are selected)**\n",
    "- 10000 samples in the raw \"test\" data **(if all the classes are selected)**"
   ]
  },
  {
   "cell_type": "code",
   "execution_count": 7,
   "id": "96009827",
   "metadata": {},
   "outputs": [],
   "source": [
    "nb_train_samples = 10000\n",
    "nb_val_samples   = 1000 # can be set to zero if needed\n",
    "nb_test_samples  = 1000"
   ]
  },
  {
   "cell_type": "markdown",
   "id": "e3dc049d",
   "metadata": {},
   "source": [
    "Loading the raw data :"
   ]
  },
  {
   "cell_type": "code",
   "execution_count": 8,
   "id": "75a89bb3",
   "metadata": {},
   "outputs": [
    {
     "name": "stdout",
     "output_type": "stream",
     "text": [
      "\n",
      "Shapes of the raw MNIST data :\n",
      "    - X_train : (60000, 28, 28)\n",
      "    - y_train : (60000,)\n",
      "    - X_test  : (10000, 28, 28)\n",
      "    - y_test  : (10000,)\n",
      "\n",
      "Types of the raw MNIST data :\n",
      "    - X_train : numpy.uint8\n",
      "    - y_train : numpy.uint8\n",
      "    - X_test  : numpy.uint8\n",
      "    - y_test  : numpy.uint8\n",
      "\n",
      "Ranges of the raw MNIST data :\n",
      "    - X_train : 0 -> 255\n",
      "    - y_train : 0 -> 9\n",
      "    - X_test  : 0 -> 255\n",
      "    - y_test  : 0 -> 9\n",
      "\n",
      "Distribution of the class indices :\n",
      "\n",
      "y_train :\n",
      "    0 --> 09.87 %\n",
      "    1 --> 11.24 %\n",
      "    2 --> 09.93 %\n",
      "    3 --> 10.22 %\n",
      "    4 --> 09.74 %\n",
      "    5 --> 09.04 %\n",
      "    6 --> 09.86 %\n",
      "    7 --> 10.44 %\n",
      "    8 --> 09.75 %\n",
      "    9 --> 09.91 %\n",
      "y_test :\n",
      "    0 --> 09.80 %\n",
      "    1 --> 11.35 %\n",
      "    2 --> 10.32 %\n",
      "    3 --> 10.10 %\n",
      "    4 --> 09.82 %\n",
      "    5 --> 08.92 %\n",
      "    6 --> 09.58 %\n",
      "    7 --> 10.28 %\n",
      "    8 --> 09.74 %\n",
      "    9 --> 10.09 %\n",
      "\n",
      "The raw MNIST dataset was successfully loaded from the disk. Done in 0.328 seconds\n"
     ]
    }
   ],
   "source": [
    "raw_X_train, raw_y_train, raw_X_test, raw_y_test = load_raw_MNIST_dataset_from_disk(\n",
    "    verbose=True\n",
    ")"
   ]
  },
  {
   "cell_type": "markdown",
   "id": "5915aedd",
   "metadata": {},
   "source": [
    "Plotting random samples of each digit (from the raw data) :"
   ]
  },
  {
   "cell_type": "code",
   "execution_count": 9,
   "id": "9e685725",
   "metadata": {},
   "outputs": [
    {
     "data": {
      "image/png": "[encoded data removed]",
      "text/plain": [
       "<Figure size 1152x576 with 10 Axes>"
      ]
     },
     "metadata": {
      "needs_background": "light"
     },
     "output_type": "display_data"
    }
   ],
   "source": [
    "plot_random_images_from_raw_MNIST_dataset(\n",
    "    raw_X_train,\n",
    "    raw_y_train,\n",
    "    raw_X_test,\n",
    "    raw_y_test,\n",
    "    seed=None\n",
    ")"
   ]
  },
  {
   "cell_type": "markdown",
   "id": "ecb4002f",
   "metadata": {},
   "source": [
    "Formatting the raw data :"
   ]
  },
  {
   "cell_type": "code",
   "execution_count": 10,
   "id": "88645121",
   "metadata": {},
   "outputs": [
    {
     "name": "stdout",
     "output_type": "stream",
     "text": [
      "\n",
      "Shapes of the formatted MNIST data :\n",
      "    - X_train : (10000, 784)\n",
      "    - y_train : (10000, 10)\n",
      "    - X_val   : (1000, 784)\n",
      "    - y_val   : (1000, 10)\n",
      "    - X_test  : (1000, 784)\n",
      "    - y_test  : (1000, 10)\n",
      "\n",
      "Types of the formatted MNIST data :\n",
      "    - X_train : numpy.float32\n",
      "    - y_train : numpy.float32\n",
      "    - X_val   : numpy.float32\n",
      "    - y_val   : numpy.float32\n",
      "    - X_test  : numpy.float32\n",
      "    - y_test  : numpy.float32\n",
      "\n",
      "Ranges of the formatted MNIST data :\n",
      "    - X_train : 0.000 -> 1.000 (mean=0.131, std=0.308)\n",
      "    - y_train : 0.000 -> 1.000 (one-hot encoded)\n",
      "    - X_val   : 0.000 -> 1.000 (mean=0.130, std=0.308)\n",
      "    - y_val   : 0.000 -> 1.000 (one-hot encoded)\n",
      "    - X_test  : 0.000 -> 1.000 (mean=0.132, std=0.310)\n",
      "    - y_test  : 0.000 -> 1.000 (one-hot encoded)\n",
      "\n",
      "Distribution of the class indices :\n",
      "\n",
      "y_train :\n",
      "    0 --> 09.87 %\n",
      "    1 --> 11.24 %\n",
      "    2 --> 09.93 %\n",
      "    3 --> 10.22 %\n",
      "    4 --> 09.74 %\n",
      "    5 --> 09.03 %\n",
      "    6 --> 09.86 %\n",
      "    7 --> 10.44 %\n",
      "    8 --> 09.75 %\n",
      "    9 --> 09.92 %\n",
      "y_val :\n",
      "    0 --> 09.90 %\n",
      "    1 --> 11.20 %\n",
      "    2 --> 09.90 %\n",
      "    3 --> 10.20 %\n",
      "    4 --> 09.70 %\n",
      "    5 --> 09.00 %\n",
      "    6 --> 09.90 %\n",
      "    7 --> 10.50 %\n",
      "    8 --> 09.80 %\n",
      "    9 --> 09.90 %\n",
      "y_test :\n",
      "    0 --> 09.80 %\n",
      "    1 --> 11.40 %\n",
      "    2 --> 10.30 %\n",
      "    3 --> 10.10 %\n",
      "    4 --> 09.80 %\n",
      "    5 --> 08.90 %\n",
      "    6 --> 09.60 %\n",
      "    7 --> 10.30 %\n",
      "    8 --> 09.70 %\n",
      "    9 --> 10.10 %\n",
      "\n",
      "The raw MNIST dataset was successfully formatted. Done in 0.257 seconds\n"
     ]
    }
   ],
   "source": [
    "# NB : If you set `nb_val_samples` to zero, `X_val` and `y_val` will both\n",
    "#      be equal to `None`\n",
    "X_train, y_train, X_val, y_val, X_test, y_test = format_raw_MNIST_dataset(\n",
    "    raw_X_train,\n",
    "    raw_y_train,\n",
    "    raw_X_test,\n",
    "    raw_y_test,\n",
    "    nb_train_samples,\n",
    "    nb_val_samples,\n",
    "    nb_test_samples,\n",
    "    selected_classes=selected_classes,\n",
    "    dict_of_real_class_names=dict_of_real_class_names,\n",
    "    nb_shuffles=20,\n",
    "    seed=seed_data_formatting,\n",
    "    verbose=True\n",
    ")"
   ]
  },
  {
   "cell_type": "markdown",
   "id": "c619f77b",
   "metadata": {},
   "source": [
    "</br>"
   ]
  },
  {
   "cell_type": "markdown",
   "id": "f2a55b55",
   "metadata": {},
   "source": [
    "## Checking the formatted data"
   ]
  },
  {
   "cell_type": "markdown",
   "id": "07bd802f",
   "metadata": {},
   "source": [
    "**<ins>NB</ins>** : Assuming your data meets all the conditons described in the `README`, you don't need to change anything in this section"
   ]
  },
  {
   "cell_type": "code",
   "execution_count": 11,
   "id": "9fd8f17e",
   "metadata": {},
   "outputs": [],
   "source": [
    "# Checking the validity of `X_train`, `y_train`, `X_test` and `y_test`,\n",
    "# and returning their \"corrected\" counterparts\n",
    "\n",
    "try:\n",
    "    X_train, y_train, _ = Network._validate_data(X_train, y_train)\n",
    "    X_test,  y_test,  _ = Network._validate_data(X_test,  y_test)\n",
    "    \n",
    "    assert X_train.shape[1] == X_test.shape[1], \"X_train and X_test don't have the same number of features per sample !\"\n",
    "    assert y_train.shape[1] == y_test.shape[1], \"y_train and y_test don't have the same number of classes !\"\n",
    "except (UnboundLocalError, NameError):\n",
    "    raise Exception(\"Some training and/or testing data is not defined !\")"
   ]
  },
  {
   "cell_type": "code",
   "execution_count": 12,
   "id": "3412730b",
   "metadata": {},
   "outputs": [],
   "source": [
    "# Checking the validity of `X_val` and `y_val` (if they exist, and are both\n",
    "# not equal to `None`), and returning their \"corrected\" counterparts\n",
    "\n",
    "try:\n",
    "    if (X_val is not None) and (y_val is not None):\n",
    "        X_val, y_val, _ = Network._validate_data(X_val, y_val)\n",
    "        \n",
    "        assert X_train.shape[1] == X_val.shape[1], \"X_train and X_val don't have the same number of features per sample !\"\n",
    "        assert y_train.shape[1] == y_val.shape[1], \"y_train and y_val don't have the same number of classes !\"\n",
    "    else:\n",
    "        X_val, y_val = None, None\n",
    "except (UnboundLocalError, NameError):\n",
    "    # Here, it simply means that the validation data is not defined (which\n",
    "    # isn't a problem, since it's optional)\n",
    "    X_val, y_val = None, None\n",
    "\n",
    "assert (\"X_val\" in locals()) and (\"y_val\" in locals())"
   ]
  },
  {
   "cell_type": "markdown",
   "id": "35ba8fbc",
   "metadata": {},
   "source": [
    "</br>"
   ]
  },
  {
   "cell_type": "markdown",
   "id": "2fa502a3",
   "metadata": {},
   "source": [
    "## Defining the input and output sizes of the network (respectively)"
   ]
  },
  {
   "cell_type": "code",
   "execution_count": 13,
   "id": "bdb9da17",
   "metadata": {},
   "outputs": [
    {
     "data": {
      "text/plain": [
       "784"
      ]
     },
     "execution_count": 13,
     "metadata": {},
     "output_type": "execute_result"
    }
   ],
   "source": [
    "# Input size = `nb_features_per_sample`\n",
    "nb_features_per_sample = X_train.shape[1]\n",
    "\n",
    "nb_features_per_sample"
   ]
  },
  {
   "cell_type": "code",
   "execution_count": 14,
   "id": "d839c54f",
   "metadata": {},
   "outputs": [
    {
     "data": {
      "text/plain": [
       "10"
      ]
     },
     "execution_count": 14,
     "metadata": {},
     "output_type": "execute_result"
    }
   ],
   "source": [
    "# Output size = `nb_classes` = number of (distinct) selected class indices\n",
    "nb_classes = y_train.shape[1]\n",
    "\n",
    "nb_classes"
   ]
  },
  {
   "cell_type": "markdown",
   "id": "df8a4a8a",
   "metadata": {},
   "source": [
    "<br/>"
   ]
  },
  {
   "cell_type": "markdown",
   "id": "3e89f77c",
   "metadata": {},
   "source": [
    "## Defining the hyperparameters of the Multi-Layer Perceptron (MLP) network"
   ]
  },
  {
   "cell_type": "markdown",
   "id": "9d80542c",
   "metadata": {},
   "source": [
    "The following seed is currently used to :<br>\n",
    "- Randomly initialize the weights and biases of the Dense layers\n",
    "- Randomly generate the dropout matrices of the Dropout layers (if these layers are used)\n",
    "- Randomly split the training data into batches during the training phase (at each epoch)\n",
    "\n",
    "Set this seed to `None` for \"real\" randomness during those 3 processes :"
   ]
  },
  {
   "cell_type": "code",
   "execution_count": 15,
   "id": "02027eaa",
   "metadata": {},
   "outputs": [],
   "source": [
    "seed_network = 7777"
   ]
  },
  {
   "cell_type": "markdown",
   "id": "7903014b",
   "metadata": {},
   "source": [
    "**<ins>Main hyperparameters</ins> :**"
   ]
  },
  {
   "cell_type": "code",
   "execution_count": 16,
   "id": "03673d64",
   "metadata": {},
   "outputs": [],
   "source": [
    "# Number of times the trainable parameters will be updated using the WHOLE\n",
    "# training data\n",
    "nb_epochs = 10\n",
    "\n",
    "# If you lower the batch size, you might also want to lower the learning\n",
    "# rate (to prevent the network from overfitting)\n",
    "train_batch_size = 40\n",
    "\n",
    "# The learning rate has to lie in the range ]0, 1[\n",
    "learning_rate = 0.15\n",
    "\n",
    "# In chronological order\n",
    "nb_neurons_in_hidden_dense_layers = [\n",
    "    256,\n",
    "    64,\n",
    "    32\n",
    "]\n",
    "\n",
    "# Relevant choices here : \"ReLU\", \"leaky_ReLU\" or \"tanh\". The main\n",
    "# activation name is case insensitive\n",
    "main_activation_name = \"ReLU\"\n",
    "\n",
    "if main_activation_name.strip().lower() == \"leaky_relu\":\n",
    "    # Defining the \"leaky ReLU coefficient\" (default value : 0.01). It has\n",
    "    # to lie in the range ]0, 1[\n",
    "    activation_kwargs = {\n",
    "        \"leaky_ReLU_coeff\" : 0.01\n",
    "    }\n",
    "else:\n",
    "    activation_kwargs = {}\n",
    "\n",
    "# Relevant choices here : \"softmax\" or \"sigmoid\". The output activation\n",
    "# name is case insensitive\n",
    "output_activation_name = \"softmax\""
   ]
  },
  {
   "cell_type": "markdown",
   "id": "cc66a414",
   "metadata": {},
   "source": [
    "The BatchNorm layer is a regularization layer that helps prevent overfitting (without necessarily improving the overall accuracy of the network). It basically standardizes (i.e. it normalizes with a mean of 0 and a standard deviation of 1) the outputs of the previous layer, and then applies an affine transform to the standardized outputs. The 2 parameters of the affine transform (typically called `gamma` and `beta`) are the trainable parameters of the layer :"
   ]
  },
  {
   "cell_type": "code",
   "execution_count": 17,
   "id": "3eced0c1",
   "metadata": {},
   "outputs": [],
   "source": [
    "use_batch_norm_layers = False"
   ]
  },
  {
   "cell_type": "markdown",
   "id": "8f895c41",
   "metadata": {},
   "source": [
    "Just like the BatchNorm layer, the Dropout layer is a regularization layer that helps prevent overfitting, without necessarily improving the overall accuracy of the network. Basically, it randomly sets input values to 0 with a frequency of `dropout_rate` at each step during the training phase. This layer doesn't have any trainable parameters :"
   ]
  },
  {
   "cell_type": "code",
   "execution_count": 18,
   "id": "8b65f3d9",
   "metadata": {},
   "outputs": [],
   "source": [
    "use_dropout_layers = False\n",
    "dropout_rate = 0.30 # has to lie in the range ]0, 1["
   ]
  },
  {
   "cell_type": "markdown",
   "id": "385600cb",
   "metadata": {},
   "source": [
    "<br/>"
   ]
  },
  {
   "cell_type": "markdown",
   "id": "f2e5fec3",
   "metadata": {},
   "source": [
    "## Building the MLP network architecture from the previously defined hyperparameters"
   ]
  },
  {
   "cell_type": "markdown",
   "id": "1220ae0f",
   "metadata": {},
   "source": [
    "### Initializing the network"
   ]
  },
  {
   "cell_type": "markdown",
   "id": "ab6a0ece",
   "metadata": {},
   "source": [
    "If you set the `standardize_input_data` kwarg to `True`, the training, validation AND testing sets will be normalized such that their mean is 0 and their standard deviation is 1 (i.e. they will be standardized). It's HIGHLY recommended to set `normalize_input_data` to `True` here, in order to obtain better results :"
   ]
  },
  {
   "cell_type": "code",
   "execution_count": 19,
   "id": "96d5b8aa",
   "metadata": {},
   "outputs": [],
   "source": [
    "network = Network(standardize_input_data=True)"
   ]
  },
  {
   "cell_type": "markdown",
   "id": "a2f4c8f3",
   "metadata": {},
   "source": [
    "Input layer :"
   ]
  },
  {
   "cell_type": "code",
   "execution_count": 20,
   "id": "b8707a92",
   "metadata": {},
   "outputs": [],
   "source": [
    "network.add(InputLayer(input_size=nb_features_per_sample))"
   ]
  },
  {
   "cell_type": "markdown",
   "id": "5e7062c7",
   "metadata": {},
   "source": [
    "### Hidden layers"
   ]
  },
  {
   "cell_type": "code",
   "execution_count": 21,
   "id": "0ad05d1f",
   "metadata": {},
   "outputs": [],
   "source": [
    "seed = seed_network\n",
    "\n",
    "for hidden_layer_index, nb_neurons in enumerate(nb_neurons_in_hidden_dense_layers):\n",
    "    network.add(DenseLayer(nb_neurons, seed=seed))\n",
    "    \n",
    "    if use_batch_norm_layers:\n",
    "        # Adding a BatchNorm regularization layer (if requested)\n",
    "        network.add(BatchNormLayer())\n",
    "    \n",
    "    network.add(ActivationLayer(main_activation_name, **activation_kwargs))\n",
    "    \n",
    "    if use_dropout_layers:\n",
    "        # Adding a Dropout regularization layer (if requested)\n",
    "        network.add(DropoutLayer(dropout_rate, seed=seed))\n",
    "    \n",
    "    if seed is not None:\n",
    "        # updating the seed such that the \"randomness\" in the added\n",
    "        # Dense/Dropout layers is different each time (in case 2\n",
    "        # consecutive values of `nb_neurons` are the same)\n",
    "        seed += 1"
   ]
  },
  {
   "cell_type": "markdown",
   "id": "3ceeda95",
   "metadata": {},
   "source": [
    "### Output layers"
   ]
  },
  {
   "cell_type": "code",
   "execution_count": 22,
   "id": "4b61af58",
   "metadata": {},
   "outputs": [],
   "source": [
    "if seed_network is not None:\n",
    "    assert seed == seed_network + len(nb_neurons_in_hidden_dense_layers)\n",
    "\n",
    "network.add(DenseLayer(nb_classes, seed=seed))\n",
    "network.add(ActivationLayer(output_activation_name))"
   ]
  },
  {
   "cell_type": "markdown",
   "id": "280efbb0",
   "metadata": {},
   "source": [
    "### Displaying the summary of the network's architecture"
   ]
  },
  {
   "cell_type": "code",
   "execution_count": 23,
   "id": "d7ba7c8f",
   "metadata": {},
   "outputs": [
    {
     "name": "stdout",
     "output_type": "stream",
     "text": [
      "\n",
      " ***********************************************************************************************\n",
      " *                                                                                             *\n",
      " *                                       NETWORK SUMMARY                                       *\n",
      " *                                                                                             *\n",
      " *    |  Layer                  |  Input shape  |  Output shape  |  Trainable parameters  |    *\n",
      " *    |-------------------------|---------------|----------------|------------------------|    *\n",
      " *    |  Input(784)             |  (None, 784)  |  (None, 784)   |  0                     |    *\n",
      " *    |  Dense(256)             |  (None, 784)  |  (None, 256)   |  200,960               |    *\n",
      " *    |  Activation(\"relu\")     |  (None, 256)  |  (None, 256)   |  0                     |    *\n",
      " *    |  Dense(64)              |  (None, 256)  |  (None, 64)    |  16,448                |    *\n",
      " *    |  Activation(\"relu\")     |  (None, 64)   |  (None, 64)    |  0                     |    *\n",
      " *    |  Dense(32)              |  (None, 64)   |  (None, 32)    |  2,080                 |    *\n",
      " *    |  Activation(\"relu\")     |  (None, 32)   |  (None, 32)    |  0                     |    *\n",
      " *    |  Dense(10)              |  (None, 32)   |  (None, 10)    |  330                   |    *\n",
      " *    |  Activation(\"softmax\")  |  (None, 10)   |  (None, 10)    |  0                     |    *\n",
      " *                                                                                             *\n",
      " *                       Total number of trainable parameters : 219,818                        *\n",
      " *                                                                                             *\n",
      " ***********************************************************************************************\n"
     ]
    }
   ],
   "source": [
    "# NB : The kwargs of this method will only affect how the summary will look\n",
    "#      like when it's printed (they won't affect the summary's contents)\n",
    "network.summary(\n",
    "    column_separator=\"|\",        # can be multiple characters long\n",
    "    row_separator=\"-\",           # has to be a single character\n",
    "    bounding_box=\"*\",            # has to be a single character\n",
    "    alignment=\"left\",            # = \"left\" (default), \"right\" or \"center\"\n",
    "    transition_row_style=\"full\", # = \"full\" (default) or \"partial\"\n",
    "    column_spacing=2,\n",
    "    horizontal_spacing=4,\n",
    "    vertical_spacing=1,\n",
    "    offset_spacing=1\n",
    ")\n",
    "\n",
    "# Or, equivalently, you can run `network.summary()` or `print(network)`"
   ]
  },
  {
   "cell_type": "markdown",
   "id": "6a3e3614",
   "metadata": {},
   "source": [
    "</br>"
   ]
  },
  {
   "cell_type": "markdown",
   "id": "b08c3371",
   "metadata": {},
   "source": [
    "## Setting the loss function of the network"
   ]
  },
  {
   "cell_type": "code",
   "execution_count": 24,
   "id": "902322ee",
   "metadata": {},
   "outputs": [],
   "source": [
    "# Relevant choices here : \"CCE\" (Categorical Cross-Entropy) or \"MSE\" (Mean\n",
    "# Squared Error). The loss function name is case insensitive\n",
    "loss_function_name = \"CCE\"\n",
    "\n",
    "network.set_loss_function(loss_function_name)"
   ]
  },
  {
   "cell_type": "markdown",
   "id": "f334ae55",
   "metadata": {},
   "source": [
    "<br/>"
   ]
  },
  {
   "cell_type": "markdown",
   "id": "b75f3c89",
   "metadata": {},
   "source": [
    "## Training phase"
   ]
  },
  {
   "cell_type": "markdown",
   "id": "c7c9b18b",
   "metadata": {},
   "source": [
    "**<ins>NB</ins>** : Here, inputting validation data is **optional**. If you don't want to use validation data, please (at least) set the `validation_data` kwarg to `None` (or don't specify it at all) :"
   ]
  },
  {
   "cell_type": "code",
   "execution_count": 25,
   "id": "6047437b",
   "metadata": {
    "scrolled": true
   },
   "outputs": [
    {
     "name": "stdout",
     "output_type": "stream",
     "text": [
      "\n",
      "# ------------------------------------------------------------------------------------------------------------- #\n",
      "\n",
      "     Starting the training loop ...\n",
      "\n",
      "     epoch 01/10  -  train_loss=0.7570  -  val_loss=0.3366  -  train_accuracy=0.7769  -  val_accuracy=0.9040                                          \n",
      "     epoch 02/10  -  train_loss=0.2779  -  val_loss=0.2370  -  train_accuracy=0.9193  -  val_accuracy=0.9310                                          \n",
      "     epoch 03/10  -  train_loss=0.1939  -  val_loss=0.2134  -  train_accuracy=0.9505  -  val_accuracy=0.9410                                          \n",
      "     epoch 04/10  -  train_loss=0.1506  -  val_loss=0.1898  -  train_accuracy=0.9638  -  val_accuracy=0.9450                                          \n",
      "     epoch 05/10  -  train_loss=0.1182  -  val_loss=0.1681  -  train_accuracy=0.9711  -  val_accuracy=0.9510                                          \n",
      "     epoch 06/10  -  train_loss=0.0963  -  val_loss=0.1524  -  train_accuracy=0.9793  -  val_accuracy=0.9570                                          \n",
      "     epoch 07/10  -  train_loss=0.0810  -  val_loss=0.1492  -  train_accuracy=0.9849  -  val_accuracy=0.9560                                          \n",
      "     epoch 08/10  -  train_loss=0.0672  -  val_loss=0.1532  -  train_accuracy=0.9884  -  val_accuracy=0.9560                                          \n",
      "     epoch 09/10  -  train_loss=0.0581  -  val_loss=0.1461  -  train_accuracy=0.9915  -  val_accuracy=0.9590                                          \n",
      "     epoch 10/10  -  train_loss=0.0507  -  val_loss=0.1385  -  train_accuracy=0.9927  -  val_accuracy=0.9560                                          \n",
      "\n",
      "     Training complete !\n",
      "\n",
      "     Done in 24.6 seconds (2.5 s/epoch, 8.7 ms/batch)\n",
      "\n",
      "# ------------------------------------------------------------------------------------------------------------- #\n"
     ]
    }
   ],
   "source": [
    "if (X_val is not None) and (y_val is not None):\n",
    "    validation_kwargs = {\n",
    "        \"validation_data\" : (X_val, y_val), # can be set to `None` if needed\n",
    "        \"val_batch_size\"  : 32              # default value\n",
    "    }\n",
    "else:\n",
    "    validation_kwargs = {}\n",
    "\n",
    "# If you set the `enable_checks` kwarg to `False` (to speed up the training),\n",
    "# please first make sure your network runs a couple of epochs without errors\n",
    "# when the same kwarg is set to `True`. This comment is only relevant to\n",
    "# whoever wants to change some features of the project (or add some more !)\n",
    "\n",
    "network.fit(\n",
    "    X_train,\n",
    "    y_train,\n",
    "    nb_epochs,\n",
    "    train_batch_size,\n",
    "    learning_rate,\n",
    "    nb_shuffles_before_each_train_batch_split=10,\n",
    "    seed_train_batch_splits=seed_network,\n",
    "    **validation_kwargs,\n",
    "    enable_checks=True\n",
    ")"
   ]
  },
  {
   "cell_type": "markdown",
   "id": "ac0b6fc2",
   "metadata": {},
   "source": [
    "<br/>"
   ]
  },
  {
   "cell_type": "markdown",
   "id": "e9c17e5b",
   "metadata": {},
   "source": [
    "## RESULTS"
   ]
  },
  {
   "cell_type": "markdown",
   "id": "e8250ee2",
   "metadata": {},
   "source": [
    "Plotting the network's history :"
   ]
  },
  {
   "cell_type": "code",
   "execution_count": 26,
   "id": "36817b77",
   "metadata": {},
   "outputs": [
    {
     "data": {
      "image/png": "[encoded data removed]",
      "text/plain": [
       "<Figure size 1152x576 with 2 Axes>"
      ]
     },
     "metadata": {
      "needs_background": "light"
     },
     "output_type": "display_data"
    }
   ],
   "source": [
    "# If the plot is saved, it will be saved as a PNG image (by default)\n",
    "network.plot_history(\n",
    "    save_plot_to_disk=False,\n",
    "    saved_image_name=\"network_history\"\n",
    ")"
   ]
  },
  {
   "cell_type": "markdown",
   "id": "ca9c55dc",
   "metadata": {},
   "source": [
    "Computing the global accuracy scores, the testing loss and the (raw) confusion matrix of the network :"
   ]
  },
  {
   "cell_type": "code",
   "execution_count": 27,
   "id": "0de53198",
   "metadata": {},
   "outputs": [],
   "source": [
    "# The \"top-N accuracy\" is defined as the proportion of the true classes\n",
    "# that lie within the `N` most probable predicted classes (here, `N` is\n",
    "# actually `top_N_accuracy`)\n",
    "top_N_accuracy = 2\n",
    "\n",
    "acc_score, top_N_acc_score, test_loss, conf_matrix = network.evaluate(\n",
    "    X_test,\n",
    "    y_test,\n",
    "    top_N_accuracy=top_N_accuracy,\n",
    "    test_batch_size=32 # default value\n",
    ")"
   ]
  },
  {
   "cell_type": "markdown",
   "id": "8604a368",
   "metadata": {},
   "source": [
    "Displaying the **<ins>confusion matrices</ins>** of the network :"
   ]
  },
  {
   "cell_type": "code",
   "execution_count": 28,
   "id": "f234936a",
   "metadata": {},
   "outputs": [
    {
     "name": "stdout",
     "output_type": "stream",
     "text": [
      "\n",
      "RAW CONFUSION MATRIX (normalized=\"no\") :\n"
     ]
    },
    {
     "data": {
      "text/html": [
       "<style type=\"text/css\">\n",
       "#T_3084e_ td:hover {\n",
       "  background-color: #73c476;\n",
       "}\n",
       "#T_3084e_row0_col0, #T_3084e_row1_col1, #T_3084e_row2_col2, #T_3084e_row3_col3, #T_3084e_row4_col4, #T_3084e_row5_col5, #T_3084e_row6_col6, #T_3084e_row7_col7, #T_3084e_row8_col8, #T_3084e_row9_col9 {\n",
       "  background-color: green;\n",
       "}\n",
       "</style>\n",
       "<table id=\"T_3084e_\">\n",
       "  <thead>\n",
       "    <tr>\n",
       "      <th class=\"index_name level0\" >PREDICTED</th>\n",
       "      <th class=\"col_heading level0 col0\" >0</th>\n",
       "      <th class=\"col_heading level0 col1\" >1</th>\n",
       "      <th class=\"col_heading level0 col2\" >2</th>\n",
       "      <th class=\"col_heading level0 col3\" >3</th>\n",
       "      <th class=\"col_heading level0 col4\" >4</th>\n",
       "      <th class=\"col_heading level0 col5\" >5</th>\n",
       "      <th class=\"col_heading level0 col6\" >6</th>\n",
       "      <th class=\"col_heading level0 col7\" >7</th>\n",
       "      <th class=\"col_heading level0 col8\" >8</th>\n",
       "      <th class=\"col_heading level0 col9\" >9</th>\n",
       "    </tr>\n",
       "    <tr>\n",
       "      <th class=\"index_name level0\" >ACTUAL</th>\n",
       "      <th class=\"blank col0\" >&nbsp;</th>\n",
       "      <th class=\"blank col1\" >&nbsp;</th>\n",
       "      <th class=\"blank col2\" >&nbsp;</th>\n",
       "      <th class=\"blank col3\" >&nbsp;</th>\n",
       "      <th class=\"blank col4\" >&nbsp;</th>\n",
       "      <th class=\"blank col5\" >&nbsp;</th>\n",
       "      <th class=\"blank col6\" >&nbsp;</th>\n",
       "      <th class=\"blank col7\" >&nbsp;</th>\n",
       "      <th class=\"blank col8\" >&nbsp;</th>\n",
       "      <th class=\"blank col9\" >&nbsp;</th>\n",
       "    </tr>\n",
       "  </thead>\n",
       "  <tbody>\n",
       "    <tr>\n",
       "      <th id=\"T_3084e_level0_row0\" class=\"row_heading level0 row0\" >0</th>\n",
       "      <td id=\"T_3084e_row0_col0\" class=\"data row0 col0\" >96</td>\n",
       "      <td id=\"T_3084e_row0_col1\" class=\"data row0 col1\" >1</td>\n",
       "      <td id=\"T_3084e_row0_col2\" class=\"data row0 col2\" >0</td>\n",
       "      <td id=\"T_3084e_row0_col3\" class=\"data row0 col3\" >0</td>\n",
       "      <td id=\"T_3084e_row0_col4\" class=\"data row0 col4\" >0</td>\n",
       "      <td id=\"T_3084e_row0_col5\" class=\"data row0 col5\" >0</td>\n",
       "      <td id=\"T_3084e_row0_col6\" class=\"data row0 col6\" >0</td>\n",
       "      <td id=\"T_3084e_row0_col7\" class=\"data row0 col7\" >0</td>\n",
       "      <td id=\"T_3084e_row0_col8\" class=\"data row0 col8\" >0</td>\n",
       "      <td id=\"T_3084e_row0_col9\" class=\"data row0 col9\" >1</td>\n",
       "    </tr>\n",
       "    <tr>\n",
       "      <th id=\"T_3084e_level0_row1\" class=\"row_heading level0 row1\" >1</th>\n",
       "      <td id=\"T_3084e_row1_col0\" class=\"data row1 col0\" >0</td>\n",
       "      <td id=\"T_3084e_row1_col1\" class=\"data row1 col1\" >113</td>\n",
       "      <td id=\"T_3084e_row1_col2\" class=\"data row1 col2\" >0</td>\n",
       "      <td id=\"T_3084e_row1_col3\" class=\"data row1 col3\" >0</td>\n",
       "      <td id=\"T_3084e_row1_col4\" class=\"data row1 col4\" >0</td>\n",
       "      <td id=\"T_3084e_row1_col5\" class=\"data row1 col5\" >0</td>\n",
       "      <td id=\"T_3084e_row1_col6\" class=\"data row1 col6\" >1</td>\n",
       "      <td id=\"T_3084e_row1_col7\" class=\"data row1 col7\" >0</td>\n",
       "      <td id=\"T_3084e_row1_col8\" class=\"data row1 col8\" >0</td>\n",
       "      <td id=\"T_3084e_row1_col9\" class=\"data row1 col9\" >0</td>\n",
       "    </tr>\n",
       "    <tr>\n",
       "      <th id=\"T_3084e_level0_row2\" class=\"row_heading level0 row2\" >2</th>\n",
       "      <td id=\"T_3084e_row2_col0\" class=\"data row2 col0\" >1</td>\n",
       "      <td id=\"T_3084e_row2_col1\" class=\"data row2 col1\" >1</td>\n",
       "      <td id=\"T_3084e_row2_col2\" class=\"data row2 col2\" >99</td>\n",
       "      <td id=\"T_3084e_row2_col3\" class=\"data row2 col3\" >0</td>\n",
       "      <td id=\"T_3084e_row2_col4\" class=\"data row2 col4\" >0</td>\n",
       "      <td id=\"T_3084e_row2_col5\" class=\"data row2 col5\" >0</td>\n",
       "      <td id=\"T_3084e_row2_col6\" class=\"data row2 col6\" >0</td>\n",
       "      <td id=\"T_3084e_row2_col7\" class=\"data row2 col7\" >1</td>\n",
       "      <td id=\"T_3084e_row2_col8\" class=\"data row2 col8\" >0</td>\n",
       "      <td id=\"T_3084e_row2_col9\" class=\"data row2 col9\" >1</td>\n",
       "    </tr>\n",
       "    <tr>\n",
       "      <th id=\"T_3084e_level0_row3\" class=\"row_heading level0 row3\" >3</th>\n",
       "      <td id=\"T_3084e_row3_col0\" class=\"data row3 col0\" >0</td>\n",
       "      <td id=\"T_3084e_row3_col1\" class=\"data row3 col1\" >0</td>\n",
       "      <td id=\"T_3084e_row3_col2\" class=\"data row3 col2\" >1</td>\n",
       "      <td id=\"T_3084e_row3_col3\" class=\"data row3 col3\" >93</td>\n",
       "      <td id=\"T_3084e_row3_col4\" class=\"data row3 col4\" >0</td>\n",
       "      <td id=\"T_3084e_row3_col5\" class=\"data row3 col5\" >3</td>\n",
       "      <td id=\"T_3084e_row3_col6\" class=\"data row3 col6\" >0</td>\n",
       "      <td id=\"T_3084e_row3_col7\" class=\"data row3 col7\" >2</td>\n",
       "      <td id=\"T_3084e_row3_col8\" class=\"data row3 col8\" >0</td>\n",
       "      <td id=\"T_3084e_row3_col9\" class=\"data row3 col9\" >2</td>\n",
       "    </tr>\n",
       "    <tr>\n",
       "      <th id=\"T_3084e_level0_row4\" class=\"row_heading level0 row4\" >4</th>\n",
       "      <td id=\"T_3084e_row4_col0\" class=\"data row4 col0\" >0</td>\n",
       "      <td id=\"T_3084e_row4_col1\" class=\"data row4 col1\" >0</td>\n",
       "      <td id=\"T_3084e_row4_col2\" class=\"data row4 col2\" >2</td>\n",
       "      <td id=\"T_3084e_row4_col3\" class=\"data row4 col3\" >0</td>\n",
       "      <td id=\"T_3084e_row4_col4\" class=\"data row4 col4\" >92</td>\n",
       "      <td id=\"T_3084e_row4_col5\" class=\"data row4 col5\" >0</td>\n",
       "      <td id=\"T_3084e_row4_col6\" class=\"data row4 col6\" >1</td>\n",
       "      <td id=\"T_3084e_row4_col7\" class=\"data row4 col7\" >0</td>\n",
       "      <td id=\"T_3084e_row4_col8\" class=\"data row4 col8\" >0</td>\n",
       "      <td id=\"T_3084e_row4_col9\" class=\"data row4 col9\" >3</td>\n",
       "    </tr>\n",
       "    <tr>\n",
       "      <th id=\"T_3084e_level0_row5\" class=\"row_heading level0 row5\" >5</th>\n",
       "      <td id=\"T_3084e_row5_col0\" class=\"data row5 col0\" >0</td>\n",
       "      <td id=\"T_3084e_row5_col1\" class=\"data row5 col1\" >0</td>\n",
       "      <td id=\"T_3084e_row5_col2\" class=\"data row5 col2\" >0</td>\n",
       "      <td id=\"T_3084e_row5_col3\" class=\"data row5 col3\" >1</td>\n",
       "      <td id=\"T_3084e_row5_col4\" class=\"data row5 col4\" >0</td>\n",
       "      <td id=\"T_3084e_row5_col5\" class=\"data row5 col5\" >85</td>\n",
       "      <td id=\"T_3084e_row5_col6\" class=\"data row5 col6\" >1</td>\n",
       "      <td id=\"T_3084e_row5_col7\" class=\"data row5 col7\" >0</td>\n",
       "      <td id=\"T_3084e_row5_col8\" class=\"data row5 col8\" >1</td>\n",
       "      <td id=\"T_3084e_row5_col9\" class=\"data row5 col9\" >1</td>\n",
       "    </tr>\n",
       "    <tr>\n",
       "      <th id=\"T_3084e_level0_row6\" class=\"row_heading level0 row6\" >6</th>\n",
       "      <td id=\"T_3084e_row6_col0\" class=\"data row6 col0\" >0</td>\n",
       "      <td id=\"T_3084e_row6_col1\" class=\"data row6 col1\" >0</td>\n",
       "      <td id=\"T_3084e_row6_col2\" class=\"data row6 col2\" >0</td>\n",
       "      <td id=\"T_3084e_row6_col3\" class=\"data row6 col3\" >0</td>\n",
       "      <td id=\"T_3084e_row6_col4\" class=\"data row6 col4\" >0</td>\n",
       "      <td id=\"T_3084e_row6_col5\" class=\"data row6 col5\" >0</td>\n",
       "      <td id=\"T_3084e_row6_col6\" class=\"data row6 col6\" >96</td>\n",
       "      <td id=\"T_3084e_row6_col7\" class=\"data row6 col7\" >0</td>\n",
       "      <td id=\"T_3084e_row6_col8\" class=\"data row6 col8\" >0</td>\n",
       "      <td id=\"T_3084e_row6_col9\" class=\"data row6 col9\" >0</td>\n",
       "    </tr>\n",
       "    <tr>\n",
       "      <th id=\"T_3084e_level0_row7\" class=\"row_heading level0 row7\" >7</th>\n",
       "      <td id=\"T_3084e_row7_col0\" class=\"data row7 col0\" >1</td>\n",
       "      <td id=\"T_3084e_row7_col1\" class=\"data row7 col1\" >0</td>\n",
       "      <td id=\"T_3084e_row7_col2\" class=\"data row7 col2\" >1</td>\n",
       "      <td id=\"T_3084e_row7_col3\" class=\"data row7 col3\" >0</td>\n",
       "      <td id=\"T_3084e_row7_col4\" class=\"data row7 col4\" >0</td>\n",
       "      <td id=\"T_3084e_row7_col5\" class=\"data row7 col5\" >0</td>\n",
       "      <td id=\"T_3084e_row7_col6\" class=\"data row7 col6\" >0</td>\n",
       "      <td id=\"T_3084e_row7_col7\" class=\"data row7 col7\" >99</td>\n",
       "      <td id=\"T_3084e_row7_col8\" class=\"data row7 col8\" >0</td>\n",
       "      <td id=\"T_3084e_row7_col9\" class=\"data row7 col9\" >2</td>\n",
       "    </tr>\n",
       "    <tr>\n",
       "      <th id=\"T_3084e_level0_row8\" class=\"row_heading level0 row8\" >8</th>\n",
       "      <td id=\"T_3084e_row8_col0\" class=\"data row8 col0\" >2</td>\n",
       "      <td id=\"T_3084e_row8_col1\" class=\"data row8 col1\" >0</td>\n",
       "      <td id=\"T_3084e_row8_col2\" class=\"data row8 col2\" >0</td>\n",
       "      <td id=\"T_3084e_row8_col3\" class=\"data row8 col3\" >1</td>\n",
       "      <td id=\"T_3084e_row8_col4\" class=\"data row8 col4\" >0</td>\n",
       "      <td id=\"T_3084e_row8_col5\" class=\"data row8 col5\" >0</td>\n",
       "      <td id=\"T_3084e_row8_col6\" class=\"data row8 col6\" >2</td>\n",
       "      <td id=\"T_3084e_row8_col7\" class=\"data row8 col7\" >3</td>\n",
       "      <td id=\"T_3084e_row8_col8\" class=\"data row8 col8\" >89</td>\n",
       "      <td id=\"T_3084e_row8_col9\" class=\"data row8 col9\" >0</td>\n",
       "    </tr>\n",
       "    <tr>\n",
       "      <th id=\"T_3084e_level0_row9\" class=\"row_heading level0 row9\" >9</th>\n",
       "      <td id=\"T_3084e_row9_col0\" class=\"data row9 col0\" >0</td>\n",
       "      <td id=\"T_3084e_row9_col1\" class=\"data row9 col1\" >1</td>\n",
       "      <td id=\"T_3084e_row9_col2\" class=\"data row9 col2\" >1</td>\n",
       "      <td id=\"T_3084e_row9_col3\" class=\"data row9 col3\" >0</td>\n",
       "      <td id=\"T_3084e_row9_col4\" class=\"data row9 col4\" >0</td>\n",
       "      <td id=\"T_3084e_row9_col5\" class=\"data row9 col5\" >0</td>\n",
       "      <td id=\"T_3084e_row9_col6\" class=\"data row9 col6\" >1</td>\n",
       "      <td id=\"T_3084e_row9_col7\" class=\"data row9 col7\" >0</td>\n",
       "      <td id=\"T_3084e_row9_col8\" class=\"data row9 col8\" >0</td>\n",
       "      <td id=\"T_3084e_row9_col9\" class=\"data row9 col9\" >98</td>\n",
       "    </tr>\n",
       "  </tbody>\n",
       "</table>\n"
      ],
      "text/plain": [
       "<pandas.io.formats.style.Styler at 0x12c7c44cfd0>"
      ]
     },
     "metadata": {},
     "output_type": "display_data"
    },
    {
     "name": "stdout",
     "output_type": "stream",
     "text": [
      "\n",
      "NETWORK PRECISION - NORMALIZED CONFUSION MATRIX (normalized=\"columns\") :\n"
     ]
    },
    {
     "data": {
      "text/html": [
       "<style type=\"text/css\">\n",
       "#T_3ef56_ td:hover {\n",
       "  background-color: #73c476;\n",
       "}\n",
       "#T_3ef56_row0_col0 {\n",
       "  background-color: #2a924a;\n",
       "}\n",
       "#T_3ef56_row0_col1, #T_3ef56_row0_col9, #T_3ef56_row1_col6, #T_3ef56_row2_col0, #T_3ef56_row2_col1, #T_3ef56_row2_col7, #T_3ef56_row2_col9, #T_3ef56_row3_col2, #T_3ef56_row4_col6, #T_3ef56_row5_col3, #T_3ef56_row5_col6, #T_3ef56_row5_col8, #T_3ef56_row5_col9, #T_3ef56_row7_col0, #T_3ef56_row7_col2, #T_3ef56_row8_col3, #T_3ef56_row9_col1, #T_3ef56_row9_col2, #T_3ef56_row9_col6 {\n",
       "  background-color: #f6fcf4;\n",
       "}\n",
       "#T_3ef56_row0_col2, #T_3ef56_row0_col3, #T_3ef56_row0_col4, #T_3ef56_row0_col5, #T_3ef56_row0_col6, #T_3ef56_row0_col7, #T_3ef56_row0_col8, #T_3ef56_row1_col0, #T_3ef56_row1_col2, #T_3ef56_row1_col3, #T_3ef56_row1_col4, #T_3ef56_row1_col5, #T_3ef56_row1_col7, #T_3ef56_row1_col8, #T_3ef56_row1_col9, #T_3ef56_row2_col3, #T_3ef56_row2_col4, #T_3ef56_row2_col5, #T_3ef56_row2_col6, #T_3ef56_row2_col8, #T_3ef56_row3_col0, #T_3ef56_row3_col1, #T_3ef56_row3_col4, #T_3ef56_row3_col6, #T_3ef56_row3_col8, #T_3ef56_row4_col0, #T_3ef56_row4_col1, #T_3ef56_row4_col3, #T_3ef56_row4_col5, #T_3ef56_row4_col7, #T_3ef56_row4_col8, #T_3ef56_row5_col0, #T_3ef56_row5_col1, #T_3ef56_row5_col2, #T_3ef56_row5_col4, #T_3ef56_row5_col7, #T_3ef56_row6_col0, #T_3ef56_row6_col1, #T_3ef56_row6_col2, #T_3ef56_row6_col3, #T_3ef56_row6_col4, #T_3ef56_row6_col5, #T_3ef56_row6_col7, #T_3ef56_row6_col8, #T_3ef56_row6_col9, #T_3ef56_row7_col1, #T_3ef56_row7_col3, #T_3ef56_row7_col4, #T_3ef56_row7_col5, #T_3ef56_row7_col6, #T_3ef56_row7_col8, #T_3ef56_row8_col1, #T_3ef56_row8_col2, #T_3ef56_row8_col4, #T_3ef56_row8_col5, #T_3ef56_row8_col9, #T_3ef56_row9_col0, #T_3ef56_row9_col3, #T_3ef56_row9_col4, #T_3ef56_row9_col5, #T_3ef56_row9_col7, #T_3ef56_row9_col8 {\n",
       "  background-color: #f7fcf5;\n",
       "}\n",
       "#T_3ef56_row1_col1, #T_3ef56_row3_col3 {\n",
       "  background-color: #278f48;\n",
       "}\n",
       "#T_3ef56_row2_col2 {\n",
       "  background-color: #2c944c;\n",
       "}\n",
       "#T_3ef56_row3_col5 {\n",
       "  background-color: #f4fbf1;\n",
       "}\n",
       "#T_3ef56_row3_col7, #T_3ef56_row3_col9, #T_3ef56_row4_col2, #T_3ef56_row7_col9, #T_3ef56_row8_col0, #T_3ef56_row8_col6 {\n",
       "  background-color: #f5fbf3;\n",
       "}\n",
       "#T_3ef56_row4_col4 {\n",
       "  background-color: #228a44;\n",
       "}\n",
       "#T_3ef56_row4_col9, #T_3ef56_row8_col7 {\n",
       "  background-color: #f4fbf2;\n",
       "}\n",
       "#T_3ef56_row5_col5 {\n",
       "  background-color: #29914a;\n",
       "}\n",
       "#T_3ef56_row6_col6 {\n",
       "  background-color: #2e964d;\n",
       "}\n",
       "#T_3ef56_row7_col7 {\n",
       "  background-color: #2d954d;\n",
       "}\n",
       "#T_3ef56_row8_col8 {\n",
       "  background-color: #258d47;\n",
       "}\n",
       "#T_3ef56_row9_col9 {\n",
       "  background-color: #339c52;\n",
       "}\n",
       "</style>\n",
       "<table id=\"T_3ef56_\">\n",
       "  <thead>\n",
       "    <tr>\n",
       "      <th class=\"index_name level0\" >PREDICTED</th>\n",
       "      <th class=\"col_heading level0 col0\" >0</th>\n",
       "      <th class=\"col_heading level0 col1\" >1</th>\n",
       "      <th class=\"col_heading level0 col2\" >2</th>\n",
       "      <th class=\"col_heading level0 col3\" >3</th>\n",
       "      <th class=\"col_heading level0 col4\" >4</th>\n",
       "      <th class=\"col_heading level0 col5\" >5</th>\n",
       "      <th class=\"col_heading level0 col6\" >6</th>\n",
       "      <th class=\"col_heading level0 col7\" >7</th>\n",
       "      <th class=\"col_heading level0 col8\" >8</th>\n",
       "      <th class=\"col_heading level0 col9\" >9</th>\n",
       "    </tr>\n",
       "    <tr>\n",
       "      <th class=\"index_name level0\" >ACTUAL</th>\n",
       "      <th class=\"blank col0\" >&nbsp;</th>\n",
       "      <th class=\"blank col1\" >&nbsp;</th>\n",
       "      <th class=\"blank col2\" >&nbsp;</th>\n",
       "      <th class=\"blank col3\" >&nbsp;</th>\n",
       "      <th class=\"blank col4\" >&nbsp;</th>\n",
       "      <th class=\"blank col5\" >&nbsp;</th>\n",
       "      <th class=\"blank col6\" >&nbsp;</th>\n",
       "      <th class=\"blank col7\" >&nbsp;</th>\n",
       "      <th class=\"blank col8\" >&nbsp;</th>\n",
       "      <th class=\"blank col9\" >&nbsp;</th>\n",
       "    </tr>\n",
       "  </thead>\n",
       "  <tbody>\n",
       "    <tr>\n",
       "      <th id=\"T_3ef56_level0_row0\" class=\"row_heading level0 row0\" >0</th>\n",
       "      <td id=\"T_3ef56_row0_col0\" class=\"data row0 col0\" >96.0 %</td>\n",
       "      <td id=\"T_3ef56_row0_col1\" class=\"data row0 col1\" >0.9 %</td>\n",
       "      <td id=\"T_3ef56_row0_col2\" class=\"data row0 col2\" >0.0 %</td>\n",
       "      <td id=\"T_3ef56_row0_col3\" class=\"data row0 col3\" >0.0 %</td>\n",
       "      <td id=\"T_3ef56_row0_col4\" class=\"data row0 col4\" >0.0 %</td>\n",
       "      <td id=\"T_3ef56_row0_col5\" class=\"data row0 col5\" >0.0 %</td>\n",
       "      <td id=\"T_3ef56_row0_col6\" class=\"data row0 col6\" >0.0 %</td>\n",
       "      <td id=\"T_3ef56_row0_col7\" class=\"data row0 col7\" >0.0 %</td>\n",
       "      <td id=\"T_3ef56_row0_col8\" class=\"data row0 col8\" >0.0 %</td>\n",
       "      <td id=\"T_3ef56_row0_col9\" class=\"data row0 col9\" >0.9 %</td>\n",
       "    </tr>\n",
       "    <tr>\n",
       "      <th id=\"T_3ef56_level0_row1\" class=\"row_heading level0 row1\" >1</th>\n",
       "      <td id=\"T_3ef56_row1_col0\" class=\"data row1 col0\" >0.0 %</td>\n",
       "      <td id=\"T_3ef56_row1_col1\" class=\"data row1 col1\" >97.4 %</td>\n",
       "      <td id=\"T_3ef56_row1_col2\" class=\"data row1 col2\" >0.0 %</td>\n",
       "      <td id=\"T_3ef56_row1_col3\" class=\"data row1 col3\" >0.0 %</td>\n",
       "      <td id=\"T_3ef56_row1_col4\" class=\"data row1 col4\" >0.0 %</td>\n",
       "      <td id=\"T_3ef56_row1_col5\" class=\"data row1 col5\" >0.0 %</td>\n",
       "      <td id=\"T_3ef56_row1_col6\" class=\"data row1 col6\" >1.0 %</td>\n",
       "      <td id=\"T_3ef56_row1_col7\" class=\"data row1 col7\" >0.0 %</td>\n",
       "      <td id=\"T_3ef56_row1_col8\" class=\"data row1 col8\" >0.0 %</td>\n",
       "      <td id=\"T_3ef56_row1_col9\" class=\"data row1 col9\" >0.0 %</td>\n",
       "    </tr>\n",
       "    <tr>\n",
       "      <th id=\"T_3ef56_level0_row2\" class=\"row_heading level0 row2\" >2</th>\n",
       "      <td id=\"T_3ef56_row2_col0\" class=\"data row2 col0\" >1.0 %</td>\n",
       "      <td id=\"T_3ef56_row2_col1\" class=\"data row2 col1\" >0.9 %</td>\n",
       "      <td id=\"T_3ef56_row2_col2\" class=\"data row2 col2\" >95.2 %</td>\n",
       "      <td id=\"T_3ef56_row2_col3\" class=\"data row2 col3\" >0.0 %</td>\n",
       "      <td id=\"T_3ef56_row2_col4\" class=\"data row2 col4\" >0.0 %</td>\n",
       "      <td id=\"T_3ef56_row2_col5\" class=\"data row2 col5\" >0.0 %</td>\n",
       "      <td id=\"T_3ef56_row2_col6\" class=\"data row2 col6\" >0.0 %</td>\n",
       "      <td id=\"T_3ef56_row2_col7\" class=\"data row2 col7\" >1.0 %</td>\n",
       "      <td id=\"T_3ef56_row2_col8\" class=\"data row2 col8\" >0.0 %</td>\n",
       "      <td id=\"T_3ef56_row2_col9\" class=\"data row2 col9\" >0.9 %</td>\n",
       "    </tr>\n",
       "    <tr>\n",
       "      <th id=\"T_3ef56_level0_row3\" class=\"row_heading level0 row3\" >3</th>\n",
       "      <td id=\"T_3ef56_row3_col0\" class=\"data row3 col0\" >0.0 %</td>\n",
       "      <td id=\"T_3ef56_row3_col1\" class=\"data row3 col1\" >0.0 %</td>\n",
       "      <td id=\"T_3ef56_row3_col2\" class=\"data row3 col2\" >1.0 %</td>\n",
       "      <td id=\"T_3ef56_row3_col3\" class=\"data row3 col3\" >97.9 %</td>\n",
       "      <td id=\"T_3ef56_row3_col4\" class=\"data row3 col4\" >0.0 %</td>\n",
       "      <td id=\"T_3ef56_row3_col5\" class=\"data row3 col5\" >3.4 %</td>\n",
       "      <td id=\"T_3ef56_row3_col6\" class=\"data row3 col6\" >0.0 %</td>\n",
       "      <td id=\"T_3ef56_row3_col7\" class=\"data row3 col7\" >1.9 %</td>\n",
       "      <td id=\"T_3ef56_row3_col8\" class=\"data row3 col8\" >0.0 %</td>\n",
       "      <td id=\"T_3ef56_row3_col9\" class=\"data row3 col9\" >1.9 %</td>\n",
       "    </tr>\n",
       "    <tr>\n",
       "      <th id=\"T_3ef56_level0_row4\" class=\"row_heading level0 row4\" >4</th>\n",
       "      <td id=\"T_3ef56_row4_col0\" class=\"data row4 col0\" >0.0 %</td>\n",
       "      <td id=\"T_3ef56_row4_col1\" class=\"data row4 col1\" >0.0 %</td>\n",
       "      <td id=\"T_3ef56_row4_col2\" class=\"data row4 col2\" >1.9 %</td>\n",
       "      <td id=\"T_3ef56_row4_col3\" class=\"data row4 col3\" >0.0 %</td>\n",
       "      <td id=\"T_3ef56_row4_col4\" class=\"data row4 col4\" >100.0 %</td>\n",
       "      <td id=\"T_3ef56_row4_col5\" class=\"data row4 col5\" >0.0 %</td>\n",
       "      <td id=\"T_3ef56_row4_col6\" class=\"data row4 col6\" >1.0 %</td>\n",
       "      <td id=\"T_3ef56_row4_col7\" class=\"data row4 col7\" >0.0 %</td>\n",
       "      <td id=\"T_3ef56_row4_col8\" class=\"data row4 col8\" >0.0 %</td>\n",
       "      <td id=\"T_3ef56_row4_col9\" class=\"data row4 col9\" >2.8 %</td>\n",
       "    </tr>\n",
       "    <tr>\n",
       "      <th id=\"T_3ef56_level0_row5\" class=\"row_heading level0 row5\" >5</th>\n",
       "      <td id=\"T_3ef56_row5_col0\" class=\"data row5 col0\" >0.0 %</td>\n",
       "      <td id=\"T_3ef56_row5_col1\" class=\"data row5 col1\" >0.0 %</td>\n",
       "      <td id=\"T_3ef56_row5_col2\" class=\"data row5 col2\" >0.0 %</td>\n",
       "      <td id=\"T_3ef56_row5_col3\" class=\"data row5 col3\" >1.1 %</td>\n",
       "      <td id=\"T_3ef56_row5_col4\" class=\"data row5 col4\" >0.0 %</td>\n",
       "      <td id=\"T_3ef56_row5_col5\" class=\"data row5 col5\" >96.6 %</td>\n",
       "      <td id=\"T_3ef56_row5_col6\" class=\"data row5 col6\" >1.0 %</td>\n",
       "      <td id=\"T_3ef56_row5_col7\" class=\"data row5 col7\" >0.0 %</td>\n",
       "      <td id=\"T_3ef56_row5_col8\" class=\"data row5 col8\" >1.1 %</td>\n",
       "      <td id=\"T_3ef56_row5_col9\" class=\"data row5 col9\" >0.9 %</td>\n",
       "    </tr>\n",
       "    <tr>\n",
       "      <th id=\"T_3ef56_level0_row6\" class=\"row_heading level0 row6\" >6</th>\n",
       "      <td id=\"T_3ef56_row6_col0\" class=\"data row6 col0\" >0.0 %</td>\n",
       "      <td id=\"T_3ef56_row6_col1\" class=\"data row6 col1\" >0.0 %</td>\n",
       "      <td id=\"T_3ef56_row6_col2\" class=\"data row6 col2\" >0.0 %</td>\n",
       "      <td id=\"T_3ef56_row6_col3\" class=\"data row6 col3\" >0.0 %</td>\n",
       "      <td id=\"T_3ef56_row6_col4\" class=\"data row6 col4\" >0.0 %</td>\n",
       "      <td id=\"T_3ef56_row6_col5\" class=\"data row6 col5\" >0.0 %</td>\n",
       "      <td id=\"T_3ef56_row6_col6\" class=\"data row6 col6\" >94.1 %</td>\n",
       "      <td id=\"T_3ef56_row6_col7\" class=\"data row6 col7\" >0.0 %</td>\n",
       "      <td id=\"T_3ef56_row6_col8\" class=\"data row6 col8\" >0.0 %</td>\n",
       "      <td id=\"T_3ef56_row6_col9\" class=\"data row6 col9\" >0.0 %</td>\n",
       "    </tr>\n",
       "    <tr>\n",
       "      <th id=\"T_3ef56_level0_row7\" class=\"row_heading level0 row7\" >7</th>\n",
       "      <td id=\"T_3ef56_row7_col0\" class=\"data row7 col0\" >1.0 %</td>\n",
       "      <td id=\"T_3ef56_row7_col1\" class=\"data row7 col1\" >0.0 %</td>\n",
       "      <td id=\"T_3ef56_row7_col2\" class=\"data row7 col2\" >1.0 %</td>\n",
       "      <td id=\"T_3ef56_row7_col3\" class=\"data row7 col3\" >0.0 %</td>\n",
       "      <td id=\"T_3ef56_row7_col4\" class=\"data row7 col4\" >0.0 %</td>\n",
       "      <td id=\"T_3ef56_row7_col5\" class=\"data row7 col5\" >0.0 %</td>\n",
       "      <td id=\"T_3ef56_row7_col6\" class=\"data row7 col6\" >0.0 %</td>\n",
       "      <td id=\"T_3ef56_row7_col7\" class=\"data row7 col7\" >94.3 %</td>\n",
       "      <td id=\"T_3ef56_row7_col8\" class=\"data row7 col8\" >0.0 %</td>\n",
       "      <td id=\"T_3ef56_row7_col9\" class=\"data row7 col9\" >1.9 %</td>\n",
       "    </tr>\n",
       "    <tr>\n",
       "      <th id=\"T_3ef56_level0_row8\" class=\"row_heading level0 row8\" >8</th>\n",
       "      <td id=\"T_3ef56_row8_col0\" class=\"data row8 col0\" >2.0 %</td>\n",
       "      <td id=\"T_3ef56_row8_col1\" class=\"data row8 col1\" >0.0 %</td>\n",
       "      <td id=\"T_3ef56_row8_col2\" class=\"data row8 col2\" >0.0 %</td>\n",
       "      <td id=\"T_3ef56_row8_col3\" class=\"data row8 col3\" >1.1 %</td>\n",
       "      <td id=\"T_3ef56_row8_col4\" class=\"data row8 col4\" >0.0 %</td>\n",
       "      <td id=\"T_3ef56_row8_col5\" class=\"data row8 col5\" >0.0 %</td>\n",
       "      <td id=\"T_3ef56_row8_col6\" class=\"data row8 col6\" >2.0 %</td>\n",
       "      <td id=\"T_3ef56_row8_col7\" class=\"data row8 col7\" >2.9 %</td>\n",
       "      <td id=\"T_3ef56_row8_col8\" class=\"data row8 col8\" >98.9 %</td>\n",
       "      <td id=\"T_3ef56_row8_col9\" class=\"data row8 col9\" >0.0 %</td>\n",
       "    </tr>\n",
       "    <tr>\n",
       "      <th id=\"T_3ef56_level0_row9\" class=\"row_heading level0 row9\" >9</th>\n",
       "      <td id=\"T_3ef56_row9_col0\" class=\"data row9 col0\" >0.0 %</td>\n",
       "      <td id=\"T_3ef56_row9_col1\" class=\"data row9 col1\" >0.9 %</td>\n",
       "      <td id=\"T_3ef56_row9_col2\" class=\"data row9 col2\" >1.0 %</td>\n",
       "      <td id=\"T_3ef56_row9_col3\" class=\"data row9 col3\" >0.0 %</td>\n",
       "      <td id=\"T_3ef56_row9_col4\" class=\"data row9 col4\" >0.0 %</td>\n",
       "      <td id=\"T_3ef56_row9_col5\" class=\"data row9 col5\" >0.0 %</td>\n",
       "      <td id=\"T_3ef56_row9_col6\" class=\"data row9 col6\" >1.0 %</td>\n",
       "      <td id=\"T_3ef56_row9_col7\" class=\"data row9 col7\" >0.0 %</td>\n",
       "      <td id=\"T_3ef56_row9_col8\" class=\"data row9 col8\" >0.0 %</td>\n",
       "      <td id=\"T_3ef56_row9_col9\" class=\"data row9 col9\" >90.7 %</td>\n",
       "    </tr>\n",
       "  </tbody>\n",
       "</table>\n"
      ],
      "text/plain": [
       "<pandas.io.formats.style.Styler at 0x12c7730aac0>"
      ]
     },
     "metadata": {},
     "output_type": "display_data"
    },
    {
     "name": "stdout",
     "output_type": "stream",
     "text": [
      "\n",
      "NETWORK RECALL - NORMALIZED CONFUSION MATRIX (normalized=\"rows\") :\n"
     ]
    },
    {
     "data": {
      "text/html": [
       "<style type=\"text/css\">\n",
       "#T_b1a51_ td:hover {\n",
       "  background-color: #73c476;\n",
       "}\n",
       "#T_b1a51_row0_col0 {\n",
       "  background-color: #268e47;\n",
       "}\n",
       "#T_b1a51_row0_col1, #T_b1a51_row0_col9, #T_b1a51_row1_col6, #T_b1a51_row2_col0, #T_b1a51_row2_col1, #T_b1a51_row2_col7, #T_b1a51_row2_col9, #T_b1a51_row3_col2, #T_b1a51_row4_col6, #T_b1a51_row5_col3, #T_b1a51_row5_col6, #T_b1a51_row5_col8, #T_b1a51_row5_col9, #T_b1a51_row7_col0, #T_b1a51_row7_col2, #T_b1a51_row8_col3, #T_b1a51_row9_col1, #T_b1a51_row9_col2, #T_b1a51_row9_col6 {\n",
       "  background-color: #f6fcf4;\n",
       "}\n",
       "#T_b1a51_row0_col2, #T_b1a51_row0_col3, #T_b1a51_row0_col4, #T_b1a51_row0_col5, #T_b1a51_row0_col6, #T_b1a51_row0_col7, #T_b1a51_row0_col8, #T_b1a51_row1_col0, #T_b1a51_row1_col2, #T_b1a51_row1_col3, #T_b1a51_row1_col4, #T_b1a51_row1_col5, #T_b1a51_row1_col7, #T_b1a51_row1_col8, #T_b1a51_row1_col9, #T_b1a51_row2_col3, #T_b1a51_row2_col4, #T_b1a51_row2_col5, #T_b1a51_row2_col6, #T_b1a51_row2_col8, #T_b1a51_row3_col0, #T_b1a51_row3_col1, #T_b1a51_row3_col4, #T_b1a51_row3_col6, #T_b1a51_row3_col8, #T_b1a51_row4_col0, #T_b1a51_row4_col1, #T_b1a51_row4_col3, #T_b1a51_row4_col5, #T_b1a51_row4_col7, #T_b1a51_row4_col8, #T_b1a51_row5_col0, #T_b1a51_row5_col1, #T_b1a51_row5_col2, #T_b1a51_row5_col4, #T_b1a51_row5_col7, #T_b1a51_row6_col0, #T_b1a51_row6_col1, #T_b1a51_row6_col2, #T_b1a51_row6_col3, #T_b1a51_row6_col4, #T_b1a51_row6_col5, #T_b1a51_row6_col7, #T_b1a51_row6_col8, #T_b1a51_row6_col9, #T_b1a51_row7_col1, #T_b1a51_row7_col3, #T_b1a51_row7_col4, #T_b1a51_row7_col5, #T_b1a51_row7_col6, #T_b1a51_row7_col8, #T_b1a51_row8_col1, #T_b1a51_row8_col2, #T_b1a51_row8_col4, #T_b1a51_row8_col5, #T_b1a51_row8_col9, #T_b1a51_row9_col0, #T_b1a51_row9_col3, #T_b1a51_row9_col4, #T_b1a51_row9_col5, #T_b1a51_row9_col7, #T_b1a51_row9_col8 {\n",
       "  background-color: #f7fcf5;\n",
       "}\n",
       "#T_b1a51_row1_col1 {\n",
       "  background-color: #248c46;\n",
       "}\n",
       "#T_b1a51_row2_col2, #T_b1a51_row7_col7 {\n",
       "  background-color: #2a924a;\n",
       "}\n",
       "#T_b1a51_row3_col3, #T_b1a51_row8_col8 {\n",
       "  background-color: #319a50;\n",
       "}\n",
       "#T_b1a51_row3_col5, #T_b1a51_row4_col9, #T_b1a51_row8_col7 {\n",
       "  background-color: #f4fbf2;\n",
       "}\n",
       "#T_b1a51_row3_col7, #T_b1a51_row3_col9, #T_b1a51_row4_col2, #T_b1a51_row7_col9 {\n",
       "  background-color: #f5fbf3;\n",
       "}\n",
       "#T_b1a51_row4_col4 {\n",
       "  background-color: #2e964d;\n",
       "}\n",
       "#T_b1a51_row5_col5 {\n",
       "  background-color: #2b934b;\n",
       "}\n",
       "#T_b1a51_row6_col6 {\n",
       "  background-color: #228a44;\n",
       "}\n",
       "#T_b1a51_row8_col0, #T_b1a51_row8_col6 {\n",
       "  background-color: #f5fbf2;\n",
       "}\n",
       "#T_b1a51_row9_col9 {\n",
       "  background-color: #289049;\n",
       "}\n",
       "</style>\n",
       "<table id=\"T_b1a51_\">\n",
       "  <thead>\n",
       "    <tr>\n",
       "      <th class=\"index_name level0\" >PREDICTED</th>\n",
       "      <th class=\"col_heading level0 col0\" >0</th>\n",
       "      <th class=\"col_heading level0 col1\" >1</th>\n",
       "      <th class=\"col_heading level0 col2\" >2</th>\n",
       "      <th class=\"col_heading level0 col3\" >3</th>\n",
       "      <th class=\"col_heading level0 col4\" >4</th>\n",
       "      <th class=\"col_heading level0 col5\" >5</th>\n",
       "      <th class=\"col_heading level0 col6\" >6</th>\n",
       "      <th class=\"col_heading level0 col7\" >7</th>\n",
       "      <th class=\"col_heading level0 col8\" >8</th>\n",
       "      <th class=\"col_heading level0 col9\" >9</th>\n",
       "    </tr>\n",
       "    <tr>\n",
       "      <th class=\"index_name level0\" >ACTUAL</th>\n",
       "      <th class=\"blank col0\" >&nbsp;</th>\n",
       "      <th class=\"blank col1\" >&nbsp;</th>\n",
       "      <th class=\"blank col2\" >&nbsp;</th>\n",
       "      <th class=\"blank col3\" >&nbsp;</th>\n",
       "      <th class=\"blank col4\" >&nbsp;</th>\n",
       "      <th class=\"blank col5\" >&nbsp;</th>\n",
       "      <th class=\"blank col6\" >&nbsp;</th>\n",
       "      <th class=\"blank col7\" >&nbsp;</th>\n",
       "      <th class=\"blank col8\" >&nbsp;</th>\n",
       "      <th class=\"blank col9\" >&nbsp;</th>\n",
       "    </tr>\n",
       "  </thead>\n",
       "  <tbody>\n",
       "    <tr>\n",
       "      <th id=\"T_b1a51_level0_row0\" class=\"row_heading level0 row0\" >0</th>\n",
       "      <td id=\"T_b1a51_row0_col0\" class=\"data row0 col0\" >98.0 %</td>\n",
       "      <td id=\"T_b1a51_row0_col1\" class=\"data row0 col1\" >1.0 %</td>\n",
       "      <td id=\"T_b1a51_row0_col2\" class=\"data row0 col2\" >0.0 %</td>\n",
       "      <td id=\"T_b1a51_row0_col3\" class=\"data row0 col3\" >0.0 %</td>\n",
       "      <td id=\"T_b1a51_row0_col4\" class=\"data row0 col4\" >0.0 %</td>\n",
       "      <td id=\"T_b1a51_row0_col5\" class=\"data row0 col5\" >0.0 %</td>\n",
       "      <td id=\"T_b1a51_row0_col6\" class=\"data row0 col6\" >0.0 %</td>\n",
       "      <td id=\"T_b1a51_row0_col7\" class=\"data row0 col7\" >0.0 %</td>\n",
       "      <td id=\"T_b1a51_row0_col8\" class=\"data row0 col8\" >0.0 %</td>\n",
       "      <td id=\"T_b1a51_row0_col9\" class=\"data row0 col9\" >1.0 %</td>\n",
       "    </tr>\n",
       "    <tr>\n",
       "      <th id=\"T_b1a51_level0_row1\" class=\"row_heading level0 row1\" >1</th>\n",
       "      <td id=\"T_b1a51_row1_col0\" class=\"data row1 col0\" >0.0 %</td>\n",
       "      <td id=\"T_b1a51_row1_col1\" class=\"data row1 col1\" >99.1 %</td>\n",
       "      <td id=\"T_b1a51_row1_col2\" class=\"data row1 col2\" >0.0 %</td>\n",
       "      <td id=\"T_b1a51_row1_col3\" class=\"data row1 col3\" >0.0 %</td>\n",
       "      <td id=\"T_b1a51_row1_col4\" class=\"data row1 col4\" >0.0 %</td>\n",
       "      <td id=\"T_b1a51_row1_col5\" class=\"data row1 col5\" >0.0 %</td>\n",
       "      <td id=\"T_b1a51_row1_col6\" class=\"data row1 col6\" >0.9 %</td>\n",
       "      <td id=\"T_b1a51_row1_col7\" class=\"data row1 col7\" >0.0 %</td>\n",
       "      <td id=\"T_b1a51_row1_col8\" class=\"data row1 col8\" >0.0 %</td>\n",
       "      <td id=\"T_b1a51_row1_col9\" class=\"data row1 col9\" >0.0 %</td>\n",
       "    </tr>\n",
       "    <tr>\n",
       "      <th id=\"T_b1a51_level0_row2\" class=\"row_heading level0 row2\" >2</th>\n",
       "      <td id=\"T_b1a51_row2_col0\" class=\"data row2 col0\" >1.0 %</td>\n",
       "      <td id=\"T_b1a51_row2_col1\" class=\"data row2 col1\" >1.0 %</td>\n",
       "      <td id=\"T_b1a51_row2_col2\" class=\"data row2 col2\" >96.1 %</td>\n",
       "      <td id=\"T_b1a51_row2_col3\" class=\"data row2 col3\" >0.0 %</td>\n",
       "      <td id=\"T_b1a51_row2_col4\" class=\"data row2 col4\" >0.0 %</td>\n",
       "      <td id=\"T_b1a51_row2_col5\" class=\"data row2 col5\" >0.0 %</td>\n",
       "      <td id=\"T_b1a51_row2_col6\" class=\"data row2 col6\" >0.0 %</td>\n",
       "      <td id=\"T_b1a51_row2_col7\" class=\"data row2 col7\" >1.0 %</td>\n",
       "      <td id=\"T_b1a51_row2_col8\" class=\"data row2 col8\" >0.0 %</td>\n",
       "      <td id=\"T_b1a51_row2_col9\" class=\"data row2 col9\" >1.0 %</td>\n",
       "    </tr>\n",
       "    <tr>\n",
       "      <th id=\"T_b1a51_level0_row3\" class=\"row_heading level0 row3\" >3</th>\n",
       "      <td id=\"T_b1a51_row3_col0\" class=\"data row3 col0\" >0.0 %</td>\n",
       "      <td id=\"T_b1a51_row3_col1\" class=\"data row3 col1\" >0.0 %</td>\n",
       "      <td id=\"T_b1a51_row3_col2\" class=\"data row3 col2\" >1.0 %</td>\n",
       "      <td id=\"T_b1a51_row3_col3\" class=\"data row3 col3\" >92.1 %</td>\n",
       "      <td id=\"T_b1a51_row3_col4\" class=\"data row3 col4\" >0.0 %</td>\n",
       "      <td id=\"T_b1a51_row3_col5\" class=\"data row3 col5\" >3.0 %</td>\n",
       "      <td id=\"T_b1a51_row3_col6\" class=\"data row3 col6\" >0.0 %</td>\n",
       "      <td id=\"T_b1a51_row3_col7\" class=\"data row3 col7\" >2.0 %</td>\n",
       "      <td id=\"T_b1a51_row3_col8\" class=\"data row3 col8\" >0.0 %</td>\n",
       "      <td id=\"T_b1a51_row3_col9\" class=\"data row3 col9\" >2.0 %</td>\n",
       "    </tr>\n",
       "    <tr>\n",
       "      <th id=\"T_b1a51_level0_row4\" class=\"row_heading level0 row4\" >4</th>\n",
       "      <td id=\"T_b1a51_row4_col0\" class=\"data row4 col0\" >0.0 %</td>\n",
       "      <td id=\"T_b1a51_row4_col1\" class=\"data row4 col1\" >0.0 %</td>\n",
       "      <td id=\"T_b1a51_row4_col2\" class=\"data row4 col2\" >2.0 %</td>\n",
       "      <td id=\"T_b1a51_row4_col3\" class=\"data row4 col3\" >0.0 %</td>\n",
       "      <td id=\"T_b1a51_row4_col4\" class=\"data row4 col4\" >93.9 %</td>\n",
       "      <td id=\"T_b1a51_row4_col5\" class=\"data row4 col5\" >0.0 %</td>\n",
       "      <td id=\"T_b1a51_row4_col6\" class=\"data row4 col6\" >1.0 %</td>\n",
       "      <td id=\"T_b1a51_row4_col7\" class=\"data row4 col7\" >0.0 %</td>\n",
       "      <td id=\"T_b1a51_row4_col8\" class=\"data row4 col8\" >0.0 %</td>\n",
       "      <td id=\"T_b1a51_row4_col9\" class=\"data row4 col9\" >3.1 %</td>\n",
       "    </tr>\n",
       "    <tr>\n",
       "      <th id=\"T_b1a51_level0_row5\" class=\"row_heading level0 row5\" >5</th>\n",
       "      <td id=\"T_b1a51_row5_col0\" class=\"data row5 col0\" >0.0 %</td>\n",
       "      <td id=\"T_b1a51_row5_col1\" class=\"data row5 col1\" >0.0 %</td>\n",
       "      <td id=\"T_b1a51_row5_col2\" class=\"data row5 col2\" >0.0 %</td>\n",
       "      <td id=\"T_b1a51_row5_col3\" class=\"data row5 col3\" >1.1 %</td>\n",
       "      <td id=\"T_b1a51_row5_col4\" class=\"data row5 col4\" >0.0 %</td>\n",
       "      <td id=\"T_b1a51_row5_col5\" class=\"data row5 col5\" >95.5 %</td>\n",
       "      <td id=\"T_b1a51_row5_col6\" class=\"data row5 col6\" >1.1 %</td>\n",
       "      <td id=\"T_b1a51_row5_col7\" class=\"data row5 col7\" >0.0 %</td>\n",
       "      <td id=\"T_b1a51_row5_col8\" class=\"data row5 col8\" >1.1 %</td>\n",
       "      <td id=\"T_b1a51_row5_col9\" class=\"data row5 col9\" >1.1 %</td>\n",
       "    </tr>\n",
       "    <tr>\n",
       "      <th id=\"T_b1a51_level0_row6\" class=\"row_heading level0 row6\" >6</th>\n",
       "      <td id=\"T_b1a51_row6_col0\" class=\"data row6 col0\" >0.0 %</td>\n",
       "      <td id=\"T_b1a51_row6_col1\" class=\"data row6 col1\" >0.0 %</td>\n",
       "      <td id=\"T_b1a51_row6_col2\" class=\"data row6 col2\" >0.0 %</td>\n",
       "      <td id=\"T_b1a51_row6_col3\" class=\"data row6 col3\" >0.0 %</td>\n",
       "      <td id=\"T_b1a51_row6_col4\" class=\"data row6 col4\" >0.0 %</td>\n",
       "      <td id=\"T_b1a51_row6_col5\" class=\"data row6 col5\" >0.0 %</td>\n",
       "      <td id=\"T_b1a51_row6_col6\" class=\"data row6 col6\" >100.0 %</td>\n",
       "      <td id=\"T_b1a51_row6_col7\" class=\"data row6 col7\" >0.0 %</td>\n",
       "      <td id=\"T_b1a51_row6_col8\" class=\"data row6 col8\" >0.0 %</td>\n",
       "      <td id=\"T_b1a51_row6_col9\" class=\"data row6 col9\" >0.0 %</td>\n",
       "    </tr>\n",
       "    <tr>\n",
       "      <th id=\"T_b1a51_level0_row7\" class=\"row_heading level0 row7\" >7</th>\n",
       "      <td id=\"T_b1a51_row7_col0\" class=\"data row7 col0\" >1.0 %</td>\n",
       "      <td id=\"T_b1a51_row7_col1\" class=\"data row7 col1\" >0.0 %</td>\n",
       "      <td id=\"T_b1a51_row7_col2\" class=\"data row7 col2\" >1.0 %</td>\n",
       "      <td id=\"T_b1a51_row7_col3\" class=\"data row7 col3\" >0.0 %</td>\n",
       "      <td id=\"T_b1a51_row7_col4\" class=\"data row7 col4\" >0.0 %</td>\n",
       "      <td id=\"T_b1a51_row7_col5\" class=\"data row7 col5\" >0.0 %</td>\n",
       "      <td id=\"T_b1a51_row7_col6\" class=\"data row7 col6\" >0.0 %</td>\n",
       "      <td id=\"T_b1a51_row7_col7\" class=\"data row7 col7\" >96.1 %</td>\n",
       "      <td id=\"T_b1a51_row7_col8\" class=\"data row7 col8\" >0.0 %</td>\n",
       "      <td id=\"T_b1a51_row7_col9\" class=\"data row7 col9\" >1.9 %</td>\n",
       "    </tr>\n",
       "    <tr>\n",
       "      <th id=\"T_b1a51_level0_row8\" class=\"row_heading level0 row8\" >8</th>\n",
       "      <td id=\"T_b1a51_row8_col0\" class=\"data row8 col0\" >2.1 %</td>\n",
       "      <td id=\"T_b1a51_row8_col1\" class=\"data row8 col1\" >0.0 %</td>\n",
       "      <td id=\"T_b1a51_row8_col2\" class=\"data row8 col2\" >0.0 %</td>\n",
       "      <td id=\"T_b1a51_row8_col3\" class=\"data row8 col3\" >1.0 %</td>\n",
       "      <td id=\"T_b1a51_row8_col4\" class=\"data row8 col4\" >0.0 %</td>\n",
       "      <td id=\"T_b1a51_row8_col5\" class=\"data row8 col5\" >0.0 %</td>\n",
       "      <td id=\"T_b1a51_row8_col6\" class=\"data row8 col6\" >2.1 %</td>\n",
       "      <td id=\"T_b1a51_row8_col7\" class=\"data row8 col7\" >3.1 %</td>\n",
       "      <td id=\"T_b1a51_row8_col8\" class=\"data row8 col8\" >91.8 %</td>\n",
       "      <td id=\"T_b1a51_row8_col9\" class=\"data row8 col9\" >0.0 %</td>\n",
       "    </tr>\n",
       "    <tr>\n",
       "      <th id=\"T_b1a51_level0_row9\" class=\"row_heading level0 row9\" >9</th>\n",
       "      <td id=\"T_b1a51_row9_col0\" class=\"data row9 col0\" >0.0 %</td>\n",
       "      <td id=\"T_b1a51_row9_col1\" class=\"data row9 col1\" >1.0 %</td>\n",
       "      <td id=\"T_b1a51_row9_col2\" class=\"data row9 col2\" >1.0 %</td>\n",
       "      <td id=\"T_b1a51_row9_col3\" class=\"data row9 col3\" >0.0 %</td>\n",
       "      <td id=\"T_b1a51_row9_col4\" class=\"data row9 col4\" >0.0 %</td>\n",
       "      <td id=\"T_b1a51_row9_col5\" class=\"data row9 col5\" >0.0 %</td>\n",
       "      <td id=\"T_b1a51_row9_col6\" class=\"data row9 col6\" >1.0 %</td>\n",
       "      <td id=\"T_b1a51_row9_col7\" class=\"data row9 col7\" >0.0 %</td>\n",
       "      <td id=\"T_b1a51_row9_col8\" class=\"data row9 col8\" >0.0 %</td>\n",
       "      <td id=\"T_b1a51_row9_col9\" class=\"data row9 col9\" >97.0 %</td>\n",
       "    </tr>\n",
       "  </tbody>\n",
       "</table>\n"
      ],
      "text/plain": [
       "<pandas.io.formats.style.Styler at 0x12c7c44cfd0>"
      ]
     },
     "metadata": {},
     "output_type": "display_data"
    }
   ],
   "source": [
    "# NB : When you load this notebook for the first time, the confusion matrices won't\n",
    "#      be highlighted in the specified color (the outputs will be the unstyled confusion\n",
    "#      matrices). Simply re-run the entire notebook to see their highlighting !\n",
    "\n",
    "for normalize in [\"no\", \"columns\", \"rows\"]:\n",
    "    print_confusion_matrix(\n",
    "        conf_matrix,\n",
    "        selected_classes=selected_classes,\n",
    "        dict_of_real_class_names=dict_of_real_class_names,\n",
    "        normalize=normalize, # = \"columns\" (default), \"rows\" or \"no\"\n",
    "        precision=1,\n",
    "        color=\"green\" # = \"green\" (default), \"blue\", \"purple\", \"red\" or \"orange\"\n",
    "    )"
   ]
  },
  {
   "cell_type": "markdown",
   "id": "5d38c0e3",
   "metadata": {},
   "source": [
    "Displaying the **<ins>testing loss</ins>** and the **<ins>global accuracy scores</ins>** of the network :"
   ]
  },
  {
   "cell_type": "code",
   "execution_count": 29,
   "id": "14bfbd5a",
   "metadata": {},
   "outputs": [
    {
     "name": "stdout",
     "output_type": "stream",
     "text": [
      "\n",
      "TESTING LOSS    : 0.1417\n",
      "\n",
      "GLOBAL ACCURACY : 96.00 %\n",
      "TOP-2  ACCURACY : 98.40 %\n",
      "\n"
     ]
    }
   ],
   "source": [
    "precision_loss = 4 # by default\n",
    "print(f\"\\nTESTING LOSS    : {test_loss:.{precision_loss}f}\")\n",
    "\n",
    "precision_accuracy = 2 # by default\n",
    "print(f\"\\nGLOBAL ACCURACY : {acc_score:.{precision_accuracy}f} %\")\n",
    "potential_extra_space = \" \" * int(top_N_accuracy < 10)\n",
    "print(f\"TOP-{top_N_accuracy}{potential_extra_space} ACCURACY : {top_N_acc_score:.{precision_accuracy}f} %\\n\")"
   ]
  },
  {
   "cell_type": "markdown",
   "id": "c2b5fb12",
   "metadata": {},
   "source": [
    "Displaying some of the network's predictions **(assuming the rows of `X_test` are the flattened versions of <ins>images</ins>)** :"
   ]
  },
  {
   "cell_type": "code",
   "execution_count": 30,
   "id": "b0f9ef72",
   "metadata": {},
   "outputs": [
    {
     "data": {
      "image/png": "[encoded data removed]",
      "text/plain": [
       "<Figure size 1152x576 with 10 Axes>"
      ]
     },
     "metadata": {
      "needs_background": "light"
     },
     "output_type": "display_data"
    }
   ],
   "source": [
    "if samples_are_images:\n",
    "    network.display_some_predictions(\n",
    "        X_test,\n",
    "        y_test,\n",
    "        selected_classes=selected_classes,\n",
    "        dict_of_real_class_names=dict_of_real_class_names,\n",
    "        image_shape=default_image_shape,\n",
    "        seed=None\n",
    "    )"
   ]
  },
  {
   "cell_type": "markdown",
   "id": "3945035c",
   "metadata": {},
   "source": [
    "<br/>"
   ]
  },
  {
   "cell_type": "markdown",
   "id": "01dde9ae",
   "metadata": {},
   "source": [
    "<center><h2>END</h2></center>"
   ]
  }
 ],
 "metadata": {
  "kernelspec": {
   "display_name": "Python 3 (ipykernel)",
   "language": "python",
   "name": "python3"
  },
  "language_info": {
   "codemirror_mode": {
    "name": "ipython",
    "version": 3
   },
   "file_extension": ".py",
   "mimetype": "text/x-python",
   "name": "python",
   "nbconvert_exporter": "python",
   "pygments_lexer": "ipython3",
   "version": "3.9.7"
  }
 },
 "nbformat": 4,
 "nbformat_minor": 5
}
