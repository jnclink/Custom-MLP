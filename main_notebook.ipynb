{
 "cells": [
  {
   "cell_type": "markdown",
   "id": "4050c5b2",
   "metadata": {},
   "source": [
    "<center><h1>Custom-NN</h1></center>\n",
    "<center><h3>Implementing a neural network from scratch using Python</h3></center>\n",
    "<center><h4><i>NumPy is all you need</i></h4></center>"
   ]
  },
  {
   "cell_type": "markdown",
   "id": "bba7d733",
   "metadata": {},
   "source": [
    "<br/>"
   ]
  },
  {
   "cell_type": "markdown",
   "id": "d1b35cde",
   "metadata": {},
   "source": [
    "## Imports"
   ]
  },
  {
   "cell_type": "code",
   "execution_count": 1,
   "id": "70a5dad6",
   "metadata": {},
   "outputs": [],
   "source": [
    "from utils import (\n",
    "    set_global_datatype,\n",
    "    print_confusion_matrix\n",
    ")\n",
    "\n",
    "from mnist_dataset import (\n",
    "    load_raw_MNIST_dataset_from_disk,\n",
    "    plot_random_images_from_raw_MNIST_dataset,\n",
    "    format_raw_MNIST_dataset\n",
    ")\n",
    "\n",
    "from network import Network\n",
    "\n",
    "from layers import (\n",
    "    InputLayer,\n",
    "    DenseLayer,\n",
    "    ActivationLayer,\n",
    "    BatchNormLayer,\n",
    "    DropoutLayer\n",
    ")\n",
    "\n",
    "from regularizers import L1, L2, L1_L2\n",
    "\n",
    "from callbacks import EarlyStoppingCallback"
   ]
  },
  {
   "cell_type": "markdown",
   "id": "4256525c",
   "metadata": {},
   "source": [
    "<br/>"
   ]
  },
  {
   "cell_type": "markdown",
   "id": "65f75dc2",
   "metadata": {},
   "source": [
    "## Defining the datatype of <ins>all</ins> the data that will flow through the network"
   ]
  },
  {
   "cell_type": "markdown",
   "id": "c12670a9",
   "metadata": {},
   "source": [
    "For now, the only accepted datatypes are `float32` (default) and `float64` :"
   ]
  },
  {
   "cell_type": "code",
   "execution_count": 2,
   "id": "b9101ff0",
   "metadata": {},
   "outputs": [],
   "source": [
    "# = \"float32\" (default) or \"float64\"\n",
    "datatype = \"float32\"\n",
    "\n",
    "set_global_datatype(datatype)"
   ]
  },
  {
   "cell_type": "markdown",
   "id": "62f19fa1",
   "metadata": {},
   "source": [
    "<br/>"
   ]
  },
  {
   "cell_type": "markdown",
   "id": "7365248a",
   "metadata": {},
   "source": [
    "## Variables that need to be manually defined (because they depend on the used dataset)"
   ]
  },
  {
   "cell_type": "markdown",
   "id": "7f2d05d5",
   "metadata": {},
   "source": [
    "These variables are only related to the `Network.display_some_predictions` method, which is called at the very end of this notebook :"
   ]
  },
  {
   "cell_type": "code",
   "execution_count": 3,
   "id": "388a9f21",
   "metadata": {},
   "outputs": [],
   "source": [
    "samples_are_images = True\n",
    "\n",
    "if samples_are_images:\n",
    "    # Format : (height, width), (height, width, 1) or (height, width, 3)\n",
    "    #          (or `None` if the images are square-shaped, i.e. if their\n",
    "    #          shape is either NxN, NxNx1 or NxNx3)\n",
    "    default_image_shape = None"
   ]
  },
  {
   "cell_type": "markdown",
   "id": "99fa9ab8",
   "metadata": {},
   "source": [
    "<br/>"
   ]
  },
  {
   "cell_type": "markdown",
   "id": "e329c877",
   "metadata": {},
   "source": [
    "## Optional variables"
   ]
  },
  {
   "cell_type": "markdown",
   "id": "212f913a",
   "metadata": {},
   "source": [
    "Here, `selected_classes` can either be :\n",
    "- The string `\"all\"`, if you want to work with all the classes (default)\n",
    "- A list/tuple/1D-array containing the specific class indices you want to work with (e.g. `[2, 4, 7]`). Note that, for the MNIST data, the class indices are <ins>equivalent</ins> to the digits themselves"
   ]
  },
  {
   "cell_type": "code",
   "execution_count": 4,
   "id": "9d7099e0",
   "metadata": {},
   "outputs": [],
   "source": [
    "selected_classes = \"all\""
   ]
  },
  {
   "cell_type": "markdown",
   "id": "ef398054",
   "metadata": {},
   "source": [
    "If not set to `None`, `dict_of_real_class_names` is a dictionary with :\n",
    "- As its keys   : **all** the selected class indices (as integers)\n",
    "- As its values : the **real** names of the associated classes (as strings)\n",
    "\n",
    "For instance, if you set `selected_classes` to `[2, 4, 7]`, then you could, for instance, set `dict_of_real_class_names` to the following dictionary :\n",
    "`dict_of_real_class_names = {`<br>\n",
    "&nbsp;&nbsp;&nbsp;&nbsp;&nbsp;&nbsp;&nbsp;&nbsp;`2 : \"TWO\",`<br>\n",
    "&nbsp;&nbsp;&nbsp;&nbsp;&nbsp;&nbsp;&nbsp;&nbsp;`4 : \"FOUR\",`<br>\n",
    "&nbsp;&nbsp;&nbsp;&nbsp;&nbsp;&nbsp;&nbsp;&nbsp;`7 : \"SEVEN\"`<br>\n",
    "`}`\n",
    "\n",
    "By default, if `dict_of_real_class_names` is set to `None`, then the class names will simply be the string representations of the selected class indices :"
   ]
  },
  {
   "cell_type": "code",
   "execution_count": 5,
   "id": "b445aa65",
   "metadata": {},
   "outputs": [],
   "source": [
    "dict_of_real_class_names = None"
   ]
  },
  {
   "cell_type": "markdown",
   "id": "456f951b",
   "metadata": {},
   "source": [
    "<br/>"
   ]
  },
  {
   "cell_type": "markdown",
   "id": "02869d0a",
   "metadata": {},
   "source": [
    "## Loading and formatting the data"
   ]
  },
  {
   "cell_type": "markdown",
   "id": "e32dd9e4",
   "metadata": {},
   "source": [
    "### Seed"
   ]
  },
  {
   "cell_type": "markdown",
   "id": "33d37456",
   "metadata": {},
   "source": [
    "The following seed is currently used to :\n",
    "- Randomly split the raw data into the \"train/test\" or \"train/val/test\" sets\n",
    "- Randomly shuffle the \"train/test\" or \"train/val/test\" sets\n",
    "\n",
    "Set this seed to `None` for \"real\" randomness during those 2 processes :"
   ]
  },
  {
   "cell_type": "code",
   "execution_count": 6,
   "id": "c441debd",
   "metadata": {},
   "outputs": [],
   "source": [
    "seed_data_formatting = 555"
   ]
  },
  {
   "cell_type": "markdown",
   "id": "7a1629c5",
   "metadata": {},
   "source": [
    "### Defining the number of samples in the \"train/test\" or \"train/val/test\" sets"
   ]
  },
  {
   "cell_type": "markdown",
   "id": "ef0e07a7",
   "metadata": {},
   "source": [
    "**<ins>NB</ins>** : The validation set is extracted from the raw \"train\" data, not from the raw \"test\" data. As a reminder, for the MNIST dataset, there are :\n",
    "- 60000 samples in the raw \"train\" data **(if all the classes are selected)**\n",
    "- 10000 samples in the raw \"test\" data **(if all the classes are selected)**"
   ]
  },
  {
   "cell_type": "code",
   "execution_count": 7,
   "id": "96009827",
   "metadata": {},
   "outputs": [],
   "source": [
    "nb_train_samples = 10000\n",
    "nb_val_samples   = 1000 # can be set to zero if needed\n",
    "nb_test_samples  = 1000"
   ]
  },
  {
   "cell_type": "markdown",
   "id": "e3dc049d",
   "metadata": {},
   "source": [
    "### Loading the raw data"
   ]
  },
  {
   "cell_type": "code",
   "execution_count": 8,
   "id": "75a89bb3",
   "metadata": {},
   "outputs": [
    {
     "name": "stdout",
     "output_type": "stream",
     "text": [
      "\n",
      "Shapes of the raw MNIST data :\n",
      "    - X_train : (60000, 28, 28)\n",
      "    - y_train : (60000,)\n",
      "    - X_test  : (10000, 28, 28)\n",
      "    - y_test  : (10000,)\n",
      "\n",
      "Types of the raw MNIST data :\n",
      "    - X_train : numpy.uint8\n",
      "    - y_train : numpy.uint8\n",
      "    - X_test  : numpy.uint8\n",
      "    - y_test  : numpy.uint8\n",
      "\n",
      "Ranges of the raw MNIST data :\n",
      "    - X_train : 0 -> 255\n",
      "    - y_train : 0 -> 9\n",
      "    - X_test  : 0 -> 255\n",
      "    - y_test  : 0 -> 9\n",
      "\n",
      "Distribution of the class indices :\n",
      "\n",
      "y_train :\n",
      "    0 --> 09.87 %\n",
      "    1 --> 11.24 %\n",
      "    2 --> 09.93 %\n",
      "    3 --> 10.22 %\n",
      "    4 --> 09.74 %\n",
      "    5 --> 09.04 %\n",
      "    6 --> 09.86 %\n",
      "    7 --> 10.44 %\n",
      "    8 --> 09.75 %\n",
      "    9 --> 09.91 %\n",
      "y_test :\n",
      "    0 --> 09.80 %\n",
      "    1 --> 11.35 %\n",
      "    2 --> 10.32 %\n",
      "    3 --> 10.10 %\n",
      "    4 --> 09.82 %\n",
      "    5 --> 08.92 %\n",
      "    6 --> 09.58 %\n",
      "    7 --> 10.28 %\n",
      "    8 --> 09.74 %\n",
      "    9 --> 10.09 %\n",
      "\n",
      "The raw MNIST dataset was successfully loaded from the disk. Done in 0.231 seconds\n"
     ]
    }
   ],
   "source": [
    "raw_X_train, raw_y_train, raw_X_test, raw_y_test = load_raw_MNIST_dataset_from_disk(\n",
    "    verbose=True\n",
    ")"
   ]
  },
  {
   "cell_type": "markdown",
   "id": "5915aedd",
   "metadata": {},
   "source": [
    "### Plotting random samples of each digit (from the raw data)"
   ]
  },
  {
   "cell_type": "code",
   "execution_count": 9,
   "id": "9e685725",
   "metadata": {},
   "outputs": [
    {
     "data": {
      "image/png": "[encoded data removed]",
      "text/plain": [
       "<Figure size 1152x576 with 10 Axes>"
      ]
     },
     "metadata": {
      "needs_background": "light"
     },
     "output_type": "display_data"
    }
   ],
   "source": [
    "plot_random_images_from_raw_MNIST_dataset(\n",
    "    raw_X_train,\n",
    "    raw_y_train,\n",
    "    raw_X_test,\n",
    "    raw_y_test,\n",
    "    seed=None\n",
    ")"
   ]
  },
  {
   "cell_type": "markdown",
   "id": "ecb4002f",
   "metadata": {},
   "source": [
    "### Formatting the raw data"
   ]
  },
  {
   "cell_type": "markdown",
   "id": "189c8859",
   "metadata": {},
   "source": [
    "**<ins>NB</ins>** : If you set `nb_val_samples` to zero, `X_val` and `y_val` will both be equal to `None` :"
   ]
  },
  {
   "cell_type": "code",
   "execution_count": 10,
   "id": "88645121",
   "metadata": {},
   "outputs": [
    {
     "name": "stdout",
     "output_type": "stream",
     "text": [
      "\n",
      "Shapes of the formatted MNIST data :\n",
      "    - X_train : (10000, 784)\n",
      "    - y_train : (10000, 10)\n",
      "    - X_val   : (1000, 784)\n",
      "    - y_val   : (1000, 10)\n",
      "    - X_test  : (1000, 784)\n",
      "    - y_test  : (1000, 10)\n",
      "\n",
      "Types of the formatted MNIST data :\n",
      "    - X_train : numpy.float32\n",
      "    - y_train : numpy.float32\n",
      "    - X_val   : numpy.float32\n",
      "    - y_val   : numpy.float32\n",
      "    - X_test  : numpy.float32\n",
      "    - y_test  : numpy.float32\n",
      "\n",
      "Ranges of the formatted MNIST data :\n",
      "    - X_train : 0.000 -> 1.000 (mean=0.130, std=0.307)\n",
      "    - y_train : 0.000 -> 1.000 (one-hot encoded)\n",
      "    - X_val   : 0.000 -> 1.000 (mean=0.130, std=0.307)\n",
      "    - y_val   : 0.000 -> 1.000 (one-hot encoded)\n",
      "    - X_test  : 0.000 -> 1.000 (mean=0.133, std=0.311)\n",
      "    - y_test  : 0.000 -> 1.000 (one-hot encoded)\n",
      "\n",
      "Distribution of the class indices :\n",
      "\n",
      "y_train :\n",
      "    0 --> 09.87 %\n",
      "    1 --> 11.23 %\n",
      "    2 --> 09.93 %\n",
      "    3 --> 10.22 %\n",
      "    4 --> 09.74 %\n",
      "    5 --> 09.04 %\n",
      "    6 --> 09.86 %\n",
      "    7 --> 10.44 %\n",
      "    8 --> 09.75 %\n",
      "    9 --> 09.92 %\n",
      "y_val :\n",
      "    0 --> 09.90 %\n",
      "    1 --> 11.30 %\n",
      "    2 --> 09.90 %\n",
      "    3 --> 10.20 %\n",
      "    4 --> 09.70 %\n",
      "    5 --> 09.00 %\n",
      "    6 --> 09.90 %\n",
      "    7 --> 10.40 %\n",
      "    8 --> 09.80 %\n",
      "    9 --> 09.90 %\n",
      "y_test :\n",
      "    0 --> 09.80 %\n",
      "    1 --> 11.40 %\n",
      "    2 --> 10.30 %\n",
      "    3 --> 10.10 %\n",
      "    4 --> 09.80 %\n",
      "    5 --> 08.90 %\n",
      "    6 --> 09.60 %\n",
      "    7 --> 10.30 %\n",
      "    8 --> 09.70 %\n",
      "    9 --> 10.10 %\n",
      "\n",
      "The raw MNIST dataset was successfully formatted. Done in 0.589 seconds\n"
     ]
    }
   ],
   "source": [
    "X_train, y_train, X_val, y_val, X_test, y_test = format_raw_MNIST_dataset(\n",
    "    raw_X_train,\n",
    "    raw_y_train,\n",
    "    raw_X_test,\n",
    "    raw_y_test,\n",
    "    nb_train_samples,\n",
    "    nb_val_samples,\n",
    "    nb_test_samples,\n",
    "    selected_classes=selected_classes,\n",
    "    dict_of_real_class_names=dict_of_real_class_names,\n",
    "    nb_shuffles=20,\n",
    "    seed=seed_data_formatting,\n",
    "    verbose=True\n",
    ")"
   ]
  },
  {
   "cell_type": "markdown",
   "id": "c619f77b",
   "metadata": {},
   "source": [
    "<br/>"
   ]
  },
  {
   "cell_type": "markdown",
   "id": "f2a55b55",
   "metadata": {},
   "source": [
    "## Checking the formatted data"
   ]
  },
  {
   "cell_type": "markdown",
   "id": "07bd802f",
   "metadata": {},
   "source": [
    "**<ins>NB</ins>** : Assuming your data meets all the conditons described in the `README`, you don't need to change anything in this section"
   ]
  },
  {
   "cell_type": "code",
   "execution_count": 11,
   "id": "9fd8f17e",
   "metadata": {},
   "outputs": [],
   "source": [
    "# Checking the validity of `X_train`, `y_train`, `X_test` and `y_test`,\n",
    "# and returning their \"corrected\" counterparts\n",
    "\n",
    "try:\n",
    "    X_train, y_train, _ = Network._validate_data(X_train, y_train)\n",
    "    X_test,  y_test,  _ = Network._validate_data(X_test,  y_test)\n",
    "    \n",
    "    assert X_train.shape[1] == X_test.shape[1], \"X_train and X_test don't have the same number of features per sample !\"\n",
    "    assert y_train.shape[1] == y_test.shape[1], \"y_train and y_test don't have the same number of classes !\"\n",
    "except (UnboundLocalError, NameError):\n",
    "    raise Exception(\"Some training and/or testing data is not defined !\")"
   ]
  },
  {
   "cell_type": "code",
   "execution_count": 12,
   "id": "3412730b",
   "metadata": {},
   "outputs": [],
   "source": [
    "# Checking the validity of `X_val` and `y_val` (if they exist, and are both\n",
    "# not equal to `None`), and returning their \"corrected\" counterparts\n",
    "\n",
    "try:\n",
    "    if (X_val is not None) and (y_val is not None):\n",
    "        X_val, y_val, _ = Network._validate_data(X_val, y_val)\n",
    "        \n",
    "        assert X_train.shape[1] == X_val.shape[1], \"X_train and X_val don't have the same number of features per sample !\"\n",
    "        assert y_train.shape[1] == y_val.shape[1], \"y_train and y_val don't have the same number of classes !\"\n",
    "    else:\n",
    "        X_val, y_val = None, None\n",
    "except (UnboundLocalError, NameError):\n",
    "    # Here, it simply means that the validation data is not defined (which\n",
    "    # isn't a problem, since it's optional)\n",
    "    X_val, y_val = None, None\n",
    "\n",
    "assert (\"X_val\" in locals()) and (\"y_val\" in locals())\n",
    "\n",
    "_has_validation_data = ((X_val is not None) and (y_val is not None))"
   ]
  },
  {
   "cell_type": "code",
   "execution_count": 13,
   "id": "c980a12e",
   "metadata": {},
   "outputs": [
    {
     "name": "stdout",
     "output_type": "stream",
     "text": [
      "\n",
      "The formatted data was successfully checked\n"
     ]
    }
   ],
   "source": [
    "print(\"\\nThe formatted data was successfully checked\")"
   ]
  },
  {
   "cell_type": "markdown",
   "id": "35ba8fbc",
   "metadata": {},
   "source": [
    "<br/>"
   ]
  },
  {
   "cell_type": "markdown",
   "id": "3e89f77c",
   "metadata": {},
   "source": [
    "## Defining the hyperparameters of the network's architecture"
   ]
  },
  {
   "cell_type": "markdown",
   "id": "38812faf",
   "metadata": {},
   "source": [
    "### Seed"
   ]
  },
  {
   "cell_type": "markdown",
   "id": "9d80542c",
   "metadata": {},
   "source": [
    "The following seed is currently used to :<br>\n",
    "- Randomly initialize the weights and biases of the Dense layers\n",
    "- Randomly generate the dropout matrices of the Dropout layers (if these layers are used)\n",
    "- Randomly split the training data into batches during the training phase (at each epoch)\n",
    "\n",
    "Set this seed to `None` for \"real\" randomness during those 3 processes :"
   ]
  },
  {
   "cell_type": "code",
   "execution_count": 14,
   "id": "02027eaa",
   "metadata": {},
   "outputs": [],
   "source": [
    "seed_network = 7777"
   ]
  },
  {
   "cell_type": "markdown",
   "id": "6f4d660c",
   "metadata": {},
   "source": [
    "### Input size of the network"
   ]
  },
  {
   "cell_type": "code",
   "execution_count": 15,
   "id": "036e4b7a",
   "metadata": {},
   "outputs": [
    {
     "data": {
      "text/plain": [
       "784"
      ]
     },
     "execution_count": 15,
     "metadata": {},
     "output_type": "execute_result"
    }
   ],
   "source": [
    "# Input size = `nb_features_per_sample`\n",
    "nb_features_per_sample = X_train.shape[1]\n",
    "\n",
    "nb_features_per_sample"
   ]
  },
  {
   "cell_type": "markdown",
   "id": "5d74f7a6",
   "metadata": {},
   "source": [
    "### Output size of the network"
   ]
  },
  {
   "cell_type": "code",
   "execution_count": 16,
   "id": "db1d8cac",
   "metadata": {},
   "outputs": [
    {
     "data": {
      "text/plain": [
       "10"
      ]
     },
     "execution_count": 16,
     "metadata": {},
     "output_type": "execute_result"
    }
   ],
   "source": [
    "# Output size = `nb_classes` = number of (distinct) selected class indices\n",
    "nb_classes = y_train.shape[1]\n",
    "\n",
    "nb_classes"
   ]
  },
  {
   "cell_type": "markdown",
   "id": "7903014b",
   "metadata": {},
   "source": [
    "### Main hyperparameters"
   ]
  },
  {
   "cell_type": "markdown",
   "id": "25540887",
   "metadata": {},
   "source": [
    "The following list defines the output sizes (or the \"number of neurons\") of each **Dense layer** of the network (in chronological order), **excluding the input and output Dense layers** :"
   ]
  },
  {
   "cell_type": "code",
   "execution_count": 17,
   "id": "5d18d0e1",
   "metadata": {},
   "outputs": [],
   "source": [
    "nb_neurons_in_hidden_dense_layers = [\n",
    "    256,\n",
    "    64,\n",
    "    32\n",
    "]"
   ]
  },
  {
   "cell_type": "markdown",
   "id": "87dcbe97",
   "metadata": {},
   "source": [
    "Defining the name of the main activation function (case insensitive). Relevant choices here :\n",
    "- `\"ReLU\"`\n",
    "- `\"leaky_ReLU\"`\n",
    "- `\"PReLU\"`\n",
    "- `\"tanh\"`\n",
    "- `\"sigmoid\"`"
   ]
  },
  {
   "cell_type": "code",
   "execution_count": 18,
   "id": "4437c881",
   "metadata": {},
   "outputs": [],
   "source": [
    "main_activation_name = \"ReLU\""
   ]
  },
  {
   "cell_type": "markdown",
   "id": "af38faa8",
   "metadata": {},
   "source": [
    "Defining the \"leaky ReLU coefficient\" (default value : `0.01`). It has to be a small positive constant in the range `]0, 1[`. If you didn't select the leaky ReLU activation as the main activation function, the defined `leaky_ReLU_coeff` kwarg will simply be discarded when processed by the main Activation layers :"
   ]
  },
  {
   "cell_type": "code",
   "execution_count": 19,
   "id": "aa017cbf",
   "metadata": {},
   "outputs": [],
   "source": [
    "main_activation_kwargs = {\n",
    "    \"leaky_ReLU_coeff\" : 0.01\n",
    "}"
   ]
  },
  {
   "cell_type": "markdown",
   "id": "7352626a",
   "metadata": {},
   "source": [
    "Defining the name of the output activation function (case insensitive). Relevant choices here :\n",
    "- `\"softmax\"`\n",
    "- `\"log_softmax\"` (you might have to increase the learning rate a bit to make it work)\n",
    "- `\"sigmoid\"`&nbsp;&nbsp;&nbsp;&nbsp;&nbsp;&nbsp;&nbsp;&nbsp; (you also might have to increase the learning rate a bit to make it work)"
   ]
  },
  {
   "cell_type": "code",
   "execution_count": 20,
   "id": "aff4abb2",
   "metadata": {},
   "outputs": [],
   "source": [
    "output_activation_name = \"softmax\""
   ]
  },
  {
   "cell_type": "markdown",
   "id": "81ae4875",
   "metadata": {},
   "source": [
    "### L1 and L2 regularizers"
   ]
  },
  {
   "cell_type": "markdown",
   "id": "57fda242",
   "metadata": {},
   "source": [
    "The higher the L1/L2 coefficients, the higher the constraints will be on the (maximum absolute values of the elements of the) weights and biases of the Dense layers. The L1 and L2 regularizations are used to help prevent overfitting (without necessarily improving the overall accuracy of the network) :"
   ]
  },
  {
   "cell_type": "code",
   "execution_count": 21,
   "id": "17e2df08",
   "metadata": {},
   "outputs": [],
   "source": [
    "use_L1_L2_regularizers = False\n",
    "\n",
    "if use_L1_L2_regularizers:\n",
    "    \"\"\"\n",
    "    Usecases\n",
    "    --------\n",
    "    (L1_coeff != None) and (L2_coeff == None)  -->  L1(L1_coeff)\n",
    "    (L1_coeff == None) and (L2_coeff != None)  -->  L2(L2_coeff)\n",
    "    (L1_coeff != None) and (L2_coeff != None)  -->  L1_L2(L1_coeff, L2_coeff)\n",
    "    \"\"\"\n",
    "    L1_coeff = None # has to lie in the range ]0, 1[ (if not `None`)\n",
    "    L2_coeff = 0.01 # has to lie in the range ]0, 1[ (if not `None`)\n",
    "    \n",
    "    if (L1_coeff is not None) and (L2_coeff is None):\n",
    "        regularizer = L1(L1_coeff)\n",
    "    elif (L1_coeff is None) and (L2_coeff is not None):\n",
    "        regularizer = L2(L2_coeff)\n",
    "    elif (L1_coeff is not None) and (L2_coeff is not None):\n",
    "        # Sidenote : If both `L1_coeff` and `L2_coeff` are equal, then,\n",
    "        # equivalently, you can call `L1_L2(L1_coeff)` or `L1_L2(L2_coeff)`\n",
    "        regularizer = L1_L2(L1_coeff, L2_coeff)\n",
    "    else:\n",
    "        raise ValueError(\"Please set a \\\"non-None\\\" value for `L1_coeff` and/or `L2_coeff`\")\n",
    "else:\n",
    "    regularizer = None"
   ]
  },
  {
   "cell_type": "markdown",
   "id": "e8037c62",
   "metadata": {},
   "source": [
    "### BatchNorm layers"
   ]
  },
  {
   "cell_type": "markdown",
   "id": "cc66a414",
   "metadata": {},
   "source": [
    "The **BatchNorm layer** is a regularization layer that helps prevent overfitting (without necessarily improving the overall accuracy of the network). It basically standardizes (i.e. it normalizes with a mean of 0 and a standard deviation of 1) the outputs of the previous layer, and then applies an affine transform to the standardized outputs. The 2 parameters of the affine transform (typically called `gamma` and `beta`) are the trainable parameters of the layer :"
   ]
  },
  {
   "cell_type": "code",
   "execution_count": 22,
   "id": "3eced0c1",
   "metadata": {},
   "outputs": [],
   "source": [
    "use_batch_norm_layers = False"
   ]
  },
  {
   "cell_type": "markdown",
   "id": "71a09470",
   "metadata": {},
   "source": [
    "### Dropout layers"
   ]
  },
  {
   "cell_type": "markdown",
   "id": "8f895c41",
   "metadata": {},
   "source": [
    "Just like the BatchNorm layer, the **Dropout layer** is a regularization layer that helps prevent overfitting, without necessarily improving the overall accuracy of the network. Basically, it randomly sets input values to 0 with a frequency of `dropout_rate` at each step during the training phase. This layer doesn't have any trainable parameters :"
   ]
  },
  {
   "cell_type": "code",
   "execution_count": 23,
   "id": "8b65f3d9",
   "metadata": {},
   "outputs": [],
   "source": [
    "use_dropout_layers = False\n",
    "dropout_rate = 0.30 # has to lie in the range ]0, 1["
   ]
  },
  {
   "cell_type": "markdown",
   "id": "385600cb",
   "metadata": {},
   "source": [
    "<br/>"
   ]
  },
  {
   "cell_type": "markdown",
   "id": "f2e5fec3",
   "metadata": {},
   "source": [
    "## Building the network's architecture from the previously defined hyperparameters"
   ]
  },
  {
   "cell_type": "markdown",
   "id": "1220ae0f",
   "metadata": {},
   "source": [
    "### Initializing the network"
   ]
  },
  {
   "cell_type": "markdown",
   "id": "ab6a0ece",
   "metadata": {},
   "source": [
    "If you set the `standardize_input_data` kwarg to `True`, the training, testing and/or validation sets will be normalized such that their mean is 0 and their standard deviation is 1 (i.e. they will be standardized). It's highly recommended to set `normalize_input_data` to `True`, in order to get better results :"
   ]
  },
  {
   "cell_type": "code",
   "execution_count": 24,
   "id": "96d5b8aa",
   "metadata": {},
   "outputs": [],
   "source": [
    "network = Network(standardize_input_data=True)"
   ]
  },
  {
   "cell_type": "markdown",
   "id": "a2f4c8f3",
   "metadata": {},
   "source": [
    "### Input layer"
   ]
  },
  {
   "cell_type": "code",
   "execution_count": 25,
   "id": "b8707a92",
   "metadata": {},
   "outputs": [],
   "source": [
    "network.add(InputLayer(input_size=nb_features_per_sample))"
   ]
  },
  {
   "cell_type": "markdown",
   "id": "5e7062c7",
   "metadata": {},
   "source": [
    "### Hidden layers"
   ]
  },
  {
   "cell_type": "code",
   "execution_count": 26,
   "id": "0ad05d1f",
   "metadata": {},
   "outputs": [],
   "source": [
    "seed = seed_network\n",
    "\n",
    "# Creating the \"main ActivationLayer template\"\n",
    "main_activation_layer = ActivationLayer(main_activation_name, **main_activation_kwargs)\n",
    "\n",
    "# Creating the \"BatchNormLayer template\"\n",
    "batch_norm_layer = BatchNormLayer()\n",
    "\n",
    "for nb_neurons in nb_neurons_in_hidden_dense_layers:\n",
    "    network.add(DenseLayer(\n",
    "        nb_neurons,\n",
    "        use_biases=True,\n",
    "        regularizer=regularizer,\n",
    "        seed=seed\n",
    "    ))\n",
    "    \n",
    "    if use_batch_norm_layers:\n",
    "        # Adding a BatchNorm regularization layer (if requested)\n",
    "        network.add(batch_norm_layer)\n",
    "    \n",
    "    network.add(main_activation_layer)\n",
    "    \n",
    "    if use_dropout_layers:\n",
    "        # Adding a Dropout regularization layer (if requested)\n",
    "        network.add(DropoutLayer(dropout_rate, seed=seed))\n",
    "    \n",
    "    if seed is not None:\n",
    "        # Updating the seed such that the \"randomness\" in the added\n",
    "        # Dense/Dropout layers is different each time (in case 2\n",
    "        # consecutive values of `nb_neurons` are the same)\n",
    "        seed += 1 # The increment value is arbitrary"
   ]
  },
  {
   "cell_type": "markdown",
   "id": "3ceeda95",
   "metadata": {},
   "source": [
    "### Output layers"
   ]
  },
  {
   "cell_type": "code",
   "execution_count": 27,
   "id": "4b61af58",
   "metadata": {},
   "outputs": [],
   "source": [
    "network.add(DenseLayer(\n",
    "    nb_classes,\n",
    "    use_biases=True,\n",
    "    regularizer=regularizer,\n",
    "    seed=seed\n",
    "))\n",
    "\n",
    "network.add(ActivationLayer(output_activation_name))"
   ]
  },
  {
   "cell_type": "markdown",
   "id": "0005efa5",
   "metadata": {},
   "source": [
    "### Here would be the equivalent code to build the network, but using the `__call__` API instead :"
   ]
  },
  {
   "cell_type": "code",
   "execution_count": 28,
   "id": "3a864aed",
   "metadata": {},
   "outputs": [],
   "source": [
    "use_call_API = False\n",
    "\n",
    "if use_call_API:\n",
    "    # Input Layer\n",
    "    input_layer = InputLayer(input_size=nb_features_per_sample)\n",
    "    x = input_layer # Renaming the input layer for convenience purposes\n",
    "    \n",
    "    # Creating the \"main ActivationLayer template\"\n",
    "    main_activation_layer = ActivationLayer(main_activation_name, **main_activation_kwargs)\n",
    "    \n",
    "    # Creating the \"BatchNormLayer template\"\n",
    "    batch_norm_layer = BatchNormLayer()\n",
    "    \n",
    "    # Hidden layers\n",
    "    \n",
    "    seed = seed_network\n",
    "    \n",
    "    for nb_neurons in nb_neurons_in_hidden_dense_layers:\n",
    "        x = DenseLayer(\n",
    "                nb_neurons,\n",
    "                use_biases=True,\n",
    "                regularizer=regularizer,\n",
    "                seed=seed\n",
    "        )(x)\n",
    "        \n",
    "        if use_batch_norm_layers:\n",
    "            x = batch_norm_layer(x)\n",
    "        \n",
    "        x = main_activation_layer(x)\n",
    "        \n",
    "        if use_dropout_layers:\n",
    "            x = DropoutLayer(dropout_rate, seed=seed)(x)\n",
    "        \n",
    "        if seed is not None:\n",
    "            seed += 1 # The increment value is arbitrary\n",
    "    \n",
    "    # Output layers\n",
    "    x = DenseLayer(\n",
    "            nb_classes,\n",
    "            use_biases=True,\n",
    "            regularizer=regularizer,\n",
    "            seed=seed\n",
    "    )(x)\n",
    "    x = ActivationLayer(output_activation_name)(x)\n",
    "    output_layer = x # Renaming the output layer for convenience purposes\n",
    "    \n",
    "    # Building the network using the `__call__` API\n",
    "    network = Network()(input_layer, output_layer)"
   ]
  },
  {
   "cell_type": "markdown",
   "id": "280efbb0",
   "metadata": {},
   "source": [
    "### Displaying the summary of the network's architecture"
   ]
  },
  {
   "cell_type": "markdown",
   "id": "96b1c8ef",
   "metadata": {},
   "source": [
    "**<ins>NB</ins>** : The kwargs of this method will only affect how the summary will look like when it's printed (they won't affect the summary's contents)"
   ]
  },
  {
   "cell_type": "code",
   "execution_count": 29,
   "id": "d7ba7c8f",
   "metadata": {},
   "outputs": [
    {
     "name": "stdout",
     "output_type": "stream",
     "text": [
      "\n",
      " ****************************************************************************************************************\n",
      " *                                                                                                              *\n",
      " *                                               NETWORK SUMMARY                                                *\n",
      " *                                                                                                              *\n",
      " *    |  Layer name    |  Layer type             |  Input shape  |  Output shape  |  Trainable parameters  |    *\n",
      " *    |----------------|-------------------------|---------------|----------------|------------------------|    *\n",
      " *    |  input_1       |  Input(784)             |  (None, 784)  |  (None, 784)   |  0                     |    *\n",
      " *    |  dense_1       |  Dense(256)             |  (None, 784)  |  (None, 256)   |  200,960               |    *\n",
      " *    |  activation_1  |  Activation(\"relu\")     |  (None, 256)  |  (None, 256)   |  0                     |    *\n",
      " *    |  dense_2       |  Dense(64)              |  (None, 256)  |  (None, 64)    |  16,448                |    *\n",
      " *    |  activation_2  |  Activation(\"relu\")     |  (None, 64)   |  (None, 64)    |  0                     |    *\n",
      " *    |  dense_3       |  Dense(32)              |  (None, 64)   |  (None, 32)    |  2,080                 |    *\n",
      " *    |  activation_3  |  Activation(\"relu\")     |  (None, 32)   |  (None, 32)    |  0                     |    *\n",
      " *    |  dense_4       |  Dense(10)              |  (None, 32)   |  (None, 10)    |  330                   |    *\n",
      " *    |  activation_4  |  Activation(\"softmax\")  |  (None, 10)   |  (None, 10)    |  0                     |    *\n",
      " *                                                                                                              *\n",
      " *                                Total number of trainable parameters : 219,818                                *\n",
      " *                                                                                                              *\n",
      " ****************************************************************************************************************\n"
     ]
    }
   ],
   "source": [
    "network.summary(\n",
    "    column_separator=\"|\",        # can be multiple characters long\n",
    "    row_separator=\"-\",           # has to be a single character\n",
    "    bounding_box=\"*\",            # has to be a single character\n",
    "    alignment=\"left\",            # = \"left\" (default), \"right\" or \"center\"\n",
    "    transition_row_style=\"full\", # = \"full\" (default) or \"partial\"\n",
    "    column_spacing=2,\n",
    "    horizontal_spacing=4,\n",
    "    vertical_spacing=1,\n",
    "    offset_spacing=1\n",
    ")\n",
    "\n",
    "# Or, equivalently, you can run `network.summary()` or `print(network)`"
   ]
  },
  {
   "cell_type": "markdown",
   "id": "a81e13a7",
   "metadata": {},
   "source": [
    "<br/>"
   ]
  },
  {
   "cell_type": "markdown",
   "id": "fd94e3f2",
   "metadata": {},
   "source": [
    "## Setting the hyperparameters related to the training phase"
   ]
  },
  {
   "cell_type": "markdown",
   "id": "8f306155",
   "metadata": {},
   "source": [
    "### Main hyperparameters"
   ]
  },
  {
   "cell_type": "markdown",
   "id": "75daa76d",
   "metadata": {},
   "source": [
    "Number of times the trainable parameters will be updated using the **whole** training data :"
   ]
  },
  {
   "cell_type": "code",
   "execution_count": 30,
   "id": "96d4d436",
   "metadata": {},
   "outputs": [],
   "source": [
    "nb_epochs = 50"
   ]
  },
  {
   "cell_type": "markdown",
   "id": "3e177b1d",
   "metadata": {},
   "source": [
    "If you lower the batch size, you might also want to lower the learning rate, in order to prevent the network from overfitting :"
   ]
  },
  {
   "cell_type": "code",
   "execution_count": 31,
   "id": "9f00268b",
   "metadata": {},
   "outputs": [],
   "source": [
    "train_batch_size = 20"
   ]
  },
  {
   "cell_type": "markdown",
   "id": "0bcdceec",
   "metadata": {},
   "source": [
    "The learning rate is a small positive constant in the range `]0, 1[` :"
   ]
  },
  {
   "cell_type": "code",
   "execution_count": 32,
   "id": "f6dec35d",
   "metadata": {},
   "outputs": [],
   "source": [
    "learning_rate = 0.00001"
   ]
  },
  {
   "cell_type": "markdown",
   "id": "619f6da5",
   "metadata": {},
   "source": [
    "### Optimizer"
   ]
  },
  {
   "cell_type": "markdown",
   "id": "505dcbd5",
   "metadata": {},
   "source": [
    "Defining the name of the weight optimization algorithm (case insensitive). Relevant choices here :\n",
    "- `\"SGD\"` (Stochastic Gradient Descent)\n",
    "- `\"Adam\"`\n",
    "- `\"RMSprop\"`"
   ]
  },
  {
   "cell_type": "code",
   "execution_count": 33,
   "id": "5e13eaa6",
   "metadata": {},
   "outputs": [
    {
     "name": "stdout",
     "output_type": "stream",
     "text": [
      "\n",
      "The network's optimizer was successfully set to \"rmsprop\" (learning_rate=0.00001)\n"
     ]
    }
   ],
   "source": [
    "optimizer_name = \"RMSprop\"\n",
    "\n",
    "# NB : For the \"SGD\" optimizer, the value of the learning rate usually\n",
    "#      needs to be a bit higher than for the \"Adam\" and \"RMSprop\"\n",
    "#      optimizers (in order to converge)\n",
    "\n",
    "# Here, if you don't specify the `learning_rate` kwarg, the learning rate\n",
    "# will be automatically set to 0.001\n",
    "network.set_optimizer(\n",
    "    optimizer_name,\n",
    "    learning_rate=learning_rate,\n",
    "    verbose=True\n",
    ")"
   ]
  },
  {
   "cell_type": "markdown",
   "id": "b08c3371",
   "metadata": {},
   "source": [
    "### Loss function"
   ]
  },
  {
   "cell_type": "markdown",
   "id": "c238523a",
   "metadata": {},
   "source": [
    "Defining the name of the loss function (case insensitive). Relevant choices here :\n",
    "- `\"CCE\"` (Categorical Cross-Entropy)\n",
    "- `\"MSE\"` (Mean Squared Error)"
   ]
  },
  {
   "cell_type": "code",
   "execution_count": 34,
   "id": "902322ee",
   "metadata": {},
   "outputs": [
    {
     "name": "stdout",
     "output_type": "stream",
     "text": [
      "\n",
      "The network's loss function was successfully set to \"cce\"\n"
     ]
    }
   ],
   "source": [
    "loss_function_name = \"CCE\"\n",
    "network.set_loss_function(loss_function_name, verbose=True)"
   ]
  },
  {
   "cell_type": "markdown",
   "id": "5a103a66",
   "metadata": {},
   "source": [
    "### Validation kwargs"
   ]
  },
  {
   "cell_type": "markdown",
   "id": "9d4d2584",
   "metadata": {},
   "source": [
    "Here, inputting validation data is **<ins>optional</ins>**. If you don't want to use validation data, please (at least) set the `validation_data` kwarg to `None` (or don't specify it at all) :"
   ]
  },
  {
   "cell_type": "code",
   "execution_count": 35,
   "id": "da2e055d",
   "metadata": {},
   "outputs": [],
   "source": [
    "if _has_validation_data:\n",
    "    validation_kwargs = {\n",
    "        \"validation_data\" : (X_val, y_val), # can be set to `None` if needed\n",
    "        \"val_batch_size\"  : 32              # default value\n",
    "    }\n",
    "else:\n",
    "    validation_kwargs = {}"
   ]
  },
  {
   "cell_type": "markdown",
   "id": "7e945e19",
   "metadata": {},
   "source": [
    "### Callbacks (setting the `training_callbacks` kwarg)"
   ]
  },
  {
   "cell_type": "markdown",
   "id": "9cab3582",
   "metadata": {},
   "source": [
    "So far, the only callback that has been implemented is the `EarlyStoppingCallback`. With the latter, you can monitor one of the following metrics :\n",
    "- `\"train_loss\"`\n",
    "- `\"train_accuracy\"`\n",
    "- `\"val_loss\"`\n",
    "- `\"val_accuracy\"`\n",
    "\n",
    "Naturally, the two last metrics require that you input validation data to the `Network.fit` method :"
   ]
  },
  {
   "cell_type": "code",
   "execution_count": 36,
   "id": "37009573",
   "metadata": {},
   "outputs": [],
   "source": [
    "if _has_validation_data:\n",
    "    monitored_metric = \"val_loss\"\n",
    "else:\n",
    "    monitored_metric = \"train_loss\""
   ]
  },
  {
   "cell_type": "markdown",
   "id": "fcafb51c",
   "metadata": {},
   "source": [
    "The early stopping callback will check if the sequence formed by the  last `patience` monitored values (of the last `patience` epochs) is strictly monotonous (in the \"wrong direction\"). If that's the case, then the training loop is prematurely stopped. Basically :\n",
    "- If a loss is being monitored : since the losses are meant to be minimized, it'll check if the monitored loss has only been increasing over the past `patience` epochs\n",
    "- If an accuracy is being monitored : since the accuracies are meant to be maximized, it'll check if the monitored accuracy has only been decreasing over the past `patience` epochs"
   ]
  },
  {
   "cell_type": "code",
   "execution_count": 37,
   "id": "978945f1",
   "metadata": {},
   "outputs": [],
   "source": [
    "early_stopping_callback = EarlyStoppingCallback(\n",
    "    monitor=monitored_metric,\n",
    "    patience=5 # has to be >= 2\n",
    ")\n",
    "\n",
    "# You can set `training_callbacks` to `None` (or to the empty list/tuple)\n",
    "# if needed\n",
    "training_callbacks = [early_stopping_callback]"
   ]
  },
  {
   "cell_type": "markdown",
   "id": "f334ae55",
   "metadata": {},
   "source": [
    "<br/>"
   ]
  },
  {
   "cell_type": "markdown",
   "id": "b75f3c89",
   "metadata": {},
   "source": [
    "## Training phase"
   ]
  },
  {
   "cell_type": "markdown",
   "id": "82cdc9ba",
   "metadata": {},
   "source": [
    "**<ins>NB</ins>** : If you set the `enable_checks` kwarg to `False` (to *slightly* speed up the training), please first make sure your network runs a couple of epochs without errors when the same kwarg is set to `True` !"
   ]
  },
  {
   "cell_type": "code",
   "execution_count": 38,
   "id": "977a300e",
   "metadata": {
    "scrolled": false
   },
   "outputs": [
    {
     "name": "stdout",
     "output_type": "stream",
     "text": [
      "\n",
      "# --------------------------------------------------------------------------------------- #\n",
      "\n",
      "     Starting the training loop ...\n",
      "\n",
      "     epoch 01/50 :\n",
      "     train_loss=2.6219 - val_loss=2.0362 - train_accuracy=0.2384 - val_accuracy=0.3500                                                                \n",
      "\n",
      "     epoch 02/50 :\n",
      "     train_loss=1.7772 - val_loss=1.6077 - train_accuracy=0.4402 - val_accuracy=0.5100                                                                \n",
      "\n",
      "     epoch 03/50 :\n",
      "     train_loss=1.4097 - val_loss=1.2865 - train_accuracy=0.5916 - val_accuracy=0.6290                                                                \n",
      "\n",
      "     epoch 04/50 :\n",
      "     train_loss=1.0722 - val_loss=0.9943 - train_accuracy=0.6959 - val_accuracy=0.7080                                                                \n",
      "\n",
      "     epoch 05/50 :\n",
      "     train_loss=0.8168 - val_loss=0.8136 - train_accuracy=0.7740 - val_accuracy=0.7630                                                                \n",
      "\n",
      "     epoch 06/50 :\n",
      "     train_loss=0.6760 - val_loss=0.7107 - train_accuracy=0.8169 - val_accuracy=0.7890                                                                \n",
      "\n",
      "     epoch 07/50 :\n",
      "     train_loss=0.5871 - val_loss=0.6348 - train_accuracy=0.8428 - val_accuracy=0.8170                                                                \n",
      "\n",
      "     epoch 08/50 :\n",
      "     train_loss=0.5239 - val_loss=0.5834 - train_accuracy=0.8587 - val_accuracy=0.8320                                                                \n",
      "\n",
      "     epoch 09/50 :\n",
      "     train_loss=0.4771 - val_loss=0.5426 - train_accuracy=0.8716 - val_accuracy=0.8470                                                                \n",
      "\n",
      "     epoch 10/50 :\n",
      "     train_loss=0.4407 - val_loss=0.5104 - train_accuracy=0.8815 - val_accuracy=0.8570                                                                \n",
      "\n",
      "     epoch 11/50 :\n",
      "     train_loss=0.4104 - val_loss=0.4859 - train_accuracy=0.8911 - val_accuracy=0.8660                                                                \n",
      "\n",
      "     epoch 12/50 :\n",
      "     train_loss=0.3861 - val_loss=0.4625 - train_accuracy=0.8979 - val_accuracy=0.8700                                                                \n",
      "\n",
      "     epoch 13/50 :\n",
      "     train_loss=0.3653 - val_loss=0.4437 - train_accuracy=0.9059 - val_accuracy=0.8730                                                                \n",
      "\n",
      "     epoch 14/50 :\n",
      "     train_loss=0.3467 - val_loss=0.4295 - train_accuracy=0.9101 - val_accuracy=0.8770                                                                \n",
      "\n",
      "     epoch 15/50 :\n",
      "     train_loss=0.3307 - val_loss=0.4168 - train_accuracy=0.9153 - val_accuracy=0.8870                                                                \n",
      "\n",
      "     epoch 16/50 :\n",
      "     train_loss=0.3160 - val_loss=0.4031 - train_accuracy=0.9191 - val_accuracy=0.8860                                                                \n",
      "\n",
      "     epoch 17/50 :\n",
      "     train_loss=0.3035 - val_loss=0.3923 - train_accuracy=0.9229 - val_accuracy=0.8930                                                                \n",
      "\n",
      "     epoch 18/50 :\n",
      "     train_loss=0.2911 - val_loss=0.3815 - train_accuracy=0.9267 - val_accuracy=0.8960                                                                \n",
      "\n",
      "     epoch 19/50 :\n",
      "     train_loss=0.2807 - val_loss=0.3749 - train_accuracy=0.9301 - val_accuracy=0.8940                                                                \n",
      "\n",
      "     epoch 20/50 :\n",
      "     train_loss=0.2710 - val_loss=0.3652 - train_accuracy=0.9330 - val_accuracy=0.8990                                                                \n",
      "\n",
      "     epoch 21/50 :\n",
      "     train_loss=0.2622 - val_loss=0.3584 - train_accuracy=0.9358 - val_accuracy=0.9060                                                                \n",
      "\n",
      "     epoch 22/50 :\n",
      "     train_loss=0.2531 - val_loss=0.3506 - train_accuracy=0.9371 - val_accuracy=0.9080                                                                \n",
      "\n",
      "     epoch 23/50 :\n",
      "     train_loss=0.2457 - val_loss=0.3441 - train_accuracy=0.9397 - val_accuracy=0.9120                                                                \n",
      "\n",
      "     epoch 24/50 :\n",
      "     train_loss=0.2383 - val_loss=0.3405 - train_accuracy=0.9418 - val_accuracy=0.9080                                                                \n",
      "\n",
      "     epoch 25/50 :\n",
      "     train_loss=0.2312 - val_loss=0.3350 - train_accuracy=0.9452 - val_accuracy=0.9120                                                                \n",
      "\n",
      "     epoch 26/50 :\n",
      "     train_loss=0.2249 - val_loss=0.3281 - train_accuracy=0.9476 - val_accuracy=0.9150                                                                \n",
      "\n",
      "     epoch 27/50 :\n",
      "     train_loss=0.2187 - val_loss=0.3256 - train_accuracy=0.9489 - val_accuracy=0.9120                                                                \n",
      "\n",
      "     epoch 28/50 :\n",
      "     train_loss=0.2127 - val_loss=0.3203 - train_accuracy=0.9508 - val_accuracy=0.9120                                                                \n",
      "\n",
      "     epoch 29/50 :\n",
      "     train_loss=0.2068 - val_loss=0.3167 - train_accuracy=0.9527 - val_accuracy=0.9110                                                                \n",
      "\n",
      "     epoch 30/50 :\n",
      "     train_loss=0.2020 - val_loss=0.3128 - train_accuracy=0.9540 - val_accuracy=0.9130                                                                \n",
      "\n",
      "     epoch 31/50 :\n",
      "     train_loss=0.1969 - val_loss=0.3090 - train_accuracy=0.9564 - val_accuracy=0.9150                                                                \n",
      "\n",
      "     epoch 32/50 :\n",
      "     train_loss=0.1921 - val_loss=0.3070 - train_accuracy=0.9562 - val_accuracy=0.9150                                                                \n",
      "\n",
      "     epoch 33/50 :\n",
      "     train_loss=0.1877 - val_loss=0.3035 - train_accuracy=0.9576 - val_accuracy=0.9150                                                                \n",
      "\n",
      "     epoch 34/50 :\n",
      "     train_loss=0.1831 - val_loss=0.2997 - train_accuracy=0.9594 - val_accuracy=0.9170                                                                \n",
      "\n",
      "     epoch 35/50 :\n",
      "     train_loss=0.1791 - val_loss=0.2977 - train_accuracy=0.9601 - val_accuracy=0.9170                                                                \n",
      "\n",
      "     epoch 36/50 :\n",
      "     train_loss=0.1749 - val_loss=0.2950 - train_accuracy=0.9614 - val_accuracy=0.9210                                                                \n",
      "\n",
      "     epoch 37/50 :\n",
      "     train_loss=0.1709 - val_loss=0.2931 - train_accuracy=0.9632 - val_accuracy=0.9160                                                                \n",
      "\n",
      "     epoch 38/50 :\n",
      "     train_loss=0.1676 - val_loss=0.2910 - train_accuracy=0.9651 - val_accuracy=0.9180                                                                \n",
      "\n",
      "     epoch 39/50 :\n",
      "     train_loss=0.1640 - val_loss=0.2890 - train_accuracy=0.9655 - val_accuracy=0.9210                                                                \n",
      "\n",
      "     epoch 40/50 :\n",
      "     train_loss=0.1603 - val_loss=0.2885 - train_accuracy=0.9673 - val_accuracy=0.9200                                                                \n",
      "\n",
      "     epoch 41/50 :\n",
      "     train_loss=0.1575 - val_loss=0.2850 - train_accuracy=0.9683 - val_accuracy=0.9200                                                                \n",
      "\n",
      "     epoch 42/50 :\n",
      "     train_loss=0.1541 - val_loss=0.2825 - train_accuracy=0.9683 - val_accuracy=0.9210                                                                \n",
      "\n",
      "     epoch 43/50 :\n",
      "     train_loss=0.1510 - val_loss=0.2805 - train_accuracy=0.9699 - val_accuracy=0.9230                                                                \n",
      "\n",
      "     epoch 44/50 :\n",
      "     train_loss=0.1480 - val_loss=0.2791 - train_accuracy=0.9705 - val_accuracy=0.9250                                                                \n",
      "\n",
      "     epoch 45/50 :\n",
      "     train_loss=0.1449 - val_loss=0.2786 - train_accuracy=0.9709 - val_accuracy=0.9230                                                                \n",
      "\n",
      "     epoch 46/50 :\n",
      "     train_loss=0.1424 - val_loss=0.2756 - train_accuracy=0.9726 - val_accuracy=0.9220                                                                \n",
      "\n",
      "     epoch 47/50 :\n",
      "     train_loss=0.1397 - val_loss=0.2724 - train_accuracy=0.9721 - val_accuracy=0.9240                                                                \n",
      "\n",
      "     epoch 48/50 :\n"
     ]
    },
    {
     "name": "stdout",
     "output_type": "stream",
     "text": [
      "     train_loss=0.1366 - val_loss=0.2742 - train_accuracy=0.9739 - val_accuracy=0.9230                                                                \n",
      "\n",
      "     epoch 49/50 :\n",
      "     train_loss=0.1343 - val_loss=0.2709 - train_accuracy=0.9745 - val_accuracy=0.9250                                                                \n",
      "\n",
      "     epoch 50/50 :\n",
      "     train_loss=0.1317 - val_loss=0.2677 - train_accuracy=0.9756 - val_accuracy=0.9250                                                                \n",
      "\n",
      "     Training complete !\n",
      "\n",
      "     Done in 163.4 seconds (3.3 s/epoch, 6.1 ms/batch)\n",
      "\n",
      "# --------------------------------------------------------------------------------------- #\n"
     ]
    }
   ],
   "source": [
    "network.fit(\n",
    "    X_train,\n",
    "    y_train,\n",
    "    nb_epochs,\n",
    "    train_batch_size,\n",
    "    nb_shuffles_before_each_train_batch_split=10,\n",
    "    seed_train_batch_splits=seed_network,\n",
    "    **validation_kwargs,\n",
    "    training_callbacks=training_callbacks,\n",
    "    enable_checks=True\n",
    ")"
   ]
  },
  {
   "cell_type": "markdown",
   "id": "aa789290",
   "metadata": {},
   "source": [
    "Saving the network to the disk (if requested). By default, if the network is saved, it will be saved in the `saved_networks` folder as a Gunzip file (i.e. as a \".gz\" file) :"
   ]
  },
  {
   "cell_type": "code",
   "execution_count": 39,
   "id": "16dd292e",
   "metadata": {},
   "outputs": [],
   "source": [
    "save_network_to_disk = False\n",
    "\n",
    "if save_network_to_disk:\n",
    "    network_filename = \"network\"\n",
    "    network.save(network_filename)\n",
    "    \n",
    "    # Here, the saved network is reloaded and tested just for debugging purposes\n",
    "    \n",
    "    loaded_network = Network.load_network_from_disk(network_filename)\n",
    "    test_accuracy_of_loaded_network = loaded_network.evaluate(X_test, y_test)[0]\n",
    "    \n",
    "    precision_accuracy = 2 # by default\n",
    "    print(f\"\\nTesting accuracy of the loaded network : {test_accuracy_of_loaded_network:.{precision_accuracy}f} %\\n\")"
   ]
  },
  {
   "cell_type": "markdown",
   "id": "ac0b6fc2",
   "metadata": {},
   "source": [
    "<br/>"
   ]
  },
  {
   "cell_type": "markdown",
   "id": "e9c17e5b",
   "metadata": {},
   "source": [
    "## RESULTS"
   ]
  },
  {
   "cell_type": "markdown",
   "id": "e8250ee2",
   "metadata": {},
   "source": [
    "### Plotting the network's history"
   ]
  },
  {
   "cell_type": "markdown",
   "id": "38f6daba",
   "metadata": {},
   "source": [
    "By default, if the plot is saved, it will be saved in the `saved_plots` folder as a **PNG image** :"
   ]
  },
  {
   "cell_type": "code",
   "execution_count": 40,
   "id": "36817b77",
   "metadata": {},
   "outputs": [
    {
     "data": {
      "image/png": "[encoded data removed]",
      "text/plain": [
       "<Figure size 1152x576 with 2 Axes>"
      ]
     },
     "metadata": {
      "needs_background": "light"
     },
     "output_type": "display_data"
    }
   ],
   "source": [
    "network.plot_history(\n",
    "    save_plot_to_disk=False,\n",
    "    saved_image_name=\"network_history\"\n",
    ")"
   ]
  },
  {
   "cell_type": "markdown",
   "id": "ca9c55dc",
   "metadata": {},
   "source": [
    "### Computing the global accuracy scores, the testing loss, the mean confidence levels and the raw confusion matrix of the network"
   ]
  },
  {
   "cell_type": "markdown",
   "id": "b6f7479a",
   "metadata": {},
   "source": [
    "The \"top-N accuracy\" is defined as the proportion of the true classes that lie within the `N` most probable predicted classes (here, `N` is actually `top_N_accuracy`) :"
   ]
  },
  {
   "cell_type": "code",
   "execution_count": 41,
   "id": "0de53198",
   "metadata": {},
   "outputs": [],
   "source": [
    "top_N_accuracy = 2\n",
    "\n",
    "testing_results = network.evaluate(\n",
    "    X_test,\n",
    "    y_test,\n",
    "    top_N_accuracy=top_N_accuracy,\n",
    "    test_batch_size=32 # default value\n",
    ")\n",
    "\n",
    "assert len(testing_results) == 6\n",
    "\n",
    "acc_score, top_N_acc_score, test_loss = testing_results[ : 3]\n",
    "\n",
    "mean_confidence_level_correct_predictions = testing_results[3]\n",
    "mean_confidence_level_false_predictions   = testing_results[4]\n",
    "\n",
    "conf_matrix = testing_results[5]"
   ]
  },
  {
   "cell_type": "markdown",
   "id": "8604a368",
   "metadata": {},
   "source": [
    "### Displaying the (raw and normalized) <ins>confusion matrices</ins> of the network"
   ]
  },
  {
   "cell_type": "markdown",
   "id": "9cfb6be5",
   "metadata": {},
   "source": [
    "**<ins>NB</ins>** : When you load this notebook for the first time, the confusion matrices won't be highlighted in the specified color (the outputs will be the unstyled confusion matrices). Simply re-run the entire notebook to see their highlighting !"
   ]
  },
  {
   "cell_type": "code",
   "execution_count": 42,
   "id": "f234936a",
   "metadata": {},
   "outputs": [
    {
     "name": "stdout",
     "output_type": "stream",
     "text": [
      "\n",
      "RAW CONFUSION MATRIX (normalized=\"no\") :\n"
     ]
    },
    {
     "data": {
      "text/html": [
       "<style type=\"text/css\">\n",
       "#T_a8a6c_ td:hover {\n",
       "  background-color: #73c476;\n",
       "}\n",
       "#T_a8a6c_row0_col0, #T_a8a6c_row1_col1, #T_a8a6c_row2_col2, #T_a8a6c_row3_col3, #T_a8a6c_row4_col4, #T_a8a6c_row5_col5, #T_a8a6c_row6_col6, #T_a8a6c_row7_col7, #T_a8a6c_row8_col8, #T_a8a6c_row9_col9 {\n",
       "  background-color: green;\n",
       "}\n",
       "</style>\n",
       "<table id=\"T_a8a6c_\">\n",
       "  <thead>\n",
       "    <tr>\n",
       "      <th class=\"index_name level0\" >PREDICTED</th>\n",
       "      <th class=\"col_heading level0 col0\" >0</th>\n",
       "      <th class=\"col_heading level0 col1\" >1</th>\n",
       "      <th class=\"col_heading level0 col2\" >2</th>\n",
       "      <th class=\"col_heading level0 col3\" >3</th>\n",
       "      <th class=\"col_heading level0 col4\" >4</th>\n",
       "      <th class=\"col_heading level0 col5\" >5</th>\n",
       "      <th class=\"col_heading level0 col6\" >6</th>\n",
       "      <th class=\"col_heading level0 col7\" >7</th>\n",
       "      <th class=\"col_heading level0 col8\" >8</th>\n",
       "      <th class=\"col_heading level0 col9\" >9</th>\n",
       "    </tr>\n",
       "    <tr>\n",
       "      <th class=\"index_name level0\" >ACTUAL</th>\n",
       "      <th class=\"blank col0\" >&nbsp;</th>\n",
       "      <th class=\"blank col1\" >&nbsp;</th>\n",
       "      <th class=\"blank col2\" >&nbsp;</th>\n",
       "      <th class=\"blank col3\" >&nbsp;</th>\n",
       "      <th class=\"blank col4\" >&nbsp;</th>\n",
       "      <th class=\"blank col5\" >&nbsp;</th>\n",
       "      <th class=\"blank col6\" >&nbsp;</th>\n",
       "      <th class=\"blank col7\" >&nbsp;</th>\n",
       "      <th class=\"blank col8\" >&nbsp;</th>\n",
       "      <th class=\"blank col9\" >&nbsp;</th>\n",
       "    </tr>\n",
       "  </thead>\n",
       "  <tbody>\n",
       "    <tr>\n",
       "      <th id=\"T_a8a6c_level0_row0\" class=\"row_heading level0 row0\" >0</th>\n",
       "      <td id=\"T_a8a6c_row0_col0\" class=\"data row0 col0\" >96</td>\n",
       "      <td id=\"T_a8a6c_row0_col1\" class=\"data row0 col1\" >0</td>\n",
       "      <td id=\"T_a8a6c_row0_col2\" class=\"data row0 col2\" >0</td>\n",
       "      <td id=\"T_a8a6c_row0_col3\" class=\"data row0 col3\" >1</td>\n",
       "      <td id=\"T_a8a6c_row0_col4\" class=\"data row0 col4\" >0</td>\n",
       "      <td id=\"T_a8a6c_row0_col5\" class=\"data row0 col5\" >0</td>\n",
       "      <td id=\"T_a8a6c_row0_col6\" class=\"data row0 col6\" >0</td>\n",
       "      <td id=\"T_a8a6c_row0_col7\" class=\"data row0 col7\" >0</td>\n",
       "      <td id=\"T_a8a6c_row0_col8\" class=\"data row0 col8\" >1</td>\n",
       "      <td id=\"T_a8a6c_row0_col9\" class=\"data row0 col9\" >0</td>\n",
       "    </tr>\n",
       "    <tr>\n",
       "      <th id=\"T_a8a6c_level0_row1\" class=\"row_heading level0 row1\" >1</th>\n",
       "      <td id=\"T_a8a6c_row1_col0\" class=\"data row1 col0\" >0</td>\n",
       "      <td id=\"T_a8a6c_row1_col1\" class=\"data row1 col1\" >112</td>\n",
       "      <td id=\"T_a8a6c_row1_col2\" class=\"data row1 col2\" >1</td>\n",
       "      <td id=\"T_a8a6c_row1_col3\" class=\"data row1 col3\" >0</td>\n",
       "      <td id=\"T_a8a6c_row1_col4\" class=\"data row1 col4\" >0</td>\n",
       "      <td id=\"T_a8a6c_row1_col5\" class=\"data row1 col5\" >1</td>\n",
       "      <td id=\"T_a8a6c_row1_col6\" class=\"data row1 col6\" >0</td>\n",
       "      <td id=\"T_a8a6c_row1_col7\" class=\"data row1 col7\" >0</td>\n",
       "      <td id=\"T_a8a6c_row1_col8\" class=\"data row1 col8\" >0</td>\n",
       "      <td id=\"T_a8a6c_row1_col9\" class=\"data row1 col9\" >0</td>\n",
       "    </tr>\n",
       "    <tr>\n",
       "      <th id=\"T_a8a6c_level0_row2\" class=\"row_heading level0 row2\" >2</th>\n",
       "      <td id=\"T_a8a6c_row2_col0\" class=\"data row2 col0\" >1</td>\n",
       "      <td id=\"T_a8a6c_row2_col1\" class=\"data row2 col1\" >0</td>\n",
       "      <td id=\"T_a8a6c_row2_col2\" class=\"data row2 col2\" >94</td>\n",
       "      <td id=\"T_a8a6c_row2_col3\" class=\"data row2 col3\" >1</td>\n",
       "      <td id=\"T_a8a6c_row2_col4\" class=\"data row2 col4\" >2</td>\n",
       "      <td id=\"T_a8a6c_row2_col5\" class=\"data row2 col5\" >1</td>\n",
       "      <td id=\"T_a8a6c_row2_col6\" class=\"data row2 col6\" >0</td>\n",
       "      <td id=\"T_a8a6c_row2_col7\" class=\"data row2 col7\" >2</td>\n",
       "      <td id=\"T_a8a6c_row2_col8\" class=\"data row2 col8\" >1</td>\n",
       "      <td id=\"T_a8a6c_row2_col9\" class=\"data row2 col9\" >1</td>\n",
       "    </tr>\n",
       "    <tr>\n",
       "      <th id=\"T_a8a6c_level0_row3\" class=\"row_heading level0 row3\" >3</th>\n",
       "      <td id=\"T_a8a6c_row3_col0\" class=\"data row3 col0\" >0</td>\n",
       "      <td id=\"T_a8a6c_row3_col1\" class=\"data row3 col1\" >0</td>\n",
       "      <td id=\"T_a8a6c_row3_col2\" class=\"data row3 col2\" >0</td>\n",
       "      <td id=\"T_a8a6c_row3_col3\" class=\"data row3 col3\" >97</td>\n",
       "      <td id=\"T_a8a6c_row3_col4\" class=\"data row3 col4\" >0</td>\n",
       "      <td id=\"T_a8a6c_row3_col5\" class=\"data row3 col5\" >0</td>\n",
       "      <td id=\"T_a8a6c_row3_col6\" class=\"data row3 col6\" >0</td>\n",
       "      <td id=\"T_a8a6c_row3_col7\" class=\"data row3 col7\" >1</td>\n",
       "      <td id=\"T_a8a6c_row3_col8\" class=\"data row3 col8\" >1</td>\n",
       "      <td id=\"T_a8a6c_row3_col9\" class=\"data row3 col9\" >2</td>\n",
       "    </tr>\n",
       "    <tr>\n",
       "      <th id=\"T_a8a6c_level0_row4\" class=\"row_heading level0 row4\" >4</th>\n",
       "      <td id=\"T_a8a6c_row4_col0\" class=\"data row4 col0\" >0</td>\n",
       "      <td id=\"T_a8a6c_row4_col1\" class=\"data row4 col1\" >0</td>\n",
       "      <td id=\"T_a8a6c_row4_col2\" class=\"data row4 col2\" >0</td>\n",
       "      <td id=\"T_a8a6c_row4_col3\" class=\"data row4 col3\" >0</td>\n",
       "      <td id=\"T_a8a6c_row4_col4\" class=\"data row4 col4\" >95</td>\n",
       "      <td id=\"T_a8a6c_row4_col5\" class=\"data row4 col5\" >0</td>\n",
       "      <td id=\"T_a8a6c_row4_col6\" class=\"data row4 col6\" >2</td>\n",
       "      <td id=\"T_a8a6c_row4_col7\" class=\"data row4 col7\" >0</td>\n",
       "      <td id=\"T_a8a6c_row4_col8\" class=\"data row4 col8\" >0</td>\n",
       "      <td id=\"T_a8a6c_row4_col9\" class=\"data row4 col9\" >1</td>\n",
       "    </tr>\n",
       "    <tr>\n",
       "      <th id=\"T_a8a6c_level0_row5\" class=\"row_heading level0 row5\" >5</th>\n",
       "      <td id=\"T_a8a6c_row5_col0\" class=\"data row5 col0\" >3</td>\n",
       "      <td id=\"T_a8a6c_row5_col1\" class=\"data row5 col1\" >0</td>\n",
       "      <td id=\"T_a8a6c_row5_col2\" class=\"data row5 col2\" >1</td>\n",
       "      <td id=\"T_a8a6c_row5_col3\" class=\"data row5 col3\" >2</td>\n",
       "      <td id=\"T_a8a6c_row5_col4\" class=\"data row5 col4\" >0</td>\n",
       "      <td id=\"T_a8a6c_row5_col5\" class=\"data row5 col5\" >81</td>\n",
       "      <td id=\"T_a8a6c_row5_col6\" class=\"data row5 col6\" >1</td>\n",
       "      <td id=\"T_a8a6c_row5_col7\" class=\"data row5 col7\" >0</td>\n",
       "      <td id=\"T_a8a6c_row5_col8\" class=\"data row5 col8\" >1</td>\n",
       "      <td id=\"T_a8a6c_row5_col9\" class=\"data row5 col9\" >0</td>\n",
       "    </tr>\n",
       "    <tr>\n",
       "      <th id=\"T_a8a6c_level0_row6\" class=\"row_heading level0 row6\" >6</th>\n",
       "      <td id=\"T_a8a6c_row6_col0\" class=\"data row6 col0\" >3</td>\n",
       "      <td id=\"T_a8a6c_row6_col1\" class=\"data row6 col1\" >0</td>\n",
       "      <td id=\"T_a8a6c_row6_col2\" class=\"data row6 col2\" >0</td>\n",
       "      <td id=\"T_a8a6c_row6_col3\" class=\"data row6 col3\" >0</td>\n",
       "      <td id=\"T_a8a6c_row6_col4\" class=\"data row6 col4\" >1</td>\n",
       "      <td id=\"T_a8a6c_row6_col5\" class=\"data row6 col5\" >2</td>\n",
       "      <td id=\"T_a8a6c_row6_col6\" class=\"data row6 col6\" >90</td>\n",
       "      <td id=\"T_a8a6c_row6_col7\" class=\"data row6 col7\" >0</td>\n",
       "      <td id=\"T_a8a6c_row6_col8\" class=\"data row6 col8\" >0</td>\n",
       "      <td id=\"T_a8a6c_row6_col9\" class=\"data row6 col9\" >0</td>\n",
       "    </tr>\n",
       "    <tr>\n",
       "      <th id=\"T_a8a6c_level0_row7\" class=\"row_heading level0 row7\" >7</th>\n",
       "      <td id=\"T_a8a6c_row7_col0\" class=\"data row7 col0\" >1</td>\n",
       "      <td id=\"T_a8a6c_row7_col1\" class=\"data row7 col1\" >1</td>\n",
       "      <td id=\"T_a8a6c_row7_col2\" class=\"data row7 col2\" >0</td>\n",
       "      <td id=\"T_a8a6c_row7_col3\" class=\"data row7 col3\" >1</td>\n",
       "      <td id=\"T_a8a6c_row7_col4\" class=\"data row7 col4\" >0</td>\n",
       "      <td id=\"T_a8a6c_row7_col5\" class=\"data row7 col5\" >0</td>\n",
       "      <td id=\"T_a8a6c_row7_col6\" class=\"data row7 col6\" >0</td>\n",
       "      <td id=\"T_a8a6c_row7_col7\" class=\"data row7 col7\" >98</td>\n",
       "      <td id=\"T_a8a6c_row7_col8\" class=\"data row7 col8\" >0</td>\n",
       "      <td id=\"T_a8a6c_row7_col9\" class=\"data row7 col9\" >2</td>\n",
       "    </tr>\n",
       "    <tr>\n",
       "      <th id=\"T_a8a6c_level0_row8\" class=\"row_heading level0 row8\" >8</th>\n",
       "      <td id=\"T_a8a6c_row8_col0\" class=\"data row8 col0\" >1</td>\n",
       "      <td id=\"T_a8a6c_row8_col1\" class=\"data row8 col1\" >0</td>\n",
       "      <td id=\"T_a8a6c_row8_col2\" class=\"data row8 col2\" >1</td>\n",
       "      <td id=\"T_a8a6c_row8_col3\" class=\"data row8 col3\" >1</td>\n",
       "      <td id=\"T_a8a6c_row8_col4\" class=\"data row8 col4\" >2</td>\n",
       "      <td id=\"T_a8a6c_row8_col5\" class=\"data row8 col5\" >2</td>\n",
       "      <td id=\"T_a8a6c_row8_col6\" class=\"data row8 col6\" >1</td>\n",
       "      <td id=\"T_a8a6c_row8_col7\" class=\"data row8 col7\" >2</td>\n",
       "      <td id=\"T_a8a6c_row8_col8\" class=\"data row8 col8\" >86</td>\n",
       "      <td id=\"T_a8a6c_row8_col9\" class=\"data row8 col9\" >1</td>\n",
       "    </tr>\n",
       "    <tr>\n",
       "      <th id=\"T_a8a6c_level0_row9\" class=\"row_heading level0 row9\" >9</th>\n",
       "      <td id=\"T_a8a6c_row9_col0\" class=\"data row9 col0\" >1</td>\n",
       "      <td id=\"T_a8a6c_row9_col1\" class=\"data row9 col1\" >0</td>\n",
       "      <td id=\"T_a8a6c_row9_col2\" class=\"data row9 col2\" >0</td>\n",
       "      <td id=\"T_a8a6c_row9_col3\" class=\"data row9 col3\" >0</td>\n",
       "      <td id=\"T_a8a6c_row9_col4\" class=\"data row9 col4\" >1</td>\n",
       "      <td id=\"T_a8a6c_row9_col5\" class=\"data row9 col5\" >2</td>\n",
       "      <td id=\"T_a8a6c_row9_col6\" class=\"data row9 col6\" >0</td>\n",
       "      <td id=\"T_a8a6c_row9_col7\" class=\"data row9 col7\" >2</td>\n",
       "      <td id=\"T_a8a6c_row9_col8\" class=\"data row9 col8\" >1</td>\n",
       "      <td id=\"T_a8a6c_row9_col9\" class=\"data row9 col9\" >94</td>\n",
       "    </tr>\n",
       "  </tbody>\n",
       "</table>\n"
      ],
      "text/plain": [
       "<pandas.io.formats.style.Styler at 0x27104a216a0>"
      ]
     },
     "metadata": {},
     "output_type": "display_data"
    },
    {
     "name": "stdout",
     "output_type": "stream",
     "text": [
      "\n",
      "NETWORK PRECISION - NORMALIZED CONFUSION MATRIX (normalized=\"columns\") :\n"
     ]
    },
    {
     "data": {
      "text/html": [
       "<style type=\"text/css\">\n",
       "#T_52c01_ td:hover {\n",
       "  background-color: #73c476;\n",
       "}\n",
       "#T_52c01_row0_col0 {\n",
       "  background-color: #349d53;\n",
       "}\n",
       "#T_52c01_row0_col1, #T_52c01_row0_col2, #T_52c01_row0_col4, #T_52c01_row0_col5, #T_52c01_row0_col6, #T_52c01_row0_col7, #T_52c01_row0_col9, #T_52c01_row1_col0, #T_52c01_row1_col3, #T_52c01_row1_col4, #T_52c01_row1_col6, #T_52c01_row1_col7, #T_52c01_row1_col8, #T_52c01_row1_col9, #T_52c01_row2_col1, #T_52c01_row2_col6, #T_52c01_row3_col0, #T_52c01_row3_col1, #T_52c01_row3_col2, #T_52c01_row3_col4, #T_52c01_row3_col5, #T_52c01_row3_col6, #T_52c01_row4_col0, #T_52c01_row4_col1, #T_52c01_row4_col2, #T_52c01_row4_col3, #T_52c01_row4_col5, #T_52c01_row4_col7, #T_52c01_row4_col8, #T_52c01_row5_col1, #T_52c01_row5_col4, #T_52c01_row5_col7, #T_52c01_row5_col9, #T_52c01_row6_col1, #T_52c01_row6_col2, #T_52c01_row6_col3, #T_52c01_row6_col7, #T_52c01_row6_col8, #T_52c01_row6_col9, #T_52c01_row7_col2, #T_52c01_row7_col4, #T_52c01_row7_col5, #T_52c01_row7_col6, #T_52c01_row7_col8, #T_52c01_row8_col1, #T_52c01_row9_col1, #T_52c01_row9_col2, #T_52c01_row9_col3, #T_52c01_row9_col6 {\n",
       "  background-color: #f7fcf5;\n",
       "}\n",
       "#T_52c01_row0_col3, #T_52c01_row0_col8, #T_52c01_row1_col2, #T_52c01_row1_col5, #T_52c01_row2_col0, #T_52c01_row2_col3, #T_52c01_row2_col5, #T_52c01_row2_col8, #T_52c01_row2_col9, #T_52c01_row3_col7, #T_52c01_row3_col8, #T_52c01_row4_col9, #T_52c01_row5_col2, #T_52c01_row5_col6, #T_52c01_row5_col8, #T_52c01_row6_col4, #T_52c01_row7_col0, #T_52c01_row7_col1, #T_52c01_row7_col3, #T_52c01_row8_col0, #T_52c01_row8_col2, #T_52c01_row8_col3, #T_52c01_row8_col6, #T_52c01_row8_col9, #T_52c01_row9_col0, #T_52c01_row9_col4, #T_52c01_row9_col8 {\n",
       "  background-color: #f6fcf4;\n",
       "}\n",
       "#T_52c01_row1_col1 {\n",
       "  background-color: #248c46;\n",
       "}\n",
       "#T_52c01_row2_col2 {\n",
       "  background-color: #289049;\n",
       "}\n",
       "#T_52c01_row2_col4, #T_52c01_row2_col7, #T_52c01_row3_col9, #T_52c01_row5_col3, #T_52c01_row7_col9, #T_52c01_row8_col4, #T_52c01_row8_col7, #T_52c01_row9_col7 {\n",
       "  background-color: #f5fbf3;\n",
       "}\n",
       "#T_52c01_row3_col3, #T_52c01_row4_col4 {\n",
       "  background-color: #2e964d;\n",
       "}\n",
       "#T_52c01_row4_col6, #T_52c01_row6_col5, #T_52c01_row8_col5, #T_52c01_row9_col5 {\n",
       "  background-color: #f5fbf2;\n",
       "}\n",
       "#T_52c01_row5_col0, #T_52c01_row6_col0 {\n",
       "  background-color: #f4fbf2;\n",
       "}\n",
       "#T_52c01_row5_col5 {\n",
       "  background-color: #339c52;\n",
       "}\n",
       "#T_52c01_row6_col6 {\n",
       "  background-color: #2b934b;\n",
       "}\n",
       "#T_52c01_row7_col7 {\n",
       "  background-color: #2f974e;\n",
       "}\n",
       "#T_52c01_row8_col8 {\n",
       "  background-color: #2d954d;\n",
       "}\n",
       "#T_52c01_row9_col9 {\n",
       "  background-color: #2f984f;\n",
       "}\n",
       "</style>\n",
       "<table id=\"T_52c01_\">\n",
       "  <thead>\n",
       "    <tr>\n",
       "      <th class=\"index_name level0\" >PREDICTED</th>\n",
       "      <th class=\"col_heading level0 col0\" >0</th>\n",
       "      <th class=\"col_heading level0 col1\" >1</th>\n",
       "      <th class=\"col_heading level0 col2\" >2</th>\n",
       "      <th class=\"col_heading level0 col3\" >3</th>\n",
       "      <th class=\"col_heading level0 col4\" >4</th>\n",
       "      <th class=\"col_heading level0 col5\" >5</th>\n",
       "      <th class=\"col_heading level0 col6\" >6</th>\n",
       "      <th class=\"col_heading level0 col7\" >7</th>\n",
       "      <th class=\"col_heading level0 col8\" >8</th>\n",
       "      <th class=\"col_heading level0 col9\" >9</th>\n",
       "    </tr>\n",
       "    <tr>\n",
       "      <th class=\"index_name level0\" >ACTUAL</th>\n",
       "      <th class=\"blank col0\" >&nbsp;</th>\n",
       "      <th class=\"blank col1\" >&nbsp;</th>\n",
       "      <th class=\"blank col2\" >&nbsp;</th>\n",
       "      <th class=\"blank col3\" >&nbsp;</th>\n",
       "      <th class=\"blank col4\" >&nbsp;</th>\n",
       "      <th class=\"blank col5\" >&nbsp;</th>\n",
       "      <th class=\"blank col6\" >&nbsp;</th>\n",
       "      <th class=\"blank col7\" >&nbsp;</th>\n",
       "      <th class=\"blank col8\" >&nbsp;</th>\n",
       "      <th class=\"blank col9\" >&nbsp;</th>\n",
       "    </tr>\n",
       "  </thead>\n",
       "  <tbody>\n",
       "    <tr>\n",
       "      <th id=\"T_52c01_level0_row0\" class=\"row_heading level0 row0\" >0</th>\n",
       "      <td id=\"T_52c01_row0_col0\" class=\"data row0 col0\" >90.6 %</td>\n",
       "      <td id=\"T_52c01_row0_col1\" class=\"data row0 col1\" >0.0 %</td>\n",
       "      <td id=\"T_52c01_row0_col2\" class=\"data row0 col2\" >0.0 %</td>\n",
       "      <td id=\"T_52c01_row0_col3\" class=\"data row0 col3\" >1.0 %</td>\n",
       "      <td id=\"T_52c01_row0_col4\" class=\"data row0 col4\" >0.0 %</td>\n",
       "      <td id=\"T_52c01_row0_col5\" class=\"data row0 col5\" >0.0 %</td>\n",
       "      <td id=\"T_52c01_row0_col6\" class=\"data row0 col6\" >0.0 %</td>\n",
       "      <td id=\"T_52c01_row0_col7\" class=\"data row0 col7\" >0.0 %</td>\n",
       "      <td id=\"T_52c01_row0_col8\" class=\"data row0 col8\" >1.1 %</td>\n",
       "      <td id=\"T_52c01_row0_col9\" class=\"data row0 col9\" >0.0 %</td>\n",
       "    </tr>\n",
       "    <tr>\n",
       "      <th id=\"T_52c01_level0_row1\" class=\"row_heading level0 row1\" >1</th>\n",
       "      <td id=\"T_52c01_row1_col0\" class=\"data row1 col0\" >0.0 %</td>\n",
       "      <td id=\"T_52c01_row1_col1\" class=\"data row1 col1\" >99.1 %</td>\n",
       "      <td id=\"T_52c01_row1_col2\" class=\"data row1 col2\" >1.0 %</td>\n",
       "      <td id=\"T_52c01_row1_col3\" class=\"data row1 col3\" >0.0 %</td>\n",
       "      <td id=\"T_52c01_row1_col4\" class=\"data row1 col4\" >0.0 %</td>\n",
       "      <td id=\"T_52c01_row1_col5\" class=\"data row1 col5\" >1.1 %</td>\n",
       "      <td id=\"T_52c01_row1_col6\" class=\"data row1 col6\" >0.0 %</td>\n",
       "      <td id=\"T_52c01_row1_col7\" class=\"data row1 col7\" >0.0 %</td>\n",
       "      <td id=\"T_52c01_row1_col8\" class=\"data row1 col8\" >0.0 %</td>\n",
       "      <td id=\"T_52c01_row1_col9\" class=\"data row1 col9\" >0.0 %</td>\n",
       "    </tr>\n",
       "    <tr>\n",
       "      <th id=\"T_52c01_level0_row2\" class=\"row_heading level0 row2\" >2</th>\n",
       "      <td id=\"T_52c01_row2_col0\" class=\"data row2 col0\" >0.9 %</td>\n",
       "      <td id=\"T_52c01_row2_col1\" class=\"data row2 col1\" >0.0 %</td>\n",
       "      <td id=\"T_52c01_row2_col2\" class=\"data row2 col2\" >96.9 %</td>\n",
       "      <td id=\"T_52c01_row2_col3\" class=\"data row2 col3\" >1.0 %</td>\n",
       "      <td id=\"T_52c01_row2_col4\" class=\"data row2 col4\" >2.0 %</td>\n",
       "      <td id=\"T_52c01_row2_col5\" class=\"data row2 col5\" >1.1 %</td>\n",
       "      <td id=\"T_52c01_row2_col6\" class=\"data row2 col6\" >0.0 %</td>\n",
       "      <td id=\"T_52c01_row2_col7\" class=\"data row2 col7\" >1.9 %</td>\n",
       "      <td id=\"T_52c01_row2_col8\" class=\"data row2 col8\" >1.1 %</td>\n",
       "      <td id=\"T_52c01_row2_col9\" class=\"data row2 col9\" >1.0 %</td>\n",
       "    </tr>\n",
       "    <tr>\n",
       "      <th id=\"T_52c01_level0_row3\" class=\"row_heading level0 row3\" >3</th>\n",
       "      <td id=\"T_52c01_row3_col0\" class=\"data row3 col0\" >0.0 %</td>\n",
       "      <td id=\"T_52c01_row3_col1\" class=\"data row3 col1\" >0.0 %</td>\n",
       "      <td id=\"T_52c01_row3_col2\" class=\"data row3 col2\" >0.0 %</td>\n",
       "      <td id=\"T_52c01_row3_col3\" class=\"data row3 col3\" >94.2 %</td>\n",
       "      <td id=\"T_52c01_row3_col4\" class=\"data row3 col4\" >0.0 %</td>\n",
       "      <td id=\"T_52c01_row3_col5\" class=\"data row3 col5\" >0.0 %</td>\n",
       "      <td id=\"T_52c01_row3_col6\" class=\"data row3 col6\" >0.0 %</td>\n",
       "      <td id=\"T_52c01_row3_col7\" class=\"data row3 col7\" >1.0 %</td>\n",
       "      <td id=\"T_52c01_row3_col8\" class=\"data row3 col8\" >1.1 %</td>\n",
       "      <td id=\"T_52c01_row3_col9\" class=\"data row3 col9\" >2.0 %</td>\n",
       "    </tr>\n",
       "    <tr>\n",
       "      <th id=\"T_52c01_level0_row4\" class=\"row_heading level0 row4\" >4</th>\n",
       "      <td id=\"T_52c01_row4_col0\" class=\"data row4 col0\" >0.0 %</td>\n",
       "      <td id=\"T_52c01_row4_col1\" class=\"data row4 col1\" >0.0 %</td>\n",
       "      <td id=\"T_52c01_row4_col2\" class=\"data row4 col2\" >0.0 %</td>\n",
       "      <td id=\"T_52c01_row4_col3\" class=\"data row4 col3\" >0.0 %</td>\n",
       "      <td id=\"T_52c01_row4_col4\" class=\"data row4 col4\" >94.1 %</td>\n",
       "      <td id=\"T_52c01_row4_col5\" class=\"data row4 col5\" >0.0 %</td>\n",
       "      <td id=\"T_52c01_row4_col6\" class=\"data row4 col6\" >2.1 %</td>\n",
       "      <td id=\"T_52c01_row4_col7\" class=\"data row4 col7\" >0.0 %</td>\n",
       "      <td id=\"T_52c01_row4_col8\" class=\"data row4 col8\" >0.0 %</td>\n",
       "      <td id=\"T_52c01_row4_col9\" class=\"data row4 col9\" >1.0 %</td>\n",
       "    </tr>\n",
       "    <tr>\n",
       "      <th id=\"T_52c01_level0_row5\" class=\"row_heading level0 row5\" >5</th>\n",
       "      <td id=\"T_52c01_row5_col0\" class=\"data row5 col0\" >2.8 %</td>\n",
       "      <td id=\"T_52c01_row5_col1\" class=\"data row5 col1\" >0.0 %</td>\n",
       "      <td id=\"T_52c01_row5_col2\" class=\"data row5 col2\" >1.0 %</td>\n",
       "      <td id=\"T_52c01_row5_col3\" class=\"data row5 col3\" >1.9 %</td>\n",
       "      <td id=\"T_52c01_row5_col4\" class=\"data row5 col4\" >0.0 %</td>\n",
       "      <td id=\"T_52c01_row5_col5\" class=\"data row5 col5\" >91.0 %</td>\n",
       "      <td id=\"T_52c01_row5_col6\" class=\"data row5 col6\" >1.1 %</td>\n",
       "      <td id=\"T_52c01_row5_col7\" class=\"data row5 col7\" >0.0 %</td>\n",
       "      <td id=\"T_52c01_row5_col8\" class=\"data row5 col8\" >1.1 %</td>\n",
       "      <td id=\"T_52c01_row5_col9\" class=\"data row5 col9\" >0.0 %</td>\n",
       "    </tr>\n",
       "    <tr>\n",
       "      <th id=\"T_52c01_level0_row6\" class=\"row_heading level0 row6\" >6</th>\n",
       "      <td id=\"T_52c01_row6_col0\" class=\"data row6 col0\" >2.8 %</td>\n",
       "      <td id=\"T_52c01_row6_col1\" class=\"data row6 col1\" >0.0 %</td>\n",
       "      <td id=\"T_52c01_row6_col2\" class=\"data row6 col2\" >0.0 %</td>\n",
       "      <td id=\"T_52c01_row6_col3\" class=\"data row6 col3\" >0.0 %</td>\n",
       "      <td id=\"T_52c01_row6_col4\" class=\"data row6 col4\" >1.0 %</td>\n",
       "      <td id=\"T_52c01_row6_col5\" class=\"data row6 col5\" >2.2 %</td>\n",
       "      <td id=\"T_52c01_row6_col6\" class=\"data row6 col6\" >95.7 %</td>\n",
       "      <td id=\"T_52c01_row6_col7\" class=\"data row6 col7\" >0.0 %</td>\n",
       "      <td id=\"T_52c01_row6_col8\" class=\"data row6 col8\" >0.0 %</td>\n",
       "      <td id=\"T_52c01_row6_col9\" class=\"data row6 col9\" >0.0 %</td>\n",
       "    </tr>\n",
       "    <tr>\n",
       "      <th id=\"T_52c01_level0_row7\" class=\"row_heading level0 row7\" >7</th>\n",
       "      <td id=\"T_52c01_row7_col0\" class=\"data row7 col0\" >0.9 %</td>\n",
       "      <td id=\"T_52c01_row7_col1\" class=\"data row7 col1\" >0.9 %</td>\n",
       "      <td id=\"T_52c01_row7_col2\" class=\"data row7 col2\" >0.0 %</td>\n",
       "      <td id=\"T_52c01_row7_col3\" class=\"data row7 col3\" >1.0 %</td>\n",
       "      <td id=\"T_52c01_row7_col4\" class=\"data row7 col4\" >0.0 %</td>\n",
       "      <td id=\"T_52c01_row7_col5\" class=\"data row7 col5\" >0.0 %</td>\n",
       "      <td id=\"T_52c01_row7_col6\" class=\"data row7 col6\" >0.0 %</td>\n",
       "      <td id=\"T_52c01_row7_col7\" class=\"data row7 col7\" >93.3 %</td>\n",
       "      <td id=\"T_52c01_row7_col8\" class=\"data row7 col8\" >0.0 %</td>\n",
       "      <td id=\"T_52c01_row7_col9\" class=\"data row7 col9\" >2.0 %</td>\n",
       "    </tr>\n",
       "    <tr>\n",
       "      <th id=\"T_52c01_level0_row8\" class=\"row_heading level0 row8\" >8</th>\n",
       "      <td id=\"T_52c01_row8_col0\" class=\"data row8 col0\" >0.9 %</td>\n",
       "      <td id=\"T_52c01_row8_col1\" class=\"data row8 col1\" >0.0 %</td>\n",
       "      <td id=\"T_52c01_row8_col2\" class=\"data row8 col2\" >1.0 %</td>\n",
       "      <td id=\"T_52c01_row8_col3\" class=\"data row8 col3\" >1.0 %</td>\n",
       "      <td id=\"T_52c01_row8_col4\" class=\"data row8 col4\" >2.0 %</td>\n",
       "      <td id=\"T_52c01_row8_col5\" class=\"data row8 col5\" >2.2 %</td>\n",
       "      <td id=\"T_52c01_row8_col6\" class=\"data row8 col6\" >1.1 %</td>\n",
       "      <td id=\"T_52c01_row8_col7\" class=\"data row8 col7\" >1.9 %</td>\n",
       "      <td id=\"T_52c01_row8_col8\" class=\"data row8 col8\" >94.5 %</td>\n",
       "      <td id=\"T_52c01_row8_col9\" class=\"data row8 col9\" >1.0 %</td>\n",
       "    </tr>\n",
       "    <tr>\n",
       "      <th id=\"T_52c01_level0_row9\" class=\"row_heading level0 row9\" >9</th>\n",
       "      <td id=\"T_52c01_row9_col0\" class=\"data row9 col0\" >0.9 %</td>\n",
       "      <td id=\"T_52c01_row9_col1\" class=\"data row9 col1\" >0.0 %</td>\n",
       "      <td id=\"T_52c01_row9_col2\" class=\"data row9 col2\" >0.0 %</td>\n",
       "      <td id=\"T_52c01_row9_col3\" class=\"data row9 col3\" >0.0 %</td>\n",
       "      <td id=\"T_52c01_row9_col4\" class=\"data row9 col4\" >1.0 %</td>\n",
       "      <td id=\"T_52c01_row9_col5\" class=\"data row9 col5\" >2.2 %</td>\n",
       "      <td id=\"T_52c01_row9_col6\" class=\"data row9 col6\" >0.0 %</td>\n",
       "      <td id=\"T_52c01_row9_col7\" class=\"data row9 col7\" >1.9 %</td>\n",
       "      <td id=\"T_52c01_row9_col8\" class=\"data row9 col8\" >1.1 %</td>\n",
       "      <td id=\"T_52c01_row9_col9\" class=\"data row9 col9\" >93.1 %</td>\n",
       "    </tr>\n",
       "  </tbody>\n",
       "</table>\n"
      ],
      "text/plain": [
       "<pandas.io.formats.style.Styler at 0x27104a216a0>"
      ]
     },
     "metadata": {},
     "output_type": "display_data"
    },
    {
     "name": "stdout",
     "output_type": "stream",
     "text": [
      "\n",
      "NETWORK RECALL - NORMALIZED CONFUSION MATRIX (normalized=\"rows\") :\n"
     ]
    },
    {
     "data": {
      "text/html": [
       "<style type=\"text/css\">\n",
       "#T_04b3b_ td:hover {\n",
       "  background-color: #73c476;\n",
       "}\n",
       "#T_04b3b_row0_col0, #T_04b3b_row1_col1 {\n",
       "  background-color: #268e47;\n",
       "}\n",
       "#T_04b3b_row0_col1, #T_04b3b_row0_col2, #T_04b3b_row0_col4, #T_04b3b_row0_col5, #T_04b3b_row0_col6, #T_04b3b_row0_col7, #T_04b3b_row0_col9, #T_04b3b_row1_col0, #T_04b3b_row1_col3, #T_04b3b_row1_col4, #T_04b3b_row1_col6, #T_04b3b_row1_col7, #T_04b3b_row1_col8, #T_04b3b_row1_col9, #T_04b3b_row2_col1, #T_04b3b_row2_col6, #T_04b3b_row3_col0, #T_04b3b_row3_col1, #T_04b3b_row3_col2, #T_04b3b_row3_col4, #T_04b3b_row3_col5, #T_04b3b_row3_col6, #T_04b3b_row4_col0, #T_04b3b_row4_col1, #T_04b3b_row4_col2, #T_04b3b_row4_col3, #T_04b3b_row4_col5, #T_04b3b_row4_col7, #T_04b3b_row4_col8, #T_04b3b_row5_col1, #T_04b3b_row5_col4, #T_04b3b_row5_col7, #T_04b3b_row5_col9, #T_04b3b_row6_col1, #T_04b3b_row6_col2, #T_04b3b_row6_col3, #T_04b3b_row6_col7, #T_04b3b_row6_col8, #T_04b3b_row6_col9, #T_04b3b_row7_col2, #T_04b3b_row7_col4, #T_04b3b_row7_col5, #T_04b3b_row7_col6, #T_04b3b_row7_col8, #T_04b3b_row8_col1, #T_04b3b_row9_col1, #T_04b3b_row9_col2, #T_04b3b_row9_col3, #T_04b3b_row9_col6 {\n",
       "  background-color: #f7fcf5;\n",
       "}\n",
       "#T_04b3b_row0_col3, #T_04b3b_row0_col8, #T_04b3b_row1_col2, #T_04b3b_row1_col5, #T_04b3b_row2_col0, #T_04b3b_row2_col3, #T_04b3b_row2_col5, #T_04b3b_row2_col8, #T_04b3b_row2_col9, #T_04b3b_row3_col7, #T_04b3b_row3_col8, #T_04b3b_row4_col9, #T_04b3b_row5_col2, #T_04b3b_row5_col6, #T_04b3b_row5_col8, #T_04b3b_row6_col4, #T_04b3b_row7_col0, #T_04b3b_row7_col1, #T_04b3b_row7_col3, #T_04b3b_row8_col0, #T_04b3b_row8_col2, #T_04b3b_row8_col3, #T_04b3b_row8_col6, #T_04b3b_row8_col9, #T_04b3b_row9_col0, #T_04b3b_row9_col4, #T_04b3b_row9_col8 {\n",
       "  background-color: #f6fcf4;\n",
       "}\n",
       "#T_04b3b_row2_col2 {\n",
       "  background-color: #329b51;\n",
       "}\n",
       "#T_04b3b_row2_col4, #T_04b3b_row2_col7, #T_04b3b_row3_col9, #T_04b3b_row4_col6, #T_04b3b_row7_col9, #T_04b3b_row9_col5, #T_04b3b_row9_col7 {\n",
       "  background-color: #f5fbf3;\n",
       "}\n",
       "#T_04b3b_row3_col3 {\n",
       "  background-color: #2a924a;\n",
       "}\n",
       "#T_04b3b_row4_col4 {\n",
       "  background-color: #289049;\n",
       "}\n",
       "#T_04b3b_row5_col0 {\n",
       "  background-color: #f4fbf1;\n",
       "}\n",
       "#T_04b3b_row5_col3, #T_04b3b_row6_col5, #T_04b3b_row8_col4, #T_04b3b_row8_col5, #T_04b3b_row8_col7 {\n",
       "  background-color: #f5fbf2;\n",
       "}\n",
       "#T_04b3b_row5_col5 {\n",
       "  background-color: #339c52;\n",
       "}\n",
       "#T_04b3b_row6_col0 {\n",
       "  background-color: #f4fbf2;\n",
       "}\n",
       "#T_04b3b_row6_col6 {\n",
       "  background-color: #2e964d;\n",
       "}\n",
       "#T_04b3b_row7_col7 {\n",
       "  background-color: #2c944c;\n",
       "}\n",
       "#T_04b3b_row8_col8 {\n",
       "  background-color: #37a055;\n",
       "}\n",
       "#T_04b3b_row9_col9 {\n",
       "  background-color: #2f984f;\n",
       "}\n",
       "</style>\n",
       "<table id=\"T_04b3b_\">\n",
       "  <thead>\n",
       "    <tr>\n",
       "      <th class=\"index_name level0\" >PREDICTED</th>\n",
       "      <th class=\"col_heading level0 col0\" >0</th>\n",
       "      <th class=\"col_heading level0 col1\" >1</th>\n",
       "      <th class=\"col_heading level0 col2\" >2</th>\n",
       "      <th class=\"col_heading level0 col3\" >3</th>\n",
       "      <th class=\"col_heading level0 col4\" >4</th>\n",
       "      <th class=\"col_heading level0 col5\" >5</th>\n",
       "      <th class=\"col_heading level0 col6\" >6</th>\n",
       "      <th class=\"col_heading level0 col7\" >7</th>\n",
       "      <th class=\"col_heading level0 col8\" >8</th>\n",
       "      <th class=\"col_heading level0 col9\" >9</th>\n",
       "    </tr>\n",
       "    <tr>\n",
       "      <th class=\"index_name level0\" >ACTUAL</th>\n",
       "      <th class=\"blank col0\" >&nbsp;</th>\n",
       "      <th class=\"blank col1\" >&nbsp;</th>\n",
       "      <th class=\"blank col2\" >&nbsp;</th>\n",
       "      <th class=\"blank col3\" >&nbsp;</th>\n",
       "      <th class=\"blank col4\" >&nbsp;</th>\n",
       "      <th class=\"blank col5\" >&nbsp;</th>\n",
       "      <th class=\"blank col6\" >&nbsp;</th>\n",
       "      <th class=\"blank col7\" >&nbsp;</th>\n",
       "      <th class=\"blank col8\" >&nbsp;</th>\n",
       "      <th class=\"blank col9\" >&nbsp;</th>\n",
       "    </tr>\n",
       "  </thead>\n",
       "  <tbody>\n",
       "    <tr>\n",
       "      <th id=\"T_04b3b_level0_row0\" class=\"row_heading level0 row0\" >0</th>\n",
       "      <td id=\"T_04b3b_row0_col0\" class=\"data row0 col0\" >98.0 %</td>\n",
       "      <td id=\"T_04b3b_row0_col1\" class=\"data row0 col1\" >0.0 %</td>\n",
       "      <td id=\"T_04b3b_row0_col2\" class=\"data row0 col2\" >0.0 %</td>\n",
       "      <td id=\"T_04b3b_row0_col3\" class=\"data row0 col3\" >1.0 %</td>\n",
       "      <td id=\"T_04b3b_row0_col4\" class=\"data row0 col4\" >0.0 %</td>\n",
       "      <td id=\"T_04b3b_row0_col5\" class=\"data row0 col5\" >0.0 %</td>\n",
       "      <td id=\"T_04b3b_row0_col6\" class=\"data row0 col6\" >0.0 %</td>\n",
       "      <td id=\"T_04b3b_row0_col7\" class=\"data row0 col7\" >0.0 %</td>\n",
       "      <td id=\"T_04b3b_row0_col8\" class=\"data row0 col8\" >1.0 %</td>\n",
       "      <td id=\"T_04b3b_row0_col9\" class=\"data row0 col9\" >0.0 %</td>\n",
       "    </tr>\n",
       "    <tr>\n",
       "      <th id=\"T_04b3b_level0_row1\" class=\"row_heading level0 row1\" >1</th>\n",
       "      <td id=\"T_04b3b_row1_col0\" class=\"data row1 col0\" >0.0 %</td>\n",
       "      <td id=\"T_04b3b_row1_col1\" class=\"data row1 col1\" >98.2 %</td>\n",
       "      <td id=\"T_04b3b_row1_col2\" class=\"data row1 col2\" >0.9 %</td>\n",
       "      <td id=\"T_04b3b_row1_col3\" class=\"data row1 col3\" >0.0 %</td>\n",
       "      <td id=\"T_04b3b_row1_col4\" class=\"data row1 col4\" >0.0 %</td>\n",
       "      <td id=\"T_04b3b_row1_col5\" class=\"data row1 col5\" >0.9 %</td>\n",
       "      <td id=\"T_04b3b_row1_col6\" class=\"data row1 col6\" >0.0 %</td>\n",
       "      <td id=\"T_04b3b_row1_col7\" class=\"data row1 col7\" >0.0 %</td>\n",
       "      <td id=\"T_04b3b_row1_col8\" class=\"data row1 col8\" >0.0 %</td>\n",
       "      <td id=\"T_04b3b_row1_col9\" class=\"data row1 col9\" >0.0 %</td>\n",
       "    </tr>\n",
       "    <tr>\n",
       "      <th id=\"T_04b3b_level0_row2\" class=\"row_heading level0 row2\" >2</th>\n",
       "      <td id=\"T_04b3b_row2_col0\" class=\"data row2 col0\" >1.0 %</td>\n",
       "      <td id=\"T_04b3b_row2_col1\" class=\"data row2 col1\" >0.0 %</td>\n",
       "      <td id=\"T_04b3b_row2_col2\" class=\"data row2 col2\" >91.3 %</td>\n",
       "      <td id=\"T_04b3b_row2_col3\" class=\"data row2 col3\" >1.0 %</td>\n",
       "      <td id=\"T_04b3b_row2_col4\" class=\"data row2 col4\" >1.9 %</td>\n",
       "      <td id=\"T_04b3b_row2_col5\" class=\"data row2 col5\" >1.0 %</td>\n",
       "      <td id=\"T_04b3b_row2_col6\" class=\"data row2 col6\" >0.0 %</td>\n",
       "      <td id=\"T_04b3b_row2_col7\" class=\"data row2 col7\" >1.9 %</td>\n",
       "      <td id=\"T_04b3b_row2_col8\" class=\"data row2 col8\" >1.0 %</td>\n",
       "      <td id=\"T_04b3b_row2_col9\" class=\"data row2 col9\" >1.0 %</td>\n",
       "    </tr>\n",
       "    <tr>\n",
       "      <th id=\"T_04b3b_level0_row3\" class=\"row_heading level0 row3\" >3</th>\n",
       "      <td id=\"T_04b3b_row3_col0\" class=\"data row3 col0\" >0.0 %</td>\n",
       "      <td id=\"T_04b3b_row3_col1\" class=\"data row3 col1\" >0.0 %</td>\n",
       "      <td id=\"T_04b3b_row3_col2\" class=\"data row3 col2\" >0.0 %</td>\n",
       "      <td id=\"T_04b3b_row3_col3\" class=\"data row3 col3\" >96.0 %</td>\n",
       "      <td id=\"T_04b3b_row3_col4\" class=\"data row3 col4\" >0.0 %</td>\n",
       "      <td id=\"T_04b3b_row3_col5\" class=\"data row3 col5\" >0.0 %</td>\n",
       "      <td id=\"T_04b3b_row3_col6\" class=\"data row3 col6\" >0.0 %</td>\n",
       "      <td id=\"T_04b3b_row3_col7\" class=\"data row3 col7\" >1.0 %</td>\n",
       "      <td id=\"T_04b3b_row3_col8\" class=\"data row3 col8\" >1.0 %</td>\n",
       "      <td id=\"T_04b3b_row3_col9\" class=\"data row3 col9\" >2.0 %</td>\n",
       "    </tr>\n",
       "    <tr>\n",
       "      <th id=\"T_04b3b_level0_row4\" class=\"row_heading level0 row4\" >4</th>\n",
       "      <td id=\"T_04b3b_row4_col0\" class=\"data row4 col0\" >0.0 %</td>\n",
       "      <td id=\"T_04b3b_row4_col1\" class=\"data row4 col1\" >0.0 %</td>\n",
       "      <td id=\"T_04b3b_row4_col2\" class=\"data row4 col2\" >0.0 %</td>\n",
       "      <td id=\"T_04b3b_row4_col3\" class=\"data row4 col3\" >0.0 %</td>\n",
       "      <td id=\"T_04b3b_row4_col4\" class=\"data row4 col4\" >96.9 %</td>\n",
       "      <td id=\"T_04b3b_row4_col5\" class=\"data row4 col5\" >0.0 %</td>\n",
       "      <td id=\"T_04b3b_row4_col6\" class=\"data row4 col6\" >2.0 %</td>\n",
       "      <td id=\"T_04b3b_row4_col7\" class=\"data row4 col7\" >0.0 %</td>\n",
       "      <td id=\"T_04b3b_row4_col8\" class=\"data row4 col8\" >0.0 %</td>\n",
       "      <td id=\"T_04b3b_row4_col9\" class=\"data row4 col9\" >1.0 %</td>\n",
       "    </tr>\n",
       "    <tr>\n",
       "      <th id=\"T_04b3b_level0_row5\" class=\"row_heading level0 row5\" >5</th>\n",
       "      <td id=\"T_04b3b_row5_col0\" class=\"data row5 col0\" >3.4 %</td>\n",
       "      <td id=\"T_04b3b_row5_col1\" class=\"data row5 col1\" >0.0 %</td>\n",
       "      <td id=\"T_04b3b_row5_col2\" class=\"data row5 col2\" >1.1 %</td>\n",
       "      <td id=\"T_04b3b_row5_col3\" class=\"data row5 col3\" >2.2 %</td>\n",
       "      <td id=\"T_04b3b_row5_col4\" class=\"data row5 col4\" >0.0 %</td>\n",
       "      <td id=\"T_04b3b_row5_col5\" class=\"data row5 col5\" >91.0 %</td>\n",
       "      <td id=\"T_04b3b_row5_col6\" class=\"data row5 col6\" >1.1 %</td>\n",
       "      <td id=\"T_04b3b_row5_col7\" class=\"data row5 col7\" >0.0 %</td>\n",
       "      <td id=\"T_04b3b_row5_col8\" class=\"data row5 col8\" >1.1 %</td>\n",
       "      <td id=\"T_04b3b_row5_col9\" class=\"data row5 col9\" >0.0 %</td>\n",
       "    </tr>\n",
       "    <tr>\n",
       "      <th id=\"T_04b3b_level0_row6\" class=\"row_heading level0 row6\" >6</th>\n",
       "      <td id=\"T_04b3b_row6_col0\" class=\"data row6 col0\" >3.1 %</td>\n",
       "      <td id=\"T_04b3b_row6_col1\" class=\"data row6 col1\" >0.0 %</td>\n",
       "      <td id=\"T_04b3b_row6_col2\" class=\"data row6 col2\" >0.0 %</td>\n",
       "      <td id=\"T_04b3b_row6_col3\" class=\"data row6 col3\" >0.0 %</td>\n",
       "      <td id=\"T_04b3b_row6_col4\" class=\"data row6 col4\" >1.0 %</td>\n",
       "      <td id=\"T_04b3b_row6_col5\" class=\"data row6 col5\" >2.1 %</td>\n",
       "      <td id=\"T_04b3b_row6_col6\" class=\"data row6 col6\" >93.8 %</td>\n",
       "      <td id=\"T_04b3b_row6_col7\" class=\"data row6 col7\" >0.0 %</td>\n",
       "      <td id=\"T_04b3b_row6_col8\" class=\"data row6 col8\" >0.0 %</td>\n",
       "      <td id=\"T_04b3b_row6_col9\" class=\"data row6 col9\" >0.0 %</td>\n",
       "    </tr>\n",
       "    <tr>\n",
       "      <th id=\"T_04b3b_level0_row7\" class=\"row_heading level0 row7\" >7</th>\n",
       "      <td id=\"T_04b3b_row7_col0\" class=\"data row7 col0\" >1.0 %</td>\n",
       "      <td id=\"T_04b3b_row7_col1\" class=\"data row7 col1\" >1.0 %</td>\n",
       "      <td id=\"T_04b3b_row7_col2\" class=\"data row7 col2\" >0.0 %</td>\n",
       "      <td id=\"T_04b3b_row7_col3\" class=\"data row7 col3\" >1.0 %</td>\n",
       "      <td id=\"T_04b3b_row7_col4\" class=\"data row7 col4\" >0.0 %</td>\n",
       "      <td id=\"T_04b3b_row7_col5\" class=\"data row7 col5\" >0.0 %</td>\n",
       "      <td id=\"T_04b3b_row7_col6\" class=\"data row7 col6\" >0.0 %</td>\n",
       "      <td id=\"T_04b3b_row7_col7\" class=\"data row7 col7\" >95.1 %</td>\n",
       "      <td id=\"T_04b3b_row7_col8\" class=\"data row7 col8\" >0.0 %</td>\n",
       "      <td id=\"T_04b3b_row7_col9\" class=\"data row7 col9\" >1.9 %</td>\n",
       "    </tr>\n",
       "    <tr>\n",
       "      <th id=\"T_04b3b_level0_row8\" class=\"row_heading level0 row8\" >8</th>\n",
       "      <td id=\"T_04b3b_row8_col0\" class=\"data row8 col0\" >1.0 %</td>\n",
       "      <td id=\"T_04b3b_row8_col1\" class=\"data row8 col1\" >0.0 %</td>\n",
       "      <td id=\"T_04b3b_row8_col2\" class=\"data row8 col2\" >1.0 %</td>\n",
       "      <td id=\"T_04b3b_row8_col3\" class=\"data row8 col3\" >1.0 %</td>\n",
       "      <td id=\"T_04b3b_row8_col4\" class=\"data row8 col4\" >2.1 %</td>\n",
       "      <td id=\"T_04b3b_row8_col5\" class=\"data row8 col5\" >2.1 %</td>\n",
       "      <td id=\"T_04b3b_row8_col6\" class=\"data row8 col6\" >1.0 %</td>\n",
       "      <td id=\"T_04b3b_row8_col7\" class=\"data row8 col7\" >2.1 %</td>\n",
       "      <td id=\"T_04b3b_row8_col8\" class=\"data row8 col8\" >88.7 %</td>\n",
       "      <td id=\"T_04b3b_row8_col9\" class=\"data row8 col9\" >1.0 %</td>\n",
       "    </tr>\n",
       "    <tr>\n",
       "      <th id=\"T_04b3b_level0_row9\" class=\"row_heading level0 row9\" >9</th>\n",
       "      <td id=\"T_04b3b_row9_col0\" class=\"data row9 col0\" >1.0 %</td>\n",
       "      <td id=\"T_04b3b_row9_col1\" class=\"data row9 col1\" >0.0 %</td>\n",
       "      <td id=\"T_04b3b_row9_col2\" class=\"data row9 col2\" >0.0 %</td>\n",
       "      <td id=\"T_04b3b_row9_col3\" class=\"data row9 col3\" >0.0 %</td>\n",
       "      <td id=\"T_04b3b_row9_col4\" class=\"data row9 col4\" >1.0 %</td>\n",
       "      <td id=\"T_04b3b_row9_col5\" class=\"data row9 col5\" >2.0 %</td>\n",
       "      <td id=\"T_04b3b_row9_col6\" class=\"data row9 col6\" >0.0 %</td>\n",
       "      <td id=\"T_04b3b_row9_col7\" class=\"data row9 col7\" >2.0 %</td>\n",
       "      <td id=\"T_04b3b_row9_col8\" class=\"data row9 col8\" >1.0 %</td>\n",
       "      <td id=\"T_04b3b_row9_col9\" class=\"data row9 col9\" >93.1 %</td>\n",
       "    </tr>\n",
       "  </tbody>\n",
       "</table>\n"
      ],
      "text/plain": [
       "<pandas.io.formats.style.Styler at 0x27104a3df70>"
      ]
     },
     "metadata": {},
     "output_type": "display_data"
    }
   ],
   "source": [
    "for normalize in [\"no\", \"columns\", \"rows\"]:\n",
    "    print_confusion_matrix(\n",
    "        conf_matrix,\n",
    "        selected_classes=selected_classes,\n",
    "        dict_of_real_class_names=dict_of_real_class_names,\n",
    "        normalize=normalize, # = \"columns\" (default), \"rows\" or \"no\"\n",
    "        precision=1,\n",
    "        color=\"green\" # = \"green\" (default), \"blue\", \"purple\", \"red\" or \"orange\"\n",
    "    )"
   ]
  },
  {
   "cell_type": "markdown",
   "id": "5d38c0e3",
   "metadata": {},
   "source": [
    "### Displaying the <ins>testing loss</ins>, the <ins>global accuracy scores</ins> and the <ins>mean confidence levels</ins> of the network"
   ]
  },
  {
   "cell_type": "code",
   "execution_count": 43,
   "id": "14bfbd5a",
   "metadata": {},
   "outputs": [
    {
     "name": "stdout",
     "output_type": "stream",
     "text": [
      "\n",
      "TESTING LOSS    : 0.2108\n",
      "\n",
      "GLOBAL ACCURACY : 94.30 %\n",
      "TOP-2  ACCURACY : 97.70 %\n",
      "\n",
      "MEAN CONFIDENCE LEVEL (FOR CORRECT PREDICTIONS) : 94.58 %\n",
      "MEAN CONFIDENCE LEVEL (FOR FALSE PREDICTIONS)   : 62.33 %\n",
      "\n"
     ]
    }
   ],
   "source": [
    "precision_loss = 4 # by default\n",
    "print(f\"\\nTESTING LOSS    : {test_loss:.{precision_loss}f}\")\n",
    "\n",
    "precision_accuracy = 2 # by default\n",
    "print(f\"\\nGLOBAL ACCURACY : {acc_score:.{precision_accuracy}f} %\")\n",
    "potential_extra_space = \" \" * int(top_N_accuracy < 10)\n",
    "print(f\"TOP-{top_N_accuracy}{potential_extra_space} ACCURACY : {top_N_acc_score:.{precision_accuracy}f} %\")\n",
    "\n",
    "mean_confidence_level_precision = 2 # by default\n",
    "print(f\"\\nMEAN CONFIDENCE LEVEL (FOR CORRECT PREDICTIONS) : {mean_confidence_level_correct_predictions:.{mean_confidence_level_precision}f} %\")\n",
    "print(f\"MEAN CONFIDENCE LEVEL (FOR FALSE PREDICTIONS)   : {mean_confidence_level_false_predictions:.{mean_confidence_level_precision}f} %\\n\")\n"
   ]
  },
  {
   "cell_type": "markdown",
   "id": "c2b5fb12",
   "metadata": {},
   "source": [
    "### Displaying some of the network's predictions (assuming the rows of `X_test` are flattened <ins>images</ins>)"
   ]
  },
  {
   "cell_type": "code",
   "execution_count": 44,
   "id": "b0f9ef72",
   "metadata": {},
   "outputs": [
    {
     "data": {
      "image/png": "[encoded data removed]",
      "text/plain": [
       "<Figure size 1152x576 with 10 Axes>"
      ]
     },
     "metadata": {
      "needs_background": "light"
     },
     "output_type": "display_data"
    }
   ],
   "source": [
    "if samples_are_images:\n",
    "    network.display_some_predictions(\n",
    "        X_test,\n",
    "        y_test,\n",
    "        selected_classes=selected_classes,\n",
    "        dict_of_real_class_names=dict_of_real_class_names,\n",
    "        image_shape=default_image_shape,\n",
    "        seed=None\n",
    "    )"
   ]
  },
  {
   "cell_type": "markdown",
   "id": "3945035c",
   "metadata": {},
   "source": [
    "<br/>"
   ]
  },
  {
   "cell_type": "markdown",
   "id": "01dde9ae",
   "metadata": {},
   "source": [
    "<center><h2>END</h2></center>"
   ]
  }
 ],
 "metadata": {
  "kernelspec": {
   "display_name": "Python 3 (ipykernel)",
   "language": "python",
   "name": "python3"
  },
  "language_info": {
   "codemirror_mode": {
    "name": "ipython",
    "version": 3
   },
   "file_extension": ".py",
   "mimetype": "text/x-python",
   "name": "python",
   "nbconvert_exporter": "python",
   "pygments_lexer": "ipython3",
   "version": "3.9.7"
  }
 },
 "nbformat": 4,
 "nbformat_minor": 5
}
