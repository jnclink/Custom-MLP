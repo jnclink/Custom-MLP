{
 "cells": [
  {
   "cell_type": "markdown",
   "id": "344ff2df",
   "metadata": {},
   "source": [
    "<center><h1>Custom Multi-Layer Perceptron (MLP)</h1></center>\n",
    "<center><h3>Implementing an MLP from scratch</h3></center>\n",
    "<br>"
   ]
  },
  {
   "cell_type": "markdown",
   "id": "d1b35cde",
   "metadata": {},
   "source": [
    "## Imports"
   ]
  },
  {
   "cell_type": "code",
   "execution_count": 1,
   "id": "70a5dad6",
   "metadata": {},
   "outputs": [
    {
     "name": "stdout",
     "output_type": "stream",
     "text": [
      "Done\n"
     ]
    }
   ],
   "source": [
    "from utils import print_confusion_matrix\n",
    "\n",
    "from mnist_dataset import (\n",
    "    load_raw_MNIST_dataset,\n",
    "    plot_random_images_from_raw_MNIST_dataset,\n",
    "    format_raw_MNIST_dataset\n",
    ")\n",
    "\n",
    "from layers import (\n",
    "    InputLayer,\n",
    "    DenseLayer,\n",
    "    ActivationLayer,\n",
    "    DropoutLayer\n",
    ")\n",
    "\n",
    "from network import Network\n",
    "\n",
    "print(\"Done\")"
   ]
  },
  {
   "cell_type": "markdown",
   "id": "02869d0a",
   "metadata": {},
   "source": [
    "## Loading and formatting the data"
   ]
  },
  {
   "cell_type": "markdown",
   "id": "33d37456",
   "metadata": {},
   "source": [
    "The following seed is currently used to :\n",
    "- Randomly split the raw data into the \"train\", \"val\" and \"test\" sets\n",
    "- Randomly shuffle the \"train\", \"val\" and \"test\" sets\n",
    "\n",
    "Set this seed to `None` for \"real\" randomness during those 2 processes"
   ]
  },
  {
   "cell_type": "code",
   "execution_count": 2,
   "id": "c441debd",
   "metadata": {},
   "outputs": [],
   "source": [
    "seed_data_formatting = 555"
   ]
  },
  {
   "cell_type": "markdown",
   "id": "ef0e07a7",
   "metadata": {},
   "source": [
    "Defining the number of samples in the \"train\", \"val\" and \"test\" sets<br>\n",
    "NB : The validation set is extracted from the raw \"train\" data, not from the raw \"test\" data. As a reminder, there are :\n",
    "- 60000 samples in the raw \"train\" data\n",
    "- 10000 samples in the raw \"test\" data"
   ]
  },
  {
   "cell_type": "code",
   "execution_count": 3,
   "id": "96009827",
   "metadata": {},
   "outputs": [],
   "source": [
    "nb_train_samples = 10000\n",
    "nb_val_samples   = 1000\n",
    "nb_test_samples  = 1000"
   ]
  },
  {
   "cell_type": "markdown",
   "id": "e3dc049d",
   "metadata": {},
   "source": [
    "Loading the raw data :"
   ]
  },
  {
   "cell_type": "code",
   "execution_count": 4,
   "id": "75a89bb3",
   "metadata": {},
   "outputs": [
    {
     "name": "stdout",
     "output_type": "stream",
     "text": [
      "\n",
      "The raw MNIST dataset was successfully loaded. Done in 0.251 seconds\n"
     ]
    }
   ],
   "source": [
    "raw_X_train, raw_y_train, raw_X_test, raw_y_test = load_raw_MNIST_dataset(\n",
    "    verbose=False\n",
    ")"
   ]
  },
  {
   "cell_type": "markdown",
   "id": "5915aedd",
   "metadata": {},
   "source": [
    "Plotting random samples of each digit (from the raw data) :"
   ]
  },
  {
   "cell_type": "code",
   "execution_count": 5,
   "id": "9e685725",
   "metadata": {},
   "outputs": [
    {
     "data": {
      "image/png": "[encoded data removed]",
      "text/plain": [
       "<Figure size 864x576 with 10 Axes>"
      ]
     },
     "metadata": {
      "needs_background": "light"
     },
     "output_type": "display_data"
    }
   ],
   "source": [
    "plot_random_images_from_raw_MNIST_dataset(\n",
    "    raw_X_train,\n",
    "    raw_y_train,\n",
    "    raw_X_test,\n",
    "    raw_y_test,\n",
    "    seed=None\n",
    ")"
   ]
  },
  {
   "cell_type": "markdown",
   "id": "ecb4002f",
   "metadata": {},
   "source": [
    "Formatting the raw data :"
   ]
  },
  {
   "cell_type": "code",
   "execution_count": 6,
   "id": "88645121",
   "metadata": {},
   "outputs": [
    {
     "name": "stdout",
     "output_type": "stream",
     "text": [
      "\n",
      "The raw MNIST dataset was successfully formatted. Done in 0.392 seconds\n"
     ]
    }
   ],
   "source": [
    "X_train, y_train, X_val, y_val, X_test, y_test = format_raw_MNIST_dataset(\n",
    "    raw_X_train,\n",
    "    raw_y_train,\n",
    "    raw_X_test,\n",
    "    raw_y_test,\n",
    "    nb_train_samples,\n",
    "    nb_val_samples,\n",
    "    nb_test_samples,\n",
    "    nb_shuffles=20,\n",
    "    seed=seed_data_formatting,\n",
    "    verbose=False\n",
    ")"
   ]
  },
  {
   "cell_type": "markdown",
   "id": "2fa502a3",
   "metadata": {},
   "source": [
    "Defining the input and output sizes of the network (respectively) :"
   ]
  },
  {
   "cell_type": "code",
   "execution_count": 7,
   "id": "bdb9da17",
   "metadata": {},
   "outputs": [],
   "source": [
    "nb_pixels_per_image = X_train.shape[1] # = 28 * 28 = 784 pixels per image\n",
    "nb_classes = y_train.shape[1] # = 10 digits"
   ]
  },
  {
   "cell_type": "code",
   "execution_count": 8,
   "id": "dba0685c",
   "metadata": {},
   "outputs": [
    {
     "data": {
      "text/plain": [
       "784"
      ]
     },
     "execution_count": 8,
     "metadata": {},
     "output_type": "execute_result"
    }
   ],
   "source": [
    "nb_pixels_per_image"
   ]
  },
  {
   "cell_type": "code",
   "execution_count": 9,
   "id": "d839c54f",
   "metadata": {},
   "outputs": [
    {
     "data": {
      "text/plain": [
       "10"
      ]
     },
     "execution_count": 9,
     "metadata": {},
     "output_type": "execute_result"
    }
   ],
   "source": [
    "nb_classes"
   ]
  },
  {
   "cell_type": "markdown",
   "id": "3e89f77c",
   "metadata": {},
   "source": [
    "## Defining the hyperparameters of the Multi-Layer Perceptron (MLP) network"
   ]
  },
  {
   "cell_type": "markdown",
   "id": "9d80542c",
   "metadata": {},
   "source": [
    "The following seed is currently used to :<br>\n",
    "- Randomly initialize the weights and biases of the Dense layers\n",
    "- Randomly generate the dropout matrices of the Dropout layers (if these layers are used)\n",
    "- Randomly split the training data into batches during the training phase (at each epoch)\n",
    "\n",
    "Set this seed to `None` for \"real\" randomness during those 3 processes"
   ]
  },
  {
   "cell_type": "code",
   "execution_count": 10,
   "id": "02027eaa",
   "metadata": {},
   "outputs": [],
   "source": [
    "seed_network = 1555"
   ]
  },
  {
   "cell_type": "markdown",
   "id": "7903014b",
   "metadata": {},
   "source": [
    "Main hyperparameters :"
   ]
  },
  {
   "cell_type": "code",
   "execution_count": 11,
   "id": "03673d64",
   "metadata": {},
   "outputs": [],
   "source": [
    "nb_epochs = 5\n",
    "learning_rate = 0.15\n",
    "\n",
    "train_batch_size = 40\n",
    "\n",
    "nb_neurons_hidden_dense_layers = [\n",
    "    256,\n",
    "    64,\n",
    "    32\n",
    "]\n",
    "\n",
    "use_dropout_layers = False\n",
    "dropout_rate = 0.10"
   ]
  },
  {
   "cell_type": "markdown",
   "id": "f2e5fec3",
   "metadata": {},
   "source": [
    "## Building the MLP network architecture from the previously defined hyperparameters"
   ]
  },
  {
   "cell_type": "markdown",
   "id": "1220ae0f",
   "metadata": {},
   "source": [
    "### Initializing the network"
   ]
  },
  {
   "cell_type": "markdown",
   "id": "ab6a0ece",
   "metadata": {},
   "source": [
    "If you set `normalize_input_data` to `True`, every time the data will be split into batches (during the training, validation AND testing phases), each resulting batch will be normalized such that its mean is 0 and its standard deviation is 1. It's HIGHLY recommended to set `normalize_input_data` to `True` here, in order to have better performances"
   ]
  },
  {
   "cell_type": "code",
   "execution_count": 12,
   "id": "96d5b8aa",
   "metadata": {},
   "outputs": [],
   "source": [
    "network = Network(normalize_input_data=True)"
   ]
  },
  {
   "cell_type": "markdown",
   "id": "a2f4c8f3",
   "metadata": {},
   "source": [
    "Input layer :"
   ]
  },
  {
   "cell_type": "code",
   "execution_count": 13,
   "id": "b8707a92",
   "metadata": {},
   "outputs": [],
   "source": [
    "network.add(InputLayer(input_size=nb_pixels_per_image))"
   ]
  },
  {
   "cell_type": "markdown",
   "id": "5e7062c7",
   "metadata": {},
   "source": [
    "### Hidden layers"
   ]
  },
  {
   "cell_type": "code",
   "execution_count": 14,
   "id": "0ad05d1f",
   "metadata": {},
   "outputs": [],
   "source": [
    "for hidden_layer_index, nb_neurons in enumerate(nb_neurons_hidden_dense_layers):\n",
    "    network.add(DenseLayer(nb_neurons, seed=seed_network+hidden_layer_index))\n",
    "    \n",
    "    \"\"\"\n",
    "    Possible relevant choices here (the activation name is case insensitive) :\n",
    "        network.add(ActivationLayer(\"ReLU\"))\n",
    "        OR\n",
    "        network.add(ActivationLayer(\"leaky_ReLU\", leaky_ReLU_coeff=0.01))\n",
    "        OR\n",
    "        network.add(ActivationLayer(\"tanh\"))\n",
    "    \"\"\"\n",
    "    \n",
    "    # Adding an activation layer (usually ReLU)\n",
    "    network.add(ActivationLayer(\"ReLU\"))\n",
    "    \n",
    "    if use_dropout_layers:\n",
    "        # Adding a dropout regularization layer\n",
    "        network.add(DropoutLayer(dropout_rate, seed=seed_network+hidden_layer_index))"
   ]
  },
  {
   "cell_type": "markdown",
   "id": "3ceeda95",
   "metadata": {},
   "source": [
    "### Output layer"
   ]
  },
  {
   "cell_type": "code",
   "execution_count": 15,
   "id": "4b61af58",
   "metadata": {},
   "outputs": [],
   "source": [
    "network.add(DenseLayer(nb_classes, seed=seed_network+len(nb_neurons_hidden_dense_layers)))\n",
    "\n",
    "\"\"\"\n",
    "Possible relevant choices here (the activation name is case insensitive) :\n",
    "    network.add(ActivationLayer(\"softmax\"))\n",
    "    OR\n",
    "    network.add(ActivationLayer(\"sigmoid\"))\n",
    "\"\"\"\n",
    "\n",
    "# Adding the very last activation layer (usually softmax)\n",
    "network.add(ActivationLayer(\"softmax\"))"
   ]
  },
  {
   "cell_type": "markdown",
   "id": "280efbb0",
   "metadata": {},
   "source": [
    "### Displaying the summary of the network's architecture"
   ]
  },
  {
   "cell_type": "code",
   "execution_count": 16,
   "id": "d7ba7c8f",
   "metadata": {},
   "outputs": [
    {
     "name": "stdout",
     "output_type": "stream",
     "text": [
      "\n",
      " *****************************************************************************************\n",
      " *                                                                                       *\n",
      " *                                    NETWORK SUMMARY                                    *\n",
      " *                                                                                       *\n",
      " *    Layer                  |  Input shape  |  Output shape  |  Trainable parameters    *\n",
      " *    -----------------------|---------------|----------------|----------------------    *\n",
      " *    Input(784)             |  (None, 784)  |  (None, 784)   |  0                       *\n",
      " *    Dense(256)             |  (None, 784)  |  (None, 256)   |  200,960                 *\n",
      " *    Activation(\"relu\")     |  (None, 256)  |  (None, 256)   |  0                       *\n",
      " *    Dense(64)              |  (None, 256)  |  (None, 64)    |  16,448                  *\n",
      " *    Activation(\"relu\")     |  (None, 64)   |  (None, 64)    |  0                       *\n",
      " *    Dense(32)              |  (None, 64)   |  (None, 32)    |  2,080                   *\n",
      " *    Activation(\"relu\")     |  (None, 32)   |  (None, 32)    |  0                       *\n",
      " *    Dense(10)              |  (None, 32)   |  (None, 10)    |  330                     *\n",
      " *    Activation(\"softmax\")  |  (None, 10)   |  (None, 10)    |  0                       *\n",
      " *                                                                                       *\n",
      " *    Total number of trainable parameters : 219,818                                     *\n",
      " *                                                                                       *\n",
      " *****************************************************************************************\n"
     ]
    }
   ],
   "source": [
    "# NB : The kwargs of this method will only affect how the summary will look\n",
    "#      like when it's printed (they won't affect the summary's contents)\n",
    "network.summary(\n",
    "    initial_spacing=1,\n",
    "    column_separator=\"|\", # can be multiple characters long\n",
    "    row_separator=\"-\",    # has to be a single character\n",
    "    bounding_box=\"*\"      # has to be a single character\n",
    ")\n",
    "\n",
    "# Or, equivalently, you can run : `print(network)`"
   ]
  },
  {
   "cell_type": "markdown",
   "id": "b08c3371",
   "metadata": {},
   "source": [
    "## Setting the loss function of the network"
   ]
  },
  {
   "cell_type": "code",
   "execution_count": 17,
   "id": "902322ee",
   "metadata": {},
   "outputs": [],
   "source": [
    "\"\"\"\n",
    "Possible relevant choices here (the loss function name is case insensitive) :\n",
    "    network.set_loss_function(\"MSE\") # MSE = Mean Square Error\n",
    "    OR\n",
    "    network.set_loss_function(\"CCE\") # CCE = Categorical Cross-Entropy\n",
    "\"\"\"\n",
    "\n",
    "network.set_loss_function(\"MSE\")"
   ]
  },
  {
   "cell_type": "markdown",
   "id": "b75f3c89",
   "metadata": {},
   "source": [
    "## Training phase"
   ]
  },
  {
   "cell_type": "code",
   "execution_count": 18,
   "id": "80ec2647",
   "metadata": {},
   "outputs": [],
   "source": [
    "training_data = (X_train, y_train)\n",
    "validation_data = (X_val, y_val)"
   ]
  },
  {
   "cell_type": "code",
   "execution_count": 19,
   "id": "6047437b",
   "metadata": {},
   "outputs": [
    {
     "name": "stdout",
     "output_type": "stream",
     "text": [
      "\n",
      "# ----------------------------------------------------------------------------------------------- #\n",
      "\n",
      "     Starting the training loop ...\n",
      "\n",
      "     epoch 1/5  -  loss=0.0515  -  val_loss=0.0241  -  accuracy=0.6151  -  val_accuracy=0.8540                                                        \n",
      "     epoch 2/5  -  loss=0.0193  -  val_loss=0.0168  -  accuracy=0.8756  -  val_accuracy=0.8940                                                        \n",
      "     epoch 3/5  -  loss=0.0137  -  val_loss=0.0141  -  accuracy=0.9146  -  val_accuracy=0.9090                                                        \n",
      "     epoch 4/5  -  loss=0.0112  -  val_loss=0.0128  -  accuracy=0.9302  -  val_accuracy=0.9150                                                        \n",
      "     epoch 5/5  -  loss=0.0096  -  val_loss=0.0119  -  accuracy=0.9402  -  val_accuracy=0.9220                                                        \n",
      "\n",
      "     Training complete ! Done in 14.7 seconds (2.9 s/epoch, 0.012 s/batch)\n",
      "\n",
      "# ----------------------------------------------------------------------------------------------- #\n"
     ]
    }
   ],
   "source": [
    "network.fit(\n",
    "    training_data,\n",
    "    validation_data,\n",
    "    nb_epochs,\n",
    "    learning_rate,\n",
    "    train_batch_size,\n",
    "    nb_shuffles_before_train_batch_split=10,\n",
    "    seed_train_batch_split=seed_network,\n",
    "    val_batch_size=32\n",
    ")"
   ]
  },
  {
   "cell_type": "markdown",
   "id": "e9c17e5b",
   "metadata": {},
   "source": [
    "## RESULTS"
   ]
  },
  {
   "cell_type": "markdown",
   "id": "e8250ee2",
   "metadata": {},
   "source": [
    "Plotting the network's history :"
   ]
  },
  {
   "cell_type": "code",
   "execution_count": 20,
   "id": "36817b77",
   "metadata": {},
   "outputs": [
    {
     "data": {
      "image/png": "[encoded data removed]",
      "text/plain": [
       "<Figure size 1152x576 with 2 Axes>"
      ]
     },
     "metadata": {
      "needs_background": "light"
     },
     "output_type": "display_data"
    }
   ],
   "source": [
    "network.plot_history(\n",
    "    save_plot_to_disk=False,\n",
    "    saved_image_name=\"network_history\" # it will be saved as a PNG image by default\n",
    ")"
   ]
  },
  {
   "cell_type": "markdown",
   "id": "ca9c55dc",
   "metadata": {},
   "source": [
    "Computing the accuracy score and the confusion matrix :"
   ]
  },
  {
   "cell_type": "code",
   "execution_count": 21,
   "id": "0de53198",
   "metadata": {},
   "outputs": [],
   "source": [
    "acc_score, conf_matrix = network.evaluate(\n",
    "    X_test,\n",
    "    y_test,\n",
    "    test_batch_size=32\n",
    ")"
   ]
  },
  {
   "cell_type": "markdown",
   "id": "d0833446",
   "metadata": {},
   "source": [
    "Displaying the confusion matrix :"
   ]
  },
  {
   "cell_type": "code",
   "execution_count": 22,
   "id": "08f7b7c8",
   "metadata": {},
   "outputs": [
    {
     "name": "stdout",
     "output_type": "stream",
     "text": [
      "\n",
      "CONFUSION MATRIX (normalized=\"lines\") :\n"
     ]
    },
    {
     "data": {
      "text/html": [
       "<style type=\"text/css\">\n",
       "#T_bf18d_row0_col0, #T_bf18d_row1_col1, #T_bf18d_row2_col2, #T_bf18d_row3_col3, #T_bf18d_row4_col4, #T_bf18d_row5_col5, #T_bf18d_row6_col6, #T_bf18d_row7_col7, #T_bf18d_row8_col8, #T_bf18d_row9_col9 {\n",
       "  background-color: green;\n",
       "}\n",
       "</style>\n",
       "<table id=\"T_bf18d_\">\n",
       "  <thead>\n",
       "    <tr>\n",
       "      <th class=\"index_name level0\" >ACTUAL</th>\n",
       "      <th class=\"col_heading level0 col0\" >0</th>\n",
       "      <th class=\"col_heading level0 col1\" >1</th>\n",
       "      <th class=\"col_heading level0 col2\" >2</th>\n",
       "      <th class=\"col_heading level0 col3\" >3</th>\n",
       "      <th class=\"col_heading level0 col4\" >4</th>\n",
       "      <th class=\"col_heading level0 col5\" >5</th>\n",
       "      <th class=\"col_heading level0 col6\" >6</th>\n",
       "      <th class=\"col_heading level0 col7\" >7</th>\n",
       "      <th class=\"col_heading level0 col8\" >8</th>\n",
       "      <th class=\"col_heading level0 col9\" >9</th>\n",
       "    </tr>\n",
       "    <tr>\n",
       "      <th class=\"index_name level0\" >PREDICTED</th>\n",
       "      <th class=\"blank col0\" >&nbsp;</th>\n",
       "      <th class=\"blank col1\" >&nbsp;</th>\n",
       "      <th class=\"blank col2\" >&nbsp;</th>\n",
       "      <th class=\"blank col3\" >&nbsp;</th>\n",
       "      <th class=\"blank col4\" >&nbsp;</th>\n",
       "      <th class=\"blank col5\" >&nbsp;</th>\n",
       "      <th class=\"blank col6\" >&nbsp;</th>\n",
       "      <th class=\"blank col7\" >&nbsp;</th>\n",
       "      <th class=\"blank col8\" >&nbsp;</th>\n",
       "      <th class=\"blank col9\" >&nbsp;</th>\n",
       "    </tr>\n",
       "  </thead>\n",
       "  <tbody>\n",
       "    <tr>\n",
       "      <th id=\"T_bf18d_level0_row0\" class=\"row_heading level0 row0\" >0</th>\n",
       "      <td id=\"T_bf18d_row0_col0\" class=\"data row0 col0\" >93.2 %</td>\n",
       "      <td id=\"T_bf18d_row0_col1\" class=\"data row0 col1\" >0.0 %</td>\n",
       "      <td id=\"T_bf18d_row0_col2\" class=\"data row0 col2\" >2.9 %</td>\n",
       "      <td id=\"T_bf18d_row0_col3\" class=\"data row0 col3\" >0.0 %</td>\n",
       "      <td id=\"T_bf18d_row0_col4\" class=\"data row0 col4\" >0.0 %</td>\n",
       "      <td id=\"T_bf18d_row0_col5\" class=\"data row0 col5\" >1.9 %</td>\n",
       "      <td id=\"T_bf18d_row0_col6\" class=\"data row0 col6\" >0.0 %</td>\n",
       "      <td id=\"T_bf18d_row0_col7\" class=\"data row0 col7\" >0.0 %</td>\n",
       "      <td id=\"T_bf18d_row0_col8\" class=\"data row0 col8\" >1.9 %</td>\n",
       "      <td id=\"T_bf18d_row0_col9\" class=\"data row0 col9\" >0.0 %</td>\n",
       "    </tr>\n",
       "    <tr>\n",
       "      <th id=\"T_bf18d_level0_row1\" class=\"row_heading level0 row1\" >1</th>\n",
       "      <td id=\"T_bf18d_row1_col0\" class=\"data row1 col0\" >0.0 %</td>\n",
       "      <td id=\"T_bf18d_row1_col1\" class=\"data row1 col1\" >97.4 %</td>\n",
       "      <td id=\"T_bf18d_row1_col2\" class=\"data row1 col2\" >0.9 %</td>\n",
       "      <td id=\"T_bf18d_row1_col3\" class=\"data row1 col3\" >0.0 %</td>\n",
       "      <td id=\"T_bf18d_row1_col4\" class=\"data row1 col4\" >0.0 %</td>\n",
       "      <td id=\"T_bf18d_row1_col5\" class=\"data row1 col5\" >0.9 %</td>\n",
       "      <td id=\"T_bf18d_row1_col6\" class=\"data row1 col6\" >0.0 %</td>\n",
       "      <td id=\"T_bf18d_row1_col7\" class=\"data row1 col7\" >0.0 %</td>\n",
       "      <td id=\"T_bf18d_row1_col8\" class=\"data row1 col8\" >0.0 %</td>\n",
       "      <td id=\"T_bf18d_row1_col9\" class=\"data row1 col9\" >0.9 %</td>\n",
       "    </tr>\n",
       "    <tr>\n",
       "      <th id=\"T_bf18d_level0_row2\" class=\"row_heading level0 row2\" >2</th>\n",
       "      <td id=\"T_bf18d_row2_col0\" class=\"data row2 col0\" >1.0 %</td>\n",
       "      <td id=\"T_bf18d_row2_col1\" class=\"data row2 col1\" >0.0 %</td>\n",
       "      <td id=\"T_bf18d_row2_col2\" class=\"data row2 col2\" >94.0 %</td>\n",
       "      <td id=\"T_bf18d_row2_col3\" class=\"data row2 col3\" >1.0 %</td>\n",
       "      <td id=\"T_bf18d_row2_col4\" class=\"data row2 col4\" >1.0 %</td>\n",
       "      <td id=\"T_bf18d_row2_col5\" class=\"data row2 col5\" >0.0 %</td>\n",
       "      <td id=\"T_bf18d_row2_col6\" class=\"data row2 col6\" >0.0 %</td>\n",
       "      <td id=\"T_bf18d_row2_col7\" class=\"data row2 col7\" >1.0 %</td>\n",
       "      <td id=\"T_bf18d_row2_col8\" class=\"data row2 col8\" >1.0 %</td>\n",
       "      <td id=\"T_bf18d_row2_col9\" class=\"data row2 col9\" >1.0 %</td>\n",
       "    </tr>\n",
       "    <tr>\n",
       "      <th id=\"T_bf18d_level0_row3\" class=\"row_heading level0 row3\" >3</th>\n",
       "      <td id=\"T_bf18d_row3_col0\" class=\"data row3 col0\" >0.0 %</td>\n",
       "      <td id=\"T_bf18d_row3_col1\" class=\"data row3 col1\" >0.0 %</td>\n",
       "      <td id=\"T_bf18d_row3_col2\" class=\"data row3 col2\" >0.0 %</td>\n",
       "      <td id=\"T_bf18d_row3_col3\" class=\"data row3 col3\" >92.9 %</td>\n",
       "      <td id=\"T_bf18d_row3_col4\" class=\"data row3 col4\" >0.0 %</td>\n",
       "      <td id=\"T_bf18d_row3_col5\" class=\"data row3 col5\" >4.0 %</td>\n",
       "      <td id=\"T_bf18d_row3_col6\" class=\"data row3 col6\" >0.0 %</td>\n",
       "      <td id=\"T_bf18d_row3_col7\" class=\"data row3 col7\" >1.0 %</td>\n",
       "      <td id=\"T_bf18d_row3_col8\" class=\"data row3 col8\" >1.0 %</td>\n",
       "      <td id=\"T_bf18d_row3_col9\" class=\"data row3 col9\" >1.0 %</td>\n",
       "    </tr>\n",
       "    <tr>\n",
       "      <th id=\"T_bf18d_level0_row4\" class=\"row_heading level0 row4\" >4</th>\n",
       "      <td id=\"T_bf18d_row4_col0\" class=\"data row4 col0\" >0.0 %</td>\n",
       "      <td id=\"T_bf18d_row4_col1\" class=\"data row4 col1\" >0.0 %</td>\n",
       "      <td id=\"T_bf18d_row4_col2\" class=\"data row4 col2\" >0.0 %</td>\n",
       "      <td id=\"T_bf18d_row4_col3\" class=\"data row4 col3\" >0.0 %</td>\n",
       "      <td id=\"T_bf18d_row4_col4\" class=\"data row4 col4\" >93.8 %</td>\n",
       "      <td id=\"T_bf18d_row4_col5\" class=\"data row4 col5\" >1.0 %</td>\n",
       "      <td id=\"T_bf18d_row4_col6\" class=\"data row4 col6\" >1.0 %</td>\n",
       "      <td id=\"T_bf18d_row4_col7\" class=\"data row4 col7\" >0.0 %</td>\n",
       "      <td id=\"T_bf18d_row4_col8\" class=\"data row4 col8\" >2.1 %</td>\n",
       "      <td id=\"T_bf18d_row4_col9\" class=\"data row4 col9\" >2.1 %</td>\n",
       "    </tr>\n",
       "    <tr>\n",
       "      <th id=\"T_bf18d_level0_row5\" class=\"row_heading level0 row5\" >5</th>\n",
       "      <td id=\"T_bf18d_row5_col0\" class=\"data row5 col0\" >0.0 %</td>\n",
       "      <td id=\"T_bf18d_row5_col1\" class=\"data row5 col1\" >0.0 %</td>\n",
       "      <td id=\"T_bf18d_row5_col2\" class=\"data row5 col2\" >1.2 %</td>\n",
       "      <td id=\"T_bf18d_row5_col3\" class=\"data row5 col3\" >2.5 %</td>\n",
       "      <td id=\"T_bf18d_row5_col4\" class=\"data row5 col4\" >0.0 %</td>\n",
       "      <td id=\"T_bf18d_row5_col5\" class=\"data row5 col5\" >92.6 %</td>\n",
       "      <td id=\"T_bf18d_row5_col6\" class=\"data row5 col6\" >0.0 %</td>\n",
       "      <td id=\"T_bf18d_row5_col7\" class=\"data row5 col7\" >0.0 %</td>\n",
       "      <td id=\"T_bf18d_row5_col8\" class=\"data row5 col8\" >1.2 %</td>\n",
       "      <td id=\"T_bf18d_row5_col9\" class=\"data row5 col9\" >2.5 %</td>\n",
       "    </tr>\n",
       "    <tr>\n",
       "      <th id=\"T_bf18d_level0_row6\" class=\"row_heading level0 row6\" >6</th>\n",
       "      <td id=\"T_bf18d_row6_col0\" class=\"data row6 col0\" >0.0 %</td>\n",
       "      <td id=\"T_bf18d_row6_col1\" class=\"data row6 col1\" >1.0 %</td>\n",
       "      <td id=\"T_bf18d_row6_col2\" class=\"data row6 col2\" >0.0 %</td>\n",
       "      <td id=\"T_bf18d_row6_col3\" class=\"data row6 col3\" >0.0 %</td>\n",
       "      <td id=\"T_bf18d_row6_col4\" class=\"data row6 col4\" >2.0 %</td>\n",
       "      <td id=\"T_bf18d_row6_col5\" class=\"data row6 col5\" >0.0 %</td>\n",
       "      <td id=\"T_bf18d_row6_col6\" class=\"data row6 col6\" >95.9 %</td>\n",
       "      <td id=\"T_bf18d_row6_col7\" class=\"data row6 col7\" >0.0 %</td>\n",
       "      <td id=\"T_bf18d_row6_col8\" class=\"data row6 col8\" >0.0 %</td>\n",
       "      <td id=\"T_bf18d_row6_col9\" class=\"data row6 col9\" >1.0 %</td>\n",
       "    </tr>\n",
       "    <tr>\n",
       "      <th id=\"T_bf18d_level0_row7\" class=\"row_heading level0 row7\" >7</th>\n",
       "      <td id=\"T_bf18d_row7_col0\" class=\"data row7 col0\" >0.0 %</td>\n",
       "      <td id=\"T_bf18d_row7_col1\" class=\"data row7 col1\" >0.0 %</td>\n",
       "      <td id=\"T_bf18d_row7_col2\" class=\"data row7 col2\" >0.9 %</td>\n",
       "      <td id=\"T_bf18d_row7_col3\" class=\"data row7 col3\" >2.8 %</td>\n",
       "      <td id=\"T_bf18d_row7_col4\" class=\"data row7 col4\" >0.0 %</td>\n",
       "      <td id=\"T_bf18d_row7_col5\" class=\"data row7 col5\" >0.9 %</td>\n",
       "      <td id=\"T_bf18d_row7_col6\" class=\"data row7 col6\" >0.9 %</td>\n",
       "      <td id=\"T_bf18d_row7_col7\" class=\"data row7 col7\" >92.5 %</td>\n",
       "      <td id=\"T_bf18d_row7_col8\" class=\"data row7 col8\" >0.9 %</td>\n",
       "      <td id=\"T_bf18d_row7_col9\" class=\"data row7 col9\" >0.9 %</td>\n",
       "    </tr>\n",
       "    <tr>\n",
       "      <th id=\"T_bf18d_level0_row8\" class=\"row_heading level0 row8\" >8</th>\n",
       "      <td id=\"T_bf18d_row8_col0\" class=\"data row8 col0\" >1.0 %</td>\n",
       "      <td id=\"T_bf18d_row8_col1\" class=\"data row8 col1\" >0.0 %</td>\n",
       "      <td id=\"T_bf18d_row8_col2\" class=\"data row8 col2\" >2.1 %</td>\n",
       "      <td id=\"T_bf18d_row8_col3\" class=\"data row8 col3\" >1.0 %</td>\n",
       "      <td id=\"T_bf18d_row8_col4\" class=\"data row8 col4\" >0.0 %</td>\n",
       "      <td id=\"T_bf18d_row8_col5\" class=\"data row8 col5\" >4.1 %</td>\n",
       "      <td id=\"T_bf18d_row8_col6\" class=\"data row8 col6\" >0.0 %</td>\n",
       "      <td id=\"T_bf18d_row8_col7\" class=\"data row8 col7\" >0.0 %</td>\n",
       "      <td id=\"T_bf18d_row8_col8\" class=\"data row8 col8\" >90.7 %</td>\n",
       "      <td id=\"T_bf18d_row8_col9\" class=\"data row8 col9\" >1.0 %</td>\n",
       "    </tr>\n",
       "    <tr>\n",
       "      <th id=\"T_bf18d_level0_row9\" class=\"row_heading level0 row9\" >9</th>\n",
       "      <td id=\"T_bf18d_row9_col0\" class=\"data row9 col0\" >0.0 %</td>\n",
       "      <td id=\"T_bf18d_row9_col1\" class=\"data row9 col1\" >0.0 %</td>\n",
       "      <td id=\"T_bf18d_row9_col2\" class=\"data row9 col2\" >1.0 %</td>\n",
       "      <td id=\"T_bf18d_row9_col3\" class=\"data row9 col3\" >1.9 %</td>\n",
       "      <td id=\"T_bf18d_row9_col4\" class=\"data row9 col4\" >4.9 %</td>\n",
       "      <td id=\"T_bf18d_row9_col5\" class=\"data row9 col5\" >1.0 %</td>\n",
       "      <td id=\"T_bf18d_row9_col6\" class=\"data row9 col6\" >0.0 %</td>\n",
       "      <td id=\"T_bf18d_row9_col7\" class=\"data row9 col7\" >1.9 %</td>\n",
       "      <td id=\"T_bf18d_row9_col8\" class=\"data row9 col8\" >1.0 %</td>\n",
       "      <td id=\"T_bf18d_row9_col9\" class=\"data row9 col9\" >88.3 %</td>\n",
       "    </tr>\n",
       "  </tbody>\n",
       "</table>\n"
      ],
      "text/plain": [
       "<pandas.io.formats.style.Styler at 0x2bb4a116040>"
      ]
     },
     "execution_count": 22,
     "metadata": {},
     "output_type": "execute_result"
    }
   ],
   "source": [
    "# NB : When you load this notebook for the first time, the diagonal won't be\n",
    "#      highlighted in green (the output will be the unstyled confusion matrix).\n",
    "#      Simply re-run the entire notebook to see the highlighting of the diagonal !\n",
    "print_confusion_matrix(\n",
    "    conf_matrix,\n",
    "    normalize=\"lines\", # = \"lines\", \"columns\" or \"no\"\n",
    "    precision=1,\n",
    "    jupyter_notebook=True\n",
    ")"
   ]
  },
  {
   "cell_type": "markdown",
   "id": "5d38c0e3",
   "metadata": {},
   "source": [
    "Displaying the global accuracy score :"
   ]
  },
  {
   "cell_type": "code",
   "execution_count": 23,
   "id": "14bfbd5a",
   "metadata": {},
   "outputs": [
    {
     "name": "stdout",
     "output_type": "stream",
     "text": [
      "\n",
      "GLOBAL ACCURACY : 93.20 %\n",
      "\n"
     ]
    }
   ],
   "source": [
    "precision = 2 # by default\n",
    "print(f\"\\nGLOBAL ACCURACY : {acc_score:.{precision}f} %\\n\")"
   ]
  },
  {
   "cell_type": "markdown",
   "id": "c2b5fb12",
   "metadata": {},
   "source": [
    "Displaying some of the network's predictions (for testing purposes only) :"
   ]
  },
  {
   "cell_type": "code",
   "execution_count": 24,
   "id": "b0f9ef72",
   "metadata": {},
   "outputs": [
    {
     "data": {
      "image/png": "[encoded data removed]",
      "text/plain": [
       "<Figure size 1152x576 with 10 Axes>"
      ]
     },
     "metadata": {
      "needs_background": "light"
     },
     "output_type": "display_data"
    }
   ],
   "source": [
    "network.display_some_predictions(\n",
    "    X_test,\n",
    "    y_test,\n",
    "    seed=None\n",
    ")"
   ]
  },
  {
   "cell_type": "markdown",
   "id": "2f412b7d",
   "metadata": {},
   "source": [
    "<center><h2>END</h2></center>"
   ]
  }
 ],
 "metadata": {
  "kernelspec": {
   "display_name": "Python 3 (ipykernel)",
   "language": "python",
   "name": "python3"
  },
  "language_info": {
   "codemirror_mode": {
    "name": "ipython",
    "version": 3
   },
   "file_extension": ".py",
   "mimetype": "text/x-python",
   "name": "python",
   "nbconvert_exporter": "python",
   "pygments_lexer": "ipython3",
   "version": "3.9.7"
  }
 },
 "nbformat": 4,
 "nbformat_minor": 5
}
